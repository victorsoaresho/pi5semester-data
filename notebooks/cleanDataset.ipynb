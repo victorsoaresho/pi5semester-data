{
 "cells": [
  {
   "cell_type": "code",
   "execution_count": 1,
   "metadata": {
    "execution": {
     "iopub.execute_input": "2023-05-05T21:00:36.865652Z",
     "iopub.status.busy": "2023-05-05T21:00:36.865201Z",
     "iopub.status.idle": "2023-05-05T21:00:37.491202Z",
     "shell.execute_reply": "2023-05-05T21:00:37.490149Z",
     "shell.execute_reply.started": "2023-05-05T21:00:36.865557Z"
    },
    "trusted": true
   },
   "outputs": [
    {
     "data": {
      "text/plain": [
       "9"
      ]
     },
     "execution_count": 1,
     "metadata": {},
     "output_type": "execute_result"
    }
   ],
   "source": [
    "import numpy as np\n",
    "import pandas as pd\n",
    "import matplotlib as mpl\n",
    "import matplotlib.pyplot as plt\n",
    "import seaborn as sns\n",
    "import scipy.stats as stats\n",
    "\n",
    "# import warnings\n",
    "# # Suppressing a warning \n",
    "# warnings.filterwarnings(\"ignore\") \n",
    "# warnings.warn(\"this will not show\")\n",
    "\n",
    "import re\n",
    "import time\n",
    "import random\n",
    "import tempfile\n",
    "from tqdm.notebook import tqdm\n",
    "\n",
    "import gc\n",
    "gc.collect()"
   ]
  },
  {
   "cell_type": "markdown",
   "metadata": {
    "_cell_guid": "a10a7ab7-6760-4caa-8779-a3c2148e775d",
    "_uuid": "aad9ae8c-30fa-45ca-8ca3-0f3eab808dc1",
    "trusted": true
   },
   "source": [
    "## Reading the Data from File"
   ]
  },
  {
   "cell_type": "code",
   "execution_count": 3,
   "metadata": {
    "_cell_guid": "eed17339-c843-41c1-94b8-9e0cafb4c69d",
    "_uuid": "4230d894-e2ae-4c63-a1a1-7a1581130990",
    "collapsed": false,
    "execution": {
     "iopub.execute_input": "2023-05-05T21:00:37.887947Z",
     "iopub.status.busy": "2023-05-05T21:00:37.887534Z",
     "iopub.status.idle": "2023-05-05T21:00:38.924539Z",
     "shell.execute_reply": "2023-05-05T21:00:38.923336Z",
     "shell.execute_reply.started": "2023-05-05T21:00:37.887908Z"
    },
    "jupyter": {
     "outputs_hidden": false
    },
    "trusted": true
   },
   "outputs": [
    {
     "name": "stdout",
     "output_type": "stream",
     "text": [
      "Warning: Looks like you're using an outdated `kagglehub` version, please consider updating (latest version: 0.3.13)\n"
     ]
    },
    {
     "name": "stderr",
     "output_type": "stream",
     "text": [
      "/tmp/ipykernel_1175354/854994409.py:5: DtypeWarning: Columns (26) have mixed types. Specify dtype option on import or set low_memory=False.\n",
      "  df_train = pd.read_csv(os.path.join(path, \"train.csv\"))\n"
     ]
    }
   ],
   "source": [
    "import kagglehub\n",
    "import os\n",
    "\n",
    "path = kagglehub.dataset_download(\"parisrohan/credit-score-classification\")\n",
    "df_train = pd.read_csv(os.path.join(path, \"train.csv\"))"
   ]
  },
  {
   "cell_type": "code",
   "execution_count": 4,
   "metadata": {
    "_cell_guid": "375abdb1-5a89-486d-9f27-5fce4e8bcf8a",
    "_uuid": "b09fe22f-d4bf-4a4f-b394-5648fc98c83e",
    "collapsed": false,
    "execution": {
     "iopub.execute_input": "2023-05-05T21:00:38.927691Z",
     "iopub.status.busy": "2023-05-05T21:00:38.926684Z",
     "iopub.status.idle": "2023-05-05T21:00:39.446141Z",
     "shell.execute_reply": "2023-05-05T21:00:39.445017Z",
     "shell.execute_reply.started": "2023-05-05T21:00:38.927652Z"
    },
    "jupyter": {
     "outputs_hidden": false
    },
    "trusted": true
   },
   "outputs": [
    {
     "data": {
      "text/html": [
       "<div>\n",
       "<style scoped>\n",
       "    .dataframe tbody tr th:only-of-type {\n",
       "        vertical-align: middle;\n",
       "    }\n",
       "\n",
       "    .dataframe tbody tr th {\n",
       "        vertical-align: top;\n",
       "    }\n",
       "\n",
       "    .dataframe thead th {\n",
       "        text-align: right;\n",
       "    }\n",
       "</style>\n",
       "<table border=\"1\" class=\"dataframe\">\n",
       "  <thead>\n",
       "    <tr style=\"text-align: right;\">\n",
       "      <th></th>\n",
       "      <th>ID</th>\n",
       "      <th>Customer_ID</th>\n",
       "      <th>Month</th>\n",
       "      <th>Name</th>\n",
       "      <th>Age</th>\n",
       "      <th>SSN</th>\n",
       "      <th>Occupation</th>\n",
       "      <th>Annual_Income</th>\n",
       "      <th>Monthly_Inhand_Salary</th>\n",
       "      <th>Num_Bank_Accounts</th>\n",
       "      <th>...</th>\n",
       "      <th>Num_Credit_Inquiries</th>\n",
       "      <th>Credit_Mix</th>\n",
       "      <th>Outstanding_Debt</th>\n",
       "      <th>Credit_Utilization_Ratio</th>\n",
       "      <th>Credit_History_Age</th>\n",
       "      <th>Payment_of_Min_Amount</th>\n",
       "      <th>Total_EMI_per_month</th>\n",
       "      <th>Amount_invested_monthly</th>\n",
       "      <th>Payment_Behaviour</th>\n",
       "      <th>Monthly_Balance</th>\n",
       "    </tr>\n",
       "  </thead>\n",
       "  <tbody>\n",
       "    <tr>\n",
       "      <th>0</th>\n",
       "      <td>0x160a</td>\n",
       "      <td>CUS_0xd40</td>\n",
       "      <td>September</td>\n",
       "      <td>Aaron Maashoh</td>\n",
       "      <td>23</td>\n",
       "      <td>821-00-0265</td>\n",
       "      <td>Scientist</td>\n",
       "      <td>19114.12</td>\n",
       "      <td>1824.843333</td>\n",
       "      <td>3</td>\n",
       "      <td>...</td>\n",
       "      <td>2022.0</td>\n",
       "      <td>Good</td>\n",
       "      <td>809.98</td>\n",
       "      <td>35.030402</td>\n",
       "      <td>22 Years and 9 Months</td>\n",
       "      <td>No</td>\n",
       "      <td>49.574949</td>\n",
       "      <td>236.64268203272135</td>\n",
       "      <td>Low_spent_Small_value_payments</td>\n",
       "      <td>186.26670208571772</td>\n",
       "    </tr>\n",
       "    <tr>\n",
       "      <th>1</th>\n",
       "      <td>0x160b</td>\n",
       "      <td>CUS_0xd40</td>\n",
       "      <td>October</td>\n",
       "      <td>Aaron Maashoh</td>\n",
       "      <td>24</td>\n",
       "      <td>821-00-0265</td>\n",
       "      <td>Scientist</td>\n",
       "      <td>19114.12</td>\n",
       "      <td>1824.843333</td>\n",
       "      <td>3</td>\n",
       "      <td>...</td>\n",
       "      <td>4.0</td>\n",
       "      <td>Good</td>\n",
       "      <td>809.98</td>\n",
       "      <td>33.053114</td>\n",
       "      <td>22 Years and 10 Months</td>\n",
       "      <td>No</td>\n",
       "      <td>49.574949</td>\n",
       "      <td>21.465380264657146</td>\n",
       "      <td>High_spent_Medium_value_payments</td>\n",
       "      <td>361.44400385378196</td>\n",
       "    </tr>\n",
       "    <tr>\n",
       "      <th>2</th>\n",
       "      <td>0x160c</td>\n",
       "      <td>CUS_0xd40</td>\n",
       "      <td>November</td>\n",
       "      <td>Aaron Maashoh</td>\n",
       "      <td>24</td>\n",
       "      <td>821-00-0265</td>\n",
       "      <td>Scientist</td>\n",
       "      <td>19114.12</td>\n",
       "      <td>1824.843333</td>\n",
       "      <td>3</td>\n",
       "      <td>...</td>\n",
       "      <td>4.0</td>\n",
       "      <td>Good</td>\n",
       "      <td>809.98</td>\n",
       "      <td>33.811894</td>\n",
       "      <td>NaN</td>\n",
       "      <td>No</td>\n",
       "      <td>49.574949</td>\n",
       "      <td>148.23393788500925</td>\n",
       "      <td>Low_spent_Medium_value_payments</td>\n",
       "      <td>264.67544623342997</td>\n",
       "    </tr>\n",
       "    <tr>\n",
       "      <th>3</th>\n",
       "      <td>0x160d</td>\n",
       "      <td>CUS_0xd40</td>\n",
       "      <td>December</td>\n",
       "      <td>Aaron Maashoh</td>\n",
       "      <td>24_</td>\n",
       "      <td>821-00-0265</td>\n",
       "      <td>Scientist</td>\n",
       "      <td>19114.12</td>\n",
       "      <td>NaN</td>\n",
       "      <td>3</td>\n",
       "      <td>...</td>\n",
       "      <td>4.0</td>\n",
       "      <td>Good</td>\n",
       "      <td>809.98</td>\n",
       "      <td>32.430559</td>\n",
       "      <td>23 Years and 0 Months</td>\n",
       "      <td>No</td>\n",
       "      <td>49.574949</td>\n",
       "      <td>39.08251089460281</td>\n",
       "      <td>High_spent_Medium_value_payments</td>\n",
       "      <td>343.82687322383634</td>\n",
       "    </tr>\n",
       "    <tr>\n",
       "      <th>4</th>\n",
       "      <td>0x1616</td>\n",
       "      <td>CUS_0x21b1</td>\n",
       "      <td>September</td>\n",
       "      <td>Rick Rothackerj</td>\n",
       "      <td>28</td>\n",
       "      <td>004-07-5839</td>\n",
       "      <td>_______</td>\n",
       "      <td>34847.84</td>\n",
       "      <td>3037.986667</td>\n",
       "      <td>2</td>\n",
       "      <td>...</td>\n",
       "      <td>5.0</td>\n",
       "      <td>Good</td>\n",
       "      <td>605.03</td>\n",
       "      <td>25.926822</td>\n",
       "      <td>27 Years and 3 Months</td>\n",
       "      <td>No</td>\n",
       "      <td>18.816215</td>\n",
       "      <td>39.684018417945296</td>\n",
       "      <td>High_spent_Large_value_payments</td>\n",
       "      <td>485.2984336755923</td>\n",
       "    </tr>\n",
       "    <tr>\n",
       "      <th>...</th>\n",
       "      <td>...</td>\n",
       "      <td>...</td>\n",
       "      <td>...</td>\n",
       "      <td>...</td>\n",
       "      <td>...</td>\n",
       "      <td>...</td>\n",
       "      <td>...</td>\n",
       "      <td>...</td>\n",
       "      <td>...</td>\n",
       "      <td>...</td>\n",
       "      <td>...</td>\n",
       "      <td>...</td>\n",
       "      <td>...</td>\n",
       "      <td>...</td>\n",
       "      <td>...</td>\n",
       "      <td>...</td>\n",
       "      <td>...</td>\n",
       "      <td>...</td>\n",
       "      <td>...</td>\n",
       "      <td>...</td>\n",
       "      <td>...</td>\n",
       "    </tr>\n",
       "    <tr>\n",
       "      <th>49995</th>\n",
       "      <td>0x25fe5</td>\n",
       "      <td>CUS_0x8600</td>\n",
       "      <td>December</td>\n",
       "      <td>Sarah McBridec</td>\n",
       "      <td>4975</td>\n",
       "      <td>031-35-0942</td>\n",
       "      <td>Architect</td>\n",
       "      <td>20002.88</td>\n",
       "      <td>1929.906667</td>\n",
       "      <td>10</td>\n",
       "      <td>...</td>\n",
       "      <td>12.0</td>\n",
       "      <td>_</td>\n",
       "      <td>3571.7</td>\n",
       "      <td>34.780553</td>\n",
       "      <td>NaN</td>\n",
       "      <td>Yes</td>\n",
       "      <td>60.964772</td>\n",
       "      <td>146.48632477751087</td>\n",
       "      <td>Low_spent_Small_value_payments</td>\n",
       "      <td>275.53956951573343</td>\n",
       "    </tr>\n",
       "    <tr>\n",
       "      <th>49996</th>\n",
       "      <td>0x25fee</td>\n",
       "      <td>CUS_0x942c</td>\n",
       "      <td>September</td>\n",
       "      <td>Nicks</td>\n",
       "      <td>25</td>\n",
       "      <td>078-73-5990</td>\n",
       "      <td>Mechanic</td>\n",
       "      <td>39628.99</td>\n",
       "      <td>NaN</td>\n",
       "      <td>4</td>\n",
       "      <td>...</td>\n",
       "      <td>7.0</td>\n",
       "      <td>Good</td>\n",
       "      <td>502.38</td>\n",
       "      <td>27.758522</td>\n",
       "      <td>31 Years and 11 Months</td>\n",
       "      <td>NM</td>\n",
       "      <td>35.104023</td>\n",
       "      <td>181.44299902757518</td>\n",
       "      <td>Low_spent_Small_value_payments</td>\n",
       "      <td>409.39456169535066</td>\n",
       "    </tr>\n",
       "    <tr>\n",
       "      <th>49997</th>\n",
       "      <td>0x25fef</td>\n",
       "      <td>CUS_0x942c</td>\n",
       "      <td>October</td>\n",
       "      <td>Nicks</td>\n",
       "      <td>25</td>\n",
       "      <td>078-73-5990</td>\n",
       "      <td>Mechanic</td>\n",
       "      <td>39628.99</td>\n",
       "      <td>3359.415833</td>\n",
       "      <td>4</td>\n",
       "      <td>...</td>\n",
       "      <td>7.0</td>\n",
       "      <td>Good</td>\n",
       "      <td>502.38</td>\n",
       "      <td>36.858542</td>\n",
       "      <td>32 Years and 0 Months</td>\n",
       "      <td>No</td>\n",
       "      <td>35.104023</td>\n",
       "      <td>__10000__</td>\n",
       "      <td>Low_spent_Large_value_payments</td>\n",
       "      <td>349.7263321025098</td>\n",
       "    </tr>\n",
       "    <tr>\n",
       "      <th>49998</th>\n",
       "      <td>0x25ff0</td>\n",
       "      <td>CUS_0x942c</td>\n",
       "      <td>November</td>\n",
       "      <td>Nicks</td>\n",
       "      <td>25</td>\n",
       "      <td>078-73-5990</td>\n",
       "      <td>Mechanic</td>\n",
       "      <td>39628.99</td>\n",
       "      <td>NaN</td>\n",
       "      <td>4</td>\n",
       "      <td>...</td>\n",
       "      <td>7.0</td>\n",
       "      <td>Good</td>\n",
       "      <td>502.38</td>\n",
       "      <td>39.139840</td>\n",
       "      <td>32 Years and 1 Months</td>\n",
       "      <td>No</td>\n",
       "      <td>35.104023</td>\n",
       "      <td>97.59857973344877</td>\n",
       "      <td>High_spent_Small_value_payments</td>\n",
       "      <td>463.23898098947717</td>\n",
       "    </tr>\n",
       "    <tr>\n",
       "      <th>49999</th>\n",
       "      <td>0x25ff1</td>\n",
       "      <td>CUS_0x942c</td>\n",
       "      <td>December</td>\n",
       "      <td>Nicks</td>\n",
       "      <td>25</td>\n",
       "      <td>078-73-5990</td>\n",
       "      <td>Mechanic</td>\n",
       "      <td>39628.99</td>\n",
       "      <td>3359.415833</td>\n",
       "      <td>4</td>\n",
       "      <td>...</td>\n",
       "      <td>7.0</td>\n",
       "      <td>_</td>\n",
       "      <td>502.38</td>\n",
       "      <td>34.108530</td>\n",
       "      <td>32 Years and 2 Months</td>\n",
       "      <td>No</td>\n",
       "      <td>35.104023</td>\n",
       "      <td>220.45787812168732</td>\n",
       "      <td>Low_spent_Medium_value_payments</td>\n",
       "      <td>360.37968260123847</td>\n",
       "    </tr>\n",
       "  </tbody>\n",
       "</table>\n",
       "<p>50000 rows × 27 columns</p>\n",
       "</div>"
      ],
      "text/plain": [
       "            ID Customer_ID      Month             Name   Age          SSN  \\\n",
       "0       0x160a   CUS_0xd40  September    Aaron Maashoh    23  821-00-0265   \n",
       "1       0x160b   CUS_0xd40    October    Aaron Maashoh    24  821-00-0265   \n",
       "2       0x160c   CUS_0xd40   November    Aaron Maashoh    24  821-00-0265   \n",
       "3       0x160d   CUS_0xd40   December    Aaron Maashoh   24_  821-00-0265   \n",
       "4       0x1616  CUS_0x21b1  September  Rick Rothackerj    28  004-07-5839   \n",
       "...        ...         ...        ...              ...   ...          ...   \n",
       "49995  0x25fe5  CUS_0x8600   December   Sarah McBridec  4975  031-35-0942   \n",
       "49996  0x25fee  CUS_0x942c  September            Nicks    25  078-73-5990   \n",
       "49997  0x25fef  CUS_0x942c    October            Nicks    25  078-73-5990   \n",
       "49998  0x25ff0  CUS_0x942c   November            Nicks    25  078-73-5990   \n",
       "49999  0x25ff1  CUS_0x942c   December            Nicks    25  078-73-5990   \n",
       "\n",
       "      Occupation Annual_Income  Monthly_Inhand_Salary  Num_Bank_Accounts  ...  \\\n",
       "0      Scientist      19114.12            1824.843333                  3  ...   \n",
       "1      Scientist      19114.12            1824.843333                  3  ...   \n",
       "2      Scientist      19114.12            1824.843333                  3  ...   \n",
       "3      Scientist      19114.12                    NaN                  3  ...   \n",
       "4        _______      34847.84            3037.986667                  2  ...   \n",
       "...          ...           ...                    ...                ...  ...   \n",
       "49995  Architect      20002.88            1929.906667                 10  ...   \n",
       "49996   Mechanic      39628.99                    NaN                  4  ...   \n",
       "49997   Mechanic      39628.99            3359.415833                  4  ...   \n",
       "49998   Mechanic      39628.99                    NaN                  4  ...   \n",
       "49999   Mechanic      39628.99            3359.415833                  4  ...   \n",
       "\n",
       "       Num_Credit_Inquiries  Credit_Mix Outstanding_Debt  \\\n",
       "0                    2022.0        Good           809.98   \n",
       "1                       4.0        Good           809.98   \n",
       "2                       4.0        Good           809.98   \n",
       "3                       4.0        Good           809.98   \n",
       "4                       5.0        Good           605.03   \n",
       "...                     ...         ...              ...   \n",
       "49995                  12.0           _           3571.7   \n",
       "49996                   7.0        Good           502.38   \n",
       "49997                   7.0        Good           502.38   \n",
       "49998                   7.0        Good           502.38   \n",
       "49999                   7.0           _           502.38   \n",
       "\n",
       "      Credit_Utilization_Ratio      Credit_History_Age Payment_of_Min_Amount  \\\n",
       "0                    35.030402   22 Years and 9 Months                    No   \n",
       "1                    33.053114  22 Years and 10 Months                    No   \n",
       "2                    33.811894                     NaN                    No   \n",
       "3                    32.430559   23 Years and 0 Months                    No   \n",
       "4                    25.926822   27 Years and 3 Months                    No   \n",
       "...                        ...                     ...                   ...   \n",
       "49995                34.780553                     NaN                   Yes   \n",
       "49996                27.758522  31 Years and 11 Months                    NM   \n",
       "49997                36.858542   32 Years and 0 Months                    No   \n",
       "49998                39.139840   32 Years and 1 Months                    No   \n",
       "49999                34.108530   32 Years and 2 Months                    No   \n",
       "\n",
       "      Total_EMI_per_month  Amount_invested_monthly  \\\n",
       "0               49.574949       236.64268203272135   \n",
       "1               49.574949       21.465380264657146   \n",
       "2               49.574949       148.23393788500925   \n",
       "3               49.574949        39.08251089460281   \n",
       "4               18.816215       39.684018417945296   \n",
       "...                   ...                      ...   \n",
       "49995           60.964772       146.48632477751087   \n",
       "49996           35.104023       181.44299902757518   \n",
       "49997           35.104023                __10000__   \n",
       "49998           35.104023        97.59857973344877   \n",
       "49999           35.104023       220.45787812168732   \n",
       "\n",
       "                      Payment_Behaviour     Monthly_Balance  \n",
       "0        Low_spent_Small_value_payments  186.26670208571772  \n",
       "1      High_spent_Medium_value_payments  361.44400385378196  \n",
       "2       Low_spent_Medium_value_payments  264.67544623342997  \n",
       "3      High_spent_Medium_value_payments  343.82687322383634  \n",
       "4       High_spent_Large_value_payments   485.2984336755923  \n",
       "...                                 ...                 ...  \n",
       "49995    Low_spent_Small_value_payments  275.53956951573343  \n",
       "49996    Low_spent_Small_value_payments  409.39456169535066  \n",
       "49997    Low_spent_Large_value_payments   349.7263321025098  \n",
       "49998   High_spent_Small_value_payments  463.23898098947717  \n",
       "49999   Low_spent_Medium_value_payments  360.37968260123847  \n",
       "\n",
       "[50000 rows x 27 columns]"
      ]
     },
     "execution_count": 4,
     "metadata": {},
     "output_type": "execute_result"
    }
   ],
   "source": [
    "df_origin_test = pd.read_csv(os.path.join(path, \"test.csv\"))\n",
    "df_test = df_origin_test.copy()\n",
    "df_test"
   ]
  },
  {
   "cell_type": "markdown",
   "metadata": {
    "_cell_guid": "f8d01bce-678b-4bd9-9bf2-f01365ff22dd",
    "_uuid": "59d6b652-0f5d-4bb9-bdd2-efbeb9bd8020",
    "trusted": true
   },
   "source": [
    "# A. Recognizing and Understanding Data\n",
    "\n",
    "## Check the head, shape, data-types of the features."
   ]
  },
  {
   "cell_type": "code",
   "execution_count": 5,
   "metadata": {
    "_cell_guid": "97aaf1ec-9bbf-4582-ad7e-4b17c92cd477",
    "_uuid": "b2be0b96-4ced-40a9-9225-974ef2571fd4",
    "collapsed": false,
    "execution": {
     "iopub.execute_input": "2023-05-05T21:00:39.789208Z",
     "iopub.status.busy": "2023-05-05T21:00:39.788807Z",
     "iopub.status.idle": "2023-05-05T21:00:39.796948Z",
     "shell.execute_reply": "2023-05-05T21:00:39.795757Z",
     "shell.execute_reply.started": "2023-05-05T21:00:39.789175Z"
    },
    "jupyter": {
     "outputs_hidden": false
    },
    "trusted": true
   },
   "outputs": [
    {
     "data": {
      "text/plain": [
       "((100000, 28), (50000, 27))"
      ]
     },
     "execution_count": 5,
     "metadata": {},
     "output_type": "execute_result"
    }
   ],
   "source": [
    "df_train.shape, df_test.shape"
   ]
  },
  {
   "cell_type": "code",
   "execution_count": 6,
   "metadata": {
    "_cell_guid": "c31ae5ed-80d3-47cb-ba7c-fa7f405fd177",
    "_uuid": "a0f166ae-4c1a-45c6-9077-de66562ce2b0",
    "collapsed": false,
    "execution": {
     "iopub.execute_input": "2023-05-05T21:00:40.532177Z",
     "iopub.status.busy": "2023-05-05T21:00:40.531779Z",
     "iopub.status.idle": "2023-05-05T21:00:40.687263Z",
     "shell.execute_reply": "2023-05-05T21:00:40.686211Z",
     "shell.execute_reply.started": "2023-05-05T21:00:40.532143Z"
    },
    "jupyter": {
     "outputs_hidden": false
    },
    "trusted": true
   },
   "outputs": [
    {
     "name": "stdout",
     "output_type": "stream",
     "text": [
      "<class 'pandas.core.frame.DataFrame'>\n",
      "RangeIndex: 100000 entries, 0 to 99999\n",
      "Data columns (total 28 columns):\n",
      " #   Column                    Non-Null Count   Dtype  \n",
      "---  ------                    --------------   -----  \n",
      " 0   ID                        100000 non-null  object \n",
      " 1   Customer_ID               100000 non-null  object \n",
      " 2   Month                     100000 non-null  object \n",
      " 3   Name                      90015 non-null   object \n",
      " 4   Age                       100000 non-null  object \n",
      " 5   SSN                       100000 non-null  object \n",
      " 6   Occupation                100000 non-null  object \n",
      " 7   Annual_Income             100000 non-null  object \n",
      " 8   Monthly_Inhand_Salary     84998 non-null   float64\n",
      " 9   Num_Bank_Accounts         100000 non-null  int64  \n",
      " 10  Num_Credit_Card           100000 non-null  int64  \n",
      " 11  Interest_Rate             100000 non-null  int64  \n",
      " 12  Num_of_Loan               100000 non-null  object \n",
      " 13  Type_of_Loan              88592 non-null   object \n",
      " 14  Delay_from_due_date       100000 non-null  int64  \n",
      " 15  Num_of_Delayed_Payment    92998 non-null   object \n",
      " 16  Changed_Credit_Limit      100000 non-null  object \n",
      " 17  Num_Credit_Inquiries      98035 non-null   float64\n",
      " 18  Credit_Mix                100000 non-null  object \n",
      " 19  Outstanding_Debt          100000 non-null  object \n",
      " 20  Credit_Utilization_Ratio  100000 non-null  float64\n",
      " 21  Credit_History_Age        90970 non-null   object \n",
      " 22  Payment_of_Min_Amount     100000 non-null  object \n",
      " 23  Total_EMI_per_month       100000 non-null  float64\n",
      " 24  Amount_invested_monthly   95521 non-null   object \n",
      " 25  Payment_Behaviour         100000 non-null  object \n",
      " 26  Monthly_Balance           98800 non-null   object \n",
      " 27  Credit_Score              100000 non-null  object \n",
      "dtypes: float64(4), int64(4), object(20)\n",
      "memory usage: 21.4+ MB\n",
      "\n",
      "<class 'pandas.core.frame.DataFrame'>\n",
      "RangeIndex: 50000 entries, 0 to 49999\n",
      "Data columns (total 27 columns):\n",
      " #   Column                    Non-Null Count  Dtype  \n",
      "---  ------                    --------------  -----  \n",
      " 0   ID                        50000 non-null  object \n",
      " 1   Customer_ID               50000 non-null  object \n",
      " 2   Month                     50000 non-null  object \n",
      " 3   Name                      44985 non-null  object \n",
      " 4   Age                       50000 non-null  object \n",
      " 5   SSN                       50000 non-null  object \n",
      " 6   Occupation                50000 non-null  object \n",
      " 7   Annual_Income             50000 non-null  object \n",
      " 8   Monthly_Inhand_Salary     42502 non-null  float64\n",
      " 9   Num_Bank_Accounts         50000 non-null  int64  \n",
      " 10  Num_Credit_Card           50000 non-null  int64  \n",
      " 11  Interest_Rate             50000 non-null  int64  \n",
      " 12  Num_of_Loan               50000 non-null  object \n",
      " 13  Type_of_Loan              44296 non-null  object \n",
      " 14  Delay_from_due_date       50000 non-null  int64  \n",
      " 15  Num_of_Delayed_Payment    46502 non-null  object \n",
      " 16  Changed_Credit_Limit      50000 non-null  object \n",
      " 17  Num_Credit_Inquiries      48965 non-null  float64\n",
      " 18  Credit_Mix                50000 non-null  object \n",
      " 19  Outstanding_Debt          50000 non-null  object \n",
      " 20  Credit_Utilization_Ratio  50000 non-null  float64\n",
      " 21  Credit_History_Age        45530 non-null  object \n",
      " 22  Payment_of_Min_Amount     50000 non-null  object \n",
      " 23  Total_EMI_per_month       50000 non-null  float64\n",
      " 24  Amount_invested_monthly   47729 non-null  object \n",
      " 25  Payment_Behaviour         50000 non-null  object \n",
      " 26  Monthly_Balance           49438 non-null  object \n",
      "dtypes: float64(4), int64(4), object(19)\n",
      "memory usage: 10.3+ MB\n"
     ]
    },
    {
     "data": {
      "text/plain": [
       "None"
      ]
     },
     "metadata": {},
     "output_type": "display_data"
    },
    {
     "data": {
      "text/plain": [
       "None"
      ]
     },
     "metadata": {},
     "output_type": "display_data"
    },
    {
     "data": {
      "text/plain": [
       "None"
      ]
     },
     "metadata": {},
     "output_type": "display_data"
    }
   ],
   "source": [
    "display(\n",
    "    df_train.info(), \n",
    "    print(), \n",
    "    df_test.info()\n",
    ")"
   ]
  },
  {
   "cell_type": "markdown",
   "metadata": {
    "_cell_guid": "f7e042c0-d1c0-4eca-9fbe-a37ff9fe3fc1",
    "_uuid": "75339246-7bd1-4e6b-9e27-8b072bbbae21",
    "trusted": true
   },
   "source": [
    "## Check the statistical values of features."
   ]
  },
  {
   "cell_type": "code",
   "execution_count": 7,
   "metadata": {
    "_cell_guid": "a1192e54-2d65-436e-8ca2-8518711d617d",
    "_uuid": "43ada858-bb0e-46cb-a931-4bf0891dba87",
    "collapsed": false,
    "execution": {
     "iopub.execute_input": "2023-05-05T21:00:41.451032Z",
     "iopub.status.busy": "2023-05-05T21:00:41.450279Z",
     "iopub.status.idle": "2023-05-05T21:00:41.561514Z",
     "shell.execute_reply": "2023-05-05T21:00:41.560347Z",
     "shell.execute_reply.started": "2023-05-05T21:00:41.450994Z"
    },
    "jupyter": {
     "outputs_hidden": false
    },
    "trusted": true
   },
   "outputs": [
    {
     "name": "stdout",
     "output_type": "stream",
     "text": [
      "\n"
     ]
    },
    {
     "data": {
      "text/html": [
       "<div>\n",
       "<style scoped>\n",
       "    .dataframe tbody tr th:only-of-type {\n",
       "        vertical-align: middle;\n",
       "    }\n",
       "\n",
       "    .dataframe tbody tr th {\n",
       "        vertical-align: top;\n",
       "    }\n",
       "\n",
       "    .dataframe thead th {\n",
       "        text-align: right;\n",
       "    }\n",
       "</style>\n",
       "<table border=\"1\" class=\"dataframe\">\n",
       "  <thead>\n",
       "    <tr style=\"text-align: right;\">\n",
       "      <th></th>\n",
       "      <th>count</th>\n",
       "      <th>mean</th>\n",
       "      <th>std</th>\n",
       "      <th>min</th>\n",
       "      <th>25%</th>\n",
       "      <th>50%</th>\n",
       "      <th>75%</th>\n",
       "      <th>max</th>\n",
       "    </tr>\n",
       "  </thead>\n",
       "  <tbody>\n",
       "    <tr>\n",
       "      <th>Monthly_Inhand_Salary</th>\n",
       "      <td>84998.0</td>\n",
       "      <td>4194.170850</td>\n",
       "      <td>3183.686167</td>\n",
       "      <td>303.645417</td>\n",
       "      <td>1625.568229</td>\n",
       "      <td>3093.745000</td>\n",
       "      <td>5957.448333</td>\n",
       "      <td>15204.633333</td>\n",
       "    </tr>\n",
       "    <tr>\n",
       "      <th>Num_Bank_Accounts</th>\n",
       "      <td>100000.0</td>\n",
       "      <td>17.091280</td>\n",
       "      <td>117.404834</td>\n",
       "      <td>-1.000000</td>\n",
       "      <td>3.000000</td>\n",
       "      <td>6.000000</td>\n",
       "      <td>7.000000</td>\n",
       "      <td>1798.000000</td>\n",
       "    </tr>\n",
       "    <tr>\n",
       "      <th>Num_Credit_Card</th>\n",
       "      <td>100000.0</td>\n",
       "      <td>22.474430</td>\n",
       "      <td>129.057410</td>\n",
       "      <td>0.000000</td>\n",
       "      <td>4.000000</td>\n",
       "      <td>5.000000</td>\n",
       "      <td>7.000000</td>\n",
       "      <td>1499.000000</td>\n",
       "    </tr>\n",
       "    <tr>\n",
       "      <th>Interest_Rate</th>\n",
       "      <td>100000.0</td>\n",
       "      <td>72.466040</td>\n",
       "      <td>466.422621</td>\n",
       "      <td>1.000000</td>\n",
       "      <td>8.000000</td>\n",
       "      <td>13.000000</td>\n",
       "      <td>20.000000</td>\n",
       "      <td>5797.000000</td>\n",
       "    </tr>\n",
       "    <tr>\n",
       "      <th>Delay_from_due_date</th>\n",
       "      <td>100000.0</td>\n",
       "      <td>21.068780</td>\n",
       "      <td>14.860104</td>\n",
       "      <td>-5.000000</td>\n",
       "      <td>10.000000</td>\n",
       "      <td>18.000000</td>\n",
       "      <td>28.000000</td>\n",
       "      <td>67.000000</td>\n",
       "    </tr>\n",
       "    <tr>\n",
       "      <th>Num_Credit_Inquiries</th>\n",
       "      <td>98035.0</td>\n",
       "      <td>27.754251</td>\n",
       "      <td>193.177339</td>\n",
       "      <td>0.000000</td>\n",
       "      <td>3.000000</td>\n",
       "      <td>6.000000</td>\n",
       "      <td>9.000000</td>\n",
       "      <td>2597.000000</td>\n",
       "    </tr>\n",
       "    <tr>\n",
       "      <th>Credit_Utilization_Ratio</th>\n",
       "      <td>100000.0</td>\n",
       "      <td>32.285173</td>\n",
       "      <td>5.116875</td>\n",
       "      <td>20.000000</td>\n",
       "      <td>28.052567</td>\n",
       "      <td>32.305784</td>\n",
       "      <td>36.496663</td>\n",
       "      <td>50.000000</td>\n",
       "    </tr>\n",
       "    <tr>\n",
       "      <th>Total_EMI_per_month</th>\n",
       "      <td>100000.0</td>\n",
       "      <td>1403.118217</td>\n",
       "      <td>8306.041270</td>\n",
       "      <td>0.000000</td>\n",
       "      <td>30.306660</td>\n",
       "      <td>69.249473</td>\n",
       "      <td>161.224249</td>\n",
       "      <td>82331.000000</td>\n",
       "    </tr>\n",
       "  </tbody>\n",
       "</table>\n",
       "</div>"
      ],
      "text/plain": [
       "                             count         mean          std         min  \\\n",
       "Monthly_Inhand_Salary      84998.0  4194.170850  3183.686167  303.645417   \n",
       "Num_Bank_Accounts         100000.0    17.091280   117.404834   -1.000000   \n",
       "Num_Credit_Card           100000.0    22.474430   129.057410    0.000000   \n",
       "Interest_Rate             100000.0    72.466040   466.422621    1.000000   \n",
       "Delay_from_due_date       100000.0    21.068780    14.860104   -5.000000   \n",
       "Num_Credit_Inquiries       98035.0    27.754251   193.177339    0.000000   \n",
       "Credit_Utilization_Ratio  100000.0    32.285173     5.116875   20.000000   \n",
       "Total_EMI_per_month       100000.0  1403.118217  8306.041270    0.000000   \n",
       "\n",
       "                                  25%          50%          75%           max  \n",
       "Monthly_Inhand_Salary     1625.568229  3093.745000  5957.448333  15204.633333  \n",
       "Num_Bank_Accounts            3.000000     6.000000     7.000000   1798.000000  \n",
       "Num_Credit_Card              4.000000     5.000000     7.000000   1499.000000  \n",
       "Interest_Rate                8.000000    13.000000    20.000000   5797.000000  \n",
       "Delay_from_due_date         10.000000    18.000000    28.000000     67.000000  \n",
       "Num_Credit_Inquiries         3.000000     6.000000     9.000000   2597.000000  \n",
       "Credit_Utilization_Ratio    28.052567    32.305784    36.496663     50.000000  \n",
       "Total_EMI_per_month         30.306660    69.249473   161.224249  82331.000000  "
      ]
     },
     "metadata": {},
     "output_type": "display_data"
    },
    {
     "data": {
      "text/plain": [
       "None"
      ]
     },
     "metadata": {},
     "output_type": "display_data"
    },
    {
     "data": {
      "text/html": [
       "<div>\n",
       "<style scoped>\n",
       "    .dataframe tbody tr th:only-of-type {\n",
       "        vertical-align: middle;\n",
       "    }\n",
       "\n",
       "    .dataframe tbody tr th {\n",
       "        vertical-align: top;\n",
       "    }\n",
       "\n",
       "    .dataframe thead th {\n",
       "        text-align: right;\n",
       "    }\n",
       "</style>\n",
       "<table border=\"1\" class=\"dataframe\">\n",
       "  <thead>\n",
       "    <tr style=\"text-align: right;\">\n",
       "      <th></th>\n",
       "      <th>count</th>\n",
       "      <th>mean</th>\n",
       "      <th>std</th>\n",
       "      <th>min</th>\n",
       "      <th>25%</th>\n",
       "      <th>50%</th>\n",
       "      <th>75%</th>\n",
       "      <th>max</th>\n",
       "    </tr>\n",
       "  </thead>\n",
       "  <tbody>\n",
       "    <tr>\n",
       "      <th>Monthly_Inhand_Salary</th>\n",
       "      <td>42502.0</td>\n",
       "      <td>4182.004291</td>\n",
       "      <td>3174.109304</td>\n",
       "      <td>303.645417</td>\n",
       "      <td>1625.188333</td>\n",
       "      <td>3086.305000</td>\n",
       "      <td>5934.189094</td>\n",
       "      <td>15204.633333</td>\n",
       "    </tr>\n",
       "    <tr>\n",
       "      <th>Num_Bank_Accounts</th>\n",
       "      <td>50000.0</td>\n",
       "      <td>16.838260</td>\n",
       "      <td>116.396848</td>\n",
       "      <td>-1.000000</td>\n",
       "      <td>3.000000</td>\n",
       "      <td>6.000000</td>\n",
       "      <td>7.000000</td>\n",
       "      <td>1798.000000</td>\n",
       "    </tr>\n",
       "    <tr>\n",
       "      <th>Num_Credit_Card</th>\n",
       "      <td>50000.0</td>\n",
       "      <td>22.921480</td>\n",
       "      <td>129.314804</td>\n",
       "      <td>0.000000</td>\n",
       "      <td>4.000000</td>\n",
       "      <td>5.000000</td>\n",
       "      <td>7.000000</td>\n",
       "      <td>1499.000000</td>\n",
       "    </tr>\n",
       "    <tr>\n",
       "      <th>Interest_Rate</th>\n",
       "      <td>50000.0</td>\n",
       "      <td>68.772640</td>\n",
       "      <td>451.602363</td>\n",
       "      <td>1.000000</td>\n",
       "      <td>8.000000</td>\n",
       "      <td>13.000000</td>\n",
       "      <td>20.000000</td>\n",
       "      <td>5799.000000</td>\n",
       "    </tr>\n",
       "    <tr>\n",
       "      <th>Delay_from_due_date</th>\n",
       "      <td>50000.0</td>\n",
       "      <td>21.052640</td>\n",
       "      <td>14.860397</td>\n",
       "      <td>-5.000000</td>\n",
       "      <td>10.000000</td>\n",
       "      <td>18.000000</td>\n",
       "      <td>28.000000</td>\n",
       "      <td>67.000000</td>\n",
       "    </tr>\n",
       "    <tr>\n",
       "      <th>Num_Credit_Inquiries</th>\n",
       "      <td>48965.0</td>\n",
       "      <td>30.080200</td>\n",
       "      <td>196.984121</td>\n",
       "      <td>0.000000</td>\n",
       "      <td>4.000000</td>\n",
       "      <td>7.000000</td>\n",
       "      <td>10.000000</td>\n",
       "      <td>2593.000000</td>\n",
       "    </tr>\n",
       "    <tr>\n",
       "      <th>Credit_Utilization_Ratio</th>\n",
       "      <td>50000.0</td>\n",
       "      <td>32.279581</td>\n",
       "      <td>5.106238</td>\n",
       "      <td>20.509652</td>\n",
       "      <td>28.061040</td>\n",
       "      <td>32.280390</td>\n",
       "      <td>36.468591</td>\n",
       "      <td>48.540663</td>\n",
       "    </tr>\n",
       "    <tr>\n",
       "      <th>Total_EMI_per_month</th>\n",
       "      <td>50000.0</td>\n",
       "      <td>1491.304305</td>\n",
       "      <td>8595.647887</td>\n",
       "      <td>0.000000</td>\n",
       "      <td>32.222388</td>\n",
       "      <td>74.733349</td>\n",
       "      <td>176.157491</td>\n",
       "      <td>82398.000000</td>\n",
       "    </tr>\n",
       "  </tbody>\n",
       "</table>\n",
       "</div>"
      ],
      "text/plain": [
       "                            count         mean          std         min  \\\n",
       "Monthly_Inhand_Salary     42502.0  4182.004291  3174.109304  303.645417   \n",
       "Num_Bank_Accounts         50000.0    16.838260   116.396848   -1.000000   \n",
       "Num_Credit_Card           50000.0    22.921480   129.314804    0.000000   \n",
       "Interest_Rate             50000.0    68.772640   451.602363    1.000000   \n",
       "Delay_from_due_date       50000.0    21.052640    14.860397   -5.000000   \n",
       "Num_Credit_Inquiries      48965.0    30.080200   196.984121    0.000000   \n",
       "Credit_Utilization_Ratio  50000.0    32.279581     5.106238   20.509652   \n",
       "Total_EMI_per_month       50000.0  1491.304305  8595.647887    0.000000   \n",
       "\n",
       "                                  25%          50%          75%           max  \n",
       "Monthly_Inhand_Salary     1625.188333  3086.305000  5934.189094  15204.633333  \n",
       "Num_Bank_Accounts            3.000000     6.000000     7.000000   1798.000000  \n",
       "Num_Credit_Card              4.000000     5.000000     7.000000   1499.000000  \n",
       "Interest_Rate                8.000000    13.000000    20.000000   5799.000000  \n",
       "Delay_from_due_date         10.000000    18.000000    28.000000     67.000000  \n",
       "Num_Credit_Inquiries         4.000000     7.000000    10.000000   2593.000000  \n",
       "Credit_Utilization_Ratio    28.061040    32.280390    36.468591     48.540663  \n",
       "Total_EMI_per_month         32.222388    74.733349   176.157491  82398.000000  "
      ]
     },
     "metadata": {},
     "output_type": "display_data"
    }
   ],
   "source": [
    "display(\n",
    "    df_train.describe().T, \n",
    "    print(), \n",
    "    df_test.describe().T\n",
    ")"
   ]
  },
  {
   "cell_type": "code",
   "execution_count": 8,
   "metadata": {
    "_cell_guid": "500b55b0-71b3-4e9d-b4cb-5d16c00e03a5",
    "_uuid": "77e7011a-a3c9-4f42-b316-c94251deef5c",
    "collapsed": false,
    "execution": {
     "iopub.execute_input": "2023-05-05T21:00:41.754582Z",
     "iopub.status.busy": "2023-05-05T21:00:41.754129Z",
     "iopub.status.idle": "2023-05-05T21:00:42.476881Z",
     "shell.execute_reply": "2023-05-05T21:00:42.475713Z",
     "shell.execute_reply.started": "2023-05-05T21:00:41.754544Z"
    },
    "jupyter": {
     "outputs_hidden": false
    },
    "trusted": true
   },
   "outputs": [
    {
     "name": "stdout",
     "output_type": "stream",
     "text": [
      "\n"
     ]
    },
    {
     "data": {
      "text/html": [
       "<div>\n",
       "<style scoped>\n",
       "    .dataframe tbody tr th:only-of-type {\n",
       "        vertical-align: middle;\n",
       "    }\n",
       "\n",
       "    .dataframe tbody tr th {\n",
       "        vertical-align: top;\n",
       "    }\n",
       "\n",
       "    .dataframe thead th {\n",
       "        text-align: right;\n",
       "    }\n",
       "</style>\n",
       "<table border=\"1\" class=\"dataframe\">\n",
       "  <thead>\n",
       "    <tr style=\"text-align: right;\">\n",
       "      <th></th>\n",
       "      <th>count</th>\n",
       "      <th>unique</th>\n",
       "      <th>top</th>\n",
       "      <th>freq</th>\n",
       "    </tr>\n",
       "  </thead>\n",
       "  <tbody>\n",
       "    <tr>\n",
       "      <th>ID</th>\n",
       "      <td>100000</td>\n",
       "      <td>100000</td>\n",
       "      <td>0x25fb6</td>\n",
       "      <td>1</td>\n",
       "    </tr>\n",
       "    <tr>\n",
       "      <th>Customer_ID</th>\n",
       "      <td>100000</td>\n",
       "      <td>12500</td>\n",
       "      <td>CUS_0x942c</td>\n",
       "      <td>8</td>\n",
       "    </tr>\n",
       "    <tr>\n",
       "      <th>Month</th>\n",
       "      <td>100000</td>\n",
       "      <td>8</td>\n",
       "      <td>January</td>\n",
       "      <td>12500</td>\n",
       "    </tr>\n",
       "    <tr>\n",
       "      <th>Name</th>\n",
       "      <td>90015</td>\n",
       "      <td>10139</td>\n",
       "      <td>Langep</td>\n",
       "      <td>44</td>\n",
       "    </tr>\n",
       "    <tr>\n",
       "      <th>Age</th>\n",
       "      <td>100000</td>\n",
       "      <td>1788</td>\n",
       "      <td>38</td>\n",
       "      <td>2833</td>\n",
       "    </tr>\n",
       "    <tr>\n",
       "      <th>SSN</th>\n",
       "      <td>100000</td>\n",
       "      <td>12501</td>\n",
       "      <td>#F%$D@*&amp;8</td>\n",
       "      <td>5572</td>\n",
       "    </tr>\n",
       "    <tr>\n",
       "      <th>Occupation</th>\n",
       "      <td>100000</td>\n",
       "      <td>16</td>\n",
       "      <td>_______</td>\n",
       "      <td>7062</td>\n",
       "    </tr>\n",
       "    <tr>\n",
       "      <th>Annual_Income</th>\n",
       "      <td>100000</td>\n",
       "      <td>18940</td>\n",
       "      <td>20867.67</td>\n",
       "      <td>16</td>\n",
       "    </tr>\n",
       "    <tr>\n",
       "      <th>Num_of_Loan</th>\n",
       "      <td>100000</td>\n",
       "      <td>434</td>\n",
       "      <td>3</td>\n",
       "      <td>14386</td>\n",
       "    </tr>\n",
       "    <tr>\n",
       "      <th>Type_of_Loan</th>\n",
       "      <td>88592</td>\n",
       "      <td>6260</td>\n",
       "      <td>Not Specified</td>\n",
       "      <td>1408</td>\n",
       "    </tr>\n",
       "    <tr>\n",
       "      <th>Num_of_Delayed_Payment</th>\n",
       "      <td>92998</td>\n",
       "      <td>749</td>\n",
       "      <td>19</td>\n",
       "      <td>5327</td>\n",
       "    </tr>\n",
       "    <tr>\n",
       "      <th>Changed_Credit_Limit</th>\n",
       "      <td>100000</td>\n",
       "      <td>4384</td>\n",
       "      <td>_</td>\n",
       "      <td>2091</td>\n",
       "    </tr>\n",
       "    <tr>\n",
       "      <th>Credit_Mix</th>\n",
       "      <td>100000</td>\n",
       "      <td>4</td>\n",
       "      <td>Standard</td>\n",
       "      <td>36479</td>\n",
       "    </tr>\n",
       "    <tr>\n",
       "      <th>Outstanding_Debt</th>\n",
       "      <td>100000</td>\n",
       "      <td>13178</td>\n",
       "      <td>1360.45</td>\n",
       "      <td>24</td>\n",
       "    </tr>\n",
       "    <tr>\n",
       "      <th>Credit_History_Age</th>\n",
       "      <td>90970</td>\n",
       "      <td>404</td>\n",
       "      <td>15 Years and 11 Months</td>\n",
       "      <td>446</td>\n",
       "    </tr>\n",
       "    <tr>\n",
       "      <th>Payment_of_Min_Amount</th>\n",
       "      <td>100000</td>\n",
       "      <td>3</td>\n",
       "      <td>Yes</td>\n",
       "      <td>52326</td>\n",
       "    </tr>\n",
       "    <tr>\n",
       "      <th>Amount_invested_monthly</th>\n",
       "      <td>95521</td>\n",
       "      <td>91049</td>\n",
       "      <td>__10000__</td>\n",
       "      <td>4305</td>\n",
       "    </tr>\n",
       "    <tr>\n",
       "      <th>Payment_Behaviour</th>\n",
       "      <td>100000</td>\n",
       "      <td>7</td>\n",
       "      <td>Low_spent_Small_value_payments</td>\n",
       "      <td>25513</td>\n",
       "    </tr>\n",
       "    <tr>\n",
       "      <th>Monthly_Balance</th>\n",
       "      <td>98800</td>\n",
       "      <td>98792</td>\n",
       "      <td>__-333333333333333333333333333__</td>\n",
       "      <td>9</td>\n",
       "    </tr>\n",
       "    <tr>\n",
       "      <th>Credit_Score</th>\n",
       "      <td>100000</td>\n",
       "      <td>3</td>\n",
       "      <td>Standard</td>\n",
       "      <td>53174</td>\n",
       "    </tr>\n",
       "  </tbody>\n",
       "</table>\n",
       "</div>"
      ],
      "text/plain": [
       "                          count  unique                               top  \\\n",
       "ID                       100000  100000                           0x25fb6   \n",
       "Customer_ID              100000   12500                        CUS_0x942c   \n",
       "Month                    100000       8                           January   \n",
       "Name                      90015   10139                            Langep   \n",
       "Age                      100000    1788                                38   \n",
       "SSN                      100000   12501                         #F%$D@*&8   \n",
       "Occupation               100000      16                           _______   \n",
       "Annual_Income            100000   18940                          20867.67   \n",
       "Num_of_Loan              100000     434                                 3   \n",
       "Type_of_Loan              88592    6260                     Not Specified   \n",
       "Num_of_Delayed_Payment    92998     749                                19   \n",
       "Changed_Credit_Limit     100000    4384                                 _   \n",
       "Credit_Mix               100000       4                          Standard   \n",
       "Outstanding_Debt         100000   13178                           1360.45   \n",
       "Credit_History_Age        90970     404            15 Years and 11 Months   \n",
       "Payment_of_Min_Amount    100000       3                               Yes   \n",
       "Amount_invested_monthly   95521   91049                         __10000__   \n",
       "Payment_Behaviour        100000       7    Low_spent_Small_value_payments   \n",
       "Monthly_Balance           98800   98792  __-333333333333333333333333333__   \n",
       "Credit_Score             100000       3                          Standard   \n",
       "\n",
       "                          freq  \n",
       "ID                           1  \n",
       "Customer_ID                  8  \n",
       "Month                    12500  \n",
       "Name                        44  \n",
       "Age                       2833  \n",
       "SSN                       5572  \n",
       "Occupation                7062  \n",
       "Annual_Income               16  \n",
       "Num_of_Loan              14386  \n",
       "Type_of_Loan              1408  \n",
       "Num_of_Delayed_Payment    5327  \n",
       "Changed_Credit_Limit      2091  \n",
       "Credit_Mix               36479  \n",
       "Outstanding_Debt            24  \n",
       "Credit_History_Age         446  \n",
       "Payment_of_Min_Amount    52326  \n",
       "Amount_invested_monthly   4305  \n",
       "Payment_Behaviour        25513  \n",
       "Monthly_Balance              9  \n",
       "Credit_Score             53174  "
      ]
     },
     "metadata": {},
     "output_type": "display_data"
    },
    {
     "data": {
      "text/plain": [
       "None"
      ]
     },
     "metadata": {},
     "output_type": "display_data"
    },
    {
     "data": {
      "text/html": [
       "<div>\n",
       "<style scoped>\n",
       "    .dataframe tbody tr th:only-of-type {\n",
       "        vertical-align: middle;\n",
       "    }\n",
       "\n",
       "    .dataframe tbody tr th {\n",
       "        vertical-align: top;\n",
       "    }\n",
       "\n",
       "    .dataframe thead th {\n",
       "        text-align: right;\n",
       "    }\n",
       "</style>\n",
       "<table border=\"1\" class=\"dataframe\">\n",
       "  <thead>\n",
       "    <tr style=\"text-align: right;\">\n",
       "      <th></th>\n",
       "      <th>count</th>\n",
       "      <th>unique</th>\n",
       "      <th>top</th>\n",
       "      <th>freq</th>\n",
       "    </tr>\n",
       "  </thead>\n",
       "  <tbody>\n",
       "    <tr>\n",
       "      <th>ID</th>\n",
       "      <td>50000</td>\n",
       "      <td>50000</td>\n",
       "      <td>0x25ff1</td>\n",
       "      <td>1</td>\n",
       "    </tr>\n",
       "    <tr>\n",
       "      <th>Customer_ID</th>\n",
       "      <td>50000</td>\n",
       "      <td>12500</td>\n",
       "      <td>CUS_0x942c</td>\n",
       "      <td>4</td>\n",
       "    </tr>\n",
       "    <tr>\n",
       "      <th>Month</th>\n",
       "      <td>50000</td>\n",
       "      <td>4</td>\n",
       "      <td>September</td>\n",
       "      <td>12500</td>\n",
       "    </tr>\n",
       "    <tr>\n",
       "      <th>Name</th>\n",
       "      <td>44985</td>\n",
       "      <td>10139</td>\n",
       "      <td>Stevex</td>\n",
       "      <td>22</td>\n",
       "    </tr>\n",
       "    <tr>\n",
       "      <th>Age</th>\n",
       "      <td>50000</td>\n",
       "      <td>976</td>\n",
       "      <td>39</td>\n",
       "      <td>1493</td>\n",
       "    </tr>\n",
       "    <tr>\n",
       "      <th>SSN</th>\n",
       "      <td>50000</td>\n",
       "      <td>12501</td>\n",
       "      <td>#F%$D@*&amp;8</td>\n",
       "      <td>2828</td>\n",
       "    </tr>\n",
       "    <tr>\n",
       "      <th>Occupation</th>\n",
       "      <td>50000</td>\n",
       "      <td>16</td>\n",
       "      <td>_______</td>\n",
       "      <td>3438</td>\n",
       "    </tr>\n",
       "    <tr>\n",
       "      <th>Annual_Income</th>\n",
       "      <td>50000</td>\n",
       "      <td>16121</td>\n",
       "      <td>72524.2</td>\n",
       "      <td>8</td>\n",
       "    </tr>\n",
       "    <tr>\n",
       "      <th>Num_of_Loan</th>\n",
       "      <td>50000</td>\n",
       "      <td>263</td>\n",
       "      <td>2</td>\n",
       "      <td>7173</td>\n",
       "    </tr>\n",
       "    <tr>\n",
       "      <th>Type_of_Loan</th>\n",
       "      <td>44296</td>\n",
       "      <td>6260</td>\n",
       "      <td>Not Specified</td>\n",
       "      <td>704</td>\n",
       "    </tr>\n",
       "    <tr>\n",
       "      <th>Num_of_Delayed_Payment</th>\n",
       "      <td>46502</td>\n",
       "      <td>443</td>\n",
       "      <td>19</td>\n",
       "      <td>2622</td>\n",
       "    </tr>\n",
       "    <tr>\n",
       "      <th>Changed_Credit_Limit</th>\n",
       "      <td>50000</td>\n",
       "      <td>3927</td>\n",
       "      <td>_</td>\n",
       "      <td>1059</td>\n",
       "    </tr>\n",
       "    <tr>\n",
       "      <th>Credit_Mix</th>\n",
       "      <td>50000</td>\n",
       "      <td>4</td>\n",
       "      <td>Standard</td>\n",
       "      <td>18379</td>\n",
       "    </tr>\n",
       "    <tr>\n",
       "      <th>Outstanding_Debt</th>\n",
       "      <td>50000</td>\n",
       "      <td>12685</td>\n",
       "      <td>1360.45</td>\n",
       "      <td>12</td>\n",
       "    </tr>\n",
       "    <tr>\n",
       "      <th>Credit_History_Age</th>\n",
       "      <td>45530</td>\n",
       "      <td>399</td>\n",
       "      <td>16 Years and 1 Months</td>\n",
       "      <td>254</td>\n",
       "    </tr>\n",
       "    <tr>\n",
       "      <th>Payment_of_Min_Amount</th>\n",
       "      <td>50000</td>\n",
       "      <td>3</td>\n",
       "      <td>Yes</td>\n",
       "      <td>26158</td>\n",
       "    </tr>\n",
       "    <tr>\n",
       "      <th>Amount_invested_monthly</th>\n",
       "      <td>47729</td>\n",
       "      <td>45450</td>\n",
       "      <td>__10000__</td>\n",
       "      <td>2175</td>\n",
       "    </tr>\n",
       "    <tr>\n",
       "      <th>Payment_Behaviour</th>\n",
       "      <td>50000</td>\n",
       "      <td>7</td>\n",
       "      <td>Low_spent_Small_value_payments</td>\n",
       "      <td>12694</td>\n",
       "    </tr>\n",
       "    <tr>\n",
       "      <th>Monthly_Balance</th>\n",
       "      <td>49438</td>\n",
       "      <td>49433</td>\n",
       "      <td>__-333333333333333333333333333__</td>\n",
       "      <td>6</td>\n",
       "    </tr>\n",
       "  </tbody>\n",
       "</table>\n",
       "</div>"
      ],
      "text/plain": [
       "                         count unique                               top   freq\n",
       "ID                       50000  50000                           0x25ff1      1\n",
       "Customer_ID              50000  12500                        CUS_0x942c      4\n",
       "Month                    50000      4                         September  12500\n",
       "Name                     44985  10139                            Stevex     22\n",
       "Age                      50000    976                                39   1493\n",
       "SSN                      50000  12501                         #F%$D@*&8   2828\n",
       "Occupation               50000     16                           _______   3438\n",
       "Annual_Income            50000  16121                           72524.2      8\n",
       "Num_of_Loan              50000    263                                 2   7173\n",
       "Type_of_Loan             44296   6260                     Not Specified    704\n",
       "Num_of_Delayed_Payment   46502    443                                19   2622\n",
       "Changed_Credit_Limit     50000   3927                                 _   1059\n",
       "Credit_Mix               50000      4                          Standard  18379\n",
       "Outstanding_Debt         50000  12685                           1360.45     12\n",
       "Credit_History_Age       45530    399             16 Years and 1 Months    254\n",
       "Payment_of_Min_Amount    50000      3                               Yes  26158\n",
       "Amount_invested_monthly  47729  45450                         __10000__   2175\n",
       "Payment_Behaviour        50000      7    Low_spent_Small_value_payments  12694\n",
       "Monthly_Balance          49438  49433  __-333333333333333333333333333__      6"
      ]
     },
     "metadata": {},
     "output_type": "display_data"
    }
   ],
   "source": [
    "display(\n",
    "    df_train.describe(exclude=np.number).T, \n",
    "    print(), \n",
    "    df_test.describe(exclude=np.number).T\n",
    ")"
   ]
  },
  {
   "cell_type": "markdown",
   "metadata": {
    "_cell_guid": "1b07299e-bb05-4d00-a468-ecae05605657",
    "_uuid": "7d0d6860-48c8-4940-b80b-851d0462b8c0",
    "trusted": true
   },
   "source": [
    "## Basically check the missing values"
   ]
  },
  {
   "cell_type": "code",
   "execution_count": 9,
   "metadata": {
    "execution": {
     "iopub.execute_input": "2023-05-05T21:00:43.549133Z",
     "iopub.status.busy": "2023-05-05T21:00:43.548705Z",
     "iopub.status.idle": "2023-05-05T21:00:43.56262Z",
     "shell.execute_reply": "2023-05-05T21:00:43.561337Z",
     "shell.execute_reply.started": "2023-05-05T21:00:43.549099Z"
    },
    "trusted": true
   },
   "outputs": [
    {
     "data": {
      "text/plain": [
       "0"
      ]
     },
     "execution_count": 9,
     "metadata": {},
     "output_type": "execute_result"
    }
   ],
   "source": [
    "df_train['Credit_Score'].isna().sum()"
   ]
  },
  {
   "cell_type": "markdown",
   "metadata": {},
   "source": [
    "## Check Column Names Concat Train-Test Data"
   ]
  },
  {
   "cell_type": "code",
   "execution_count": 10,
   "metadata": {
    "execution": {
     "iopub.execute_input": "2023-05-05T21:00:45.247524Z",
     "iopub.status.busy": "2023-05-05T21:00:45.246501Z",
     "iopub.status.idle": "2023-05-05T21:00:45.254825Z",
     "shell.execute_reply": "2023-05-05T21:00:45.253685Z",
     "shell.execute_reply.started": "2023-05-05T21:00:45.247474Z"
    },
    "trusted": true
   },
   "outputs": [
    {
     "data": {
      "text/plain": [
       "0"
      ]
     },
     "execution_count": 10,
     "metadata": {},
     "output_type": "execute_result"
    }
   ],
   "source": [
    "(df_train.columns[:-1]!=df_test.columns).sum()"
   ]
  },
  {
   "cell_type": "code",
   "execution_count": 11,
   "metadata": {
    "execution": {
     "iopub.execute_input": "2023-05-05T21:00:46.255354Z",
     "iopub.status.busy": "2023-05-05T21:00:46.254934Z",
     "iopub.status.idle": "2023-05-05T21:00:46.365231Z",
     "shell.execute_reply": "2023-05-05T21:00:46.363836Z",
     "shell.execute_reply.started": "2023-05-05T21:00:46.25532Z"
    },
    "trusted": true
   },
   "outputs": [
    {
     "data": {
      "text/plain": [
       "(150000, 28)"
      ]
     },
     "execution_count": 11,
     "metadata": {},
     "output_type": "execute_result"
    }
   ],
   "source": [
    "df = pd.concat([df_train, df_test], ignore_index=True)\n",
    "df.shape"
   ]
  },
  {
   "cell_type": "code",
   "execution_count": 12,
   "metadata": {
    "execution": {
     "iopub.execute_input": "2023-05-05T21:00:47.136204Z",
     "iopub.status.busy": "2023-05-05T21:00:47.135807Z",
     "iopub.status.idle": "2023-05-05T21:00:47.150058Z",
     "shell.execute_reply": "2023-05-05T21:00:47.148744Z",
     "shell.execute_reply.started": "2023-05-05T21:00:47.136172Z"
    },
    "trusted": true
   },
   "outputs": [
    {
     "data": {
      "text/plain": [
       "50000"
      ]
     },
     "execution_count": 12,
     "metadata": {},
     "output_type": "execute_result"
    }
   ],
   "source": [
    "df['Credit_Score'].isna().sum()"
   ]
  },
  {
   "cell_type": "code",
   "execution_count": 13,
   "metadata": {
    "_cell_guid": "4947d9b1-6e39-484a-b5d8-7f8a3d85e3d9",
    "_uuid": "c413b3f1-eaa0-481d-853c-8ea8cd574917",
    "collapsed": false,
    "execution": {
     "iopub.execute_input": "2023-05-05T21:00:47.727558Z",
     "iopub.status.busy": "2023-05-05T21:00:47.726722Z",
     "iopub.status.idle": "2023-05-05T21:00:47.869936Z",
     "shell.execute_reply": "2023-05-05T21:00:47.868888Z",
     "shell.execute_reply.started": "2023-05-05T21:00:47.727518Z"
    },
    "jupyter": {
     "outputs_hidden": false
    },
    "trusted": true
   },
   "outputs": [
    {
     "data": {
      "text/plain": [
       "ID                              0\n",
       "Customer_ID                     0\n",
       "Month                           0\n",
       "Name                        15000\n",
       "Age                             0\n",
       "SSN                             0\n",
       "Occupation                      0\n",
       "Annual_Income                   0\n",
       "Monthly_Inhand_Salary       22500\n",
       "Num_Bank_Accounts               0\n",
       "Num_Credit_Card                 0\n",
       "Interest_Rate                   0\n",
       "Num_of_Loan                     0\n",
       "Type_of_Loan                17112\n",
       "Delay_from_due_date             0\n",
       "Num_of_Delayed_Payment      10500\n",
       "Changed_Credit_Limit            0\n",
       "Num_Credit_Inquiries         3000\n",
       "Credit_Mix                      0\n",
       "Outstanding_Debt                0\n",
       "Credit_Utilization_Ratio        0\n",
       "Credit_History_Age          13500\n",
       "Payment_of_Min_Amount           0\n",
       "Total_EMI_per_month             0\n",
       "Amount_invested_monthly      6750\n",
       "Payment_Behaviour               0\n",
       "Monthly_Balance              1762\n",
       "Credit_Score                50000\n",
       "dtype: int64"
      ]
     },
     "execution_count": 13,
     "metadata": {},
     "output_type": "execute_result"
    }
   ],
   "source": [
    "df.isna().sum()"
   ]
  },
  {
   "cell_type": "code",
   "execution_count": 14,
   "metadata": {
    "_cell_guid": "c2cc2abb-a6c4-4b2d-b485-f23026b273b9",
    "_uuid": "2be84542-0ad8-43f6-8199-b69f443100c6",
    "collapsed": false,
    "execution": {
     "iopub.execute_input": "2023-05-05T21:00:48.463603Z",
     "iopub.status.busy": "2023-05-05T21:00:48.463167Z",
     "iopub.status.idle": "2023-05-05T21:00:48.605905Z",
     "shell.execute_reply": "2023-05-05T21:00:48.604637Z",
     "shell.execute_reply.started": "2023-05-05T21:00:48.463568Z"
    },
    "jupyter": {
     "outputs_hidden": false
    },
    "trusted": true
   },
   "outputs": [
    {
     "data": {
      "text/plain": [
       "ID                           0.000000\n",
       "Customer_ID                  0.000000\n",
       "Month                        0.000000\n",
       "Name                        10.000000\n",
       "Age                          0.000000\n",
       "SSN                          0.000000\n",
       "Occupation                   0.000000\n",
       "Annual_Income                0.000000\n",
       "Monthly_Inhand_Salary       15.000000\n",
       "Num_Bank_Accounts            0.000000\n",
       "Num_Credit_Card              0.000000\n",
       "Interest_Rate                0.000000\n",
       "Num_of_Loan                  0.000000\n",
       "Type_of_Loan                11.408000\n",
       "Delay_from_due_date          0.000000\n",
       "Num_of_Delayed_Payment       7.000000\n",
       "Changed_Credit_Limit         0.000000\n",
       "Num_Credit_Inquiries         2.000000\n",
       "Credit_Mix                   0.000000\n",
       "Outstanding_Debt             0.000000\n",
       "Credit_Utilization_Ratio     0.000000\n",
       "Credit_History_Age           9.000000\n",
       "Payment_of_Min_Amount        0.000000\n",
       "Total_EMI_per_month          0.000000\n",
       "Amount_invested_monthly      4.500000\n",
       "Payment_Behaviour            0.000000\n",
       "Monthly_Balance              1.174667\n",
       "Credit_Score                33.333333\n",
       "dtype: float64"
      ]
     },
     "execution_count": 14,
     "metadata": {},
     "output_type": "execute_result"
    }
   ],
   "source": [
    "df.isnull().mean()*100"
   ]
  },
  {
   "cell_type": "markdown",
   "metadata": {
    "_cell_guid": "fd57f1d8-f2d5-4036-b88f-c793ea162fd0",
    "_uuid": "65b84721-edd8-4d81-a1f5-2493b0c69072",
    "trusted": true
   },
   "source": [
    "## If needed, rename the columns' names for easy use."
   ]
  },
  {
   "cell_type": "code",
   "execution_count": 15,
   "metadata": {
    "_cell_guid": "724a23c2-43f8-43c9-aaf1-02bcc376a9ce",
    "_uuid": "ab503312-b562-4334-9a9a-5ae3531f8686",
    "collapsed": false,
    "execution": {
     "iopub.execute_input": "2023-05-05T21:00:49.760376Z",
     "iopub.status.busy": "2023-05-05T21:00:49.759646Z",
     "iopub.status.idle": "2023-05-05T21:00:49.767453Z",
     "shell.execute_reply": "2023-05-05T21:00:49.766086Z",
     "shell.execute_reply.started": "2023-05-05T21:00:49.760334Z"
    },
    "jupyter": {
     "outputs_hidden": false
    },
    "trusted": true
   },
   "outputs": [
    {
     "data": {
      "text/plain": [
       "Index(['ID', 'Customer_ID', 'Month', 'Name', 'Age', 'SSN', 'Occupation',\n",
       "       'Annual_Income', 'Monthly_Inhand_Salary', 'Num_Bank_Accounts',\n",
       "       'Num_Credit_Card', 'Interest_Rate', 'Num_of_Loan', 'Type_of_Loan',\n",
       "       'Delay_from_due_date', 'Num_of_Delayed_Payment', 'Changed_Credit_Limit',\n",
       "       'Num_Credit_Inquiries', 'Credit_Mix', 'Outstanding_Debt',\n",
       "       'Credit_Utilization_Ratio', 'Credit_History_Age',\n",
       "       'Payment_of_Min_Amount', 'Total_EMI_per_month',\n",
       "       'Amount_invested_monthly', 'Payment_Behaviour', 'Monthly_Balance',\n",
       "       'Credit_Score'],\n",
       "      dtype='object')"
      ]
     },
     "execution_count": 15,
     "metadata": {},
     "output_type": "execute_result"
    }
   ],
   "source": [
    "df.columns"
   ]
  },
  {
   "cell_type": "markdown",
   "metadata": {
    "_cell_guid": "6c6b00bc-c10d-406c-82d2-b5c0d848797d",
    "_uuid": "e5fe6155-32ed-43b6-a9ad-6a0c118de736",
    "trusted": true
   },
   "source": [
    "# B. Examining the Data"
   ]
  },
  {
   "cell_type": "code",
   "execution_count": 16,
   "metadata": {
    "_cell_guid": "8910eb4d-5b26-4907-8e87-0f0461d45a64",
    "_uuid": "a50664b4-8f4b-4c2e-9033-a8b3dce1871a",
    "collapsed": false,
    "execution": {
     "iopub.execute_input": "2023-05-05T21:00:51.164666Z",
     "iopub.status.busy": "2023-05-05T21:00:51.163504Z",
     "iopub.status.idle": "2023-05-05T21:00:51.466801Z",
     "shell.execute_reply": "2023-05-05T21:00:51.465431Z",
     "shell.execute_reply.started": "2023-05-05T21:00:51.164613Z"
    },
    "jupyter": {
     "outputs_hidden": false
    },
    "trusted": true
   },
   "outputs": [
    {
     "name": "stdout",
     "output_type": "stream",
     "text": [
      "<class 'pandas.core.frame.DataFrame'>\n",
      "RangeIndex: 150000 entries, 0 to 149999\n",
      "Data columns (total 20 columns):\n",
      " #   Column                   Non-Null Count   Dtype \n",
      "---  ------                   --------------   ----- \n",
      " 0   ID                       150000 non-null  object\n",
      " 1   Customer_ID              150000 non-null  object\n",
      " 2   Month                    150000 non-null  object\n",
      " 3   Name                     135000 non-null  object\n",
      " 4   Age                      150000 non-null  object\n",
      " 5   SSN                      150000 non-null  object\n",
      " 6   Occupation               150000 non-null  object\n",
      " 7   Annual_Income            150000 non-null  object\n",
      " 8   Num_of_Loan              150000 non-null  object\n",
      " 9   Type_of_Loan             132888 non-null  object\n",
      " 10  Num_of_Delayed_Payment   139500 non-null  object\n",
      " 11  Changed_Credit_Limit     150000 non-null  object\n",
      " 12  Credit_Mix               150000 non-null  object\n",
      " 13  Outstanding_Debt         150000 non-null  object\n",
      " 14  Credit_History_Age       136500 non-null  object\n",
      " 15  Payment_of_Min_Amount    150000 non-null  object\n",
      " 16  Amount_invested_monthly  143250 non-null  object\n",
      " 17  Payment_Behaviour        150000 non-null  object\n",
      " 18  Monthly_Balance          148238 non-null  object\n",
      " 19  Credit_Score             100000 non-null  object\n",
      "dtypes: object(20)\n",
      "memory usage: 22.9+ MB\n"
     ]
    }
   ],
   "source": [
    "df.select_dtypes('O').info()"
   ]
  },
  {
   "cell_type": "markdown",
   "metadata": {
    "_cell_guid": "4e46e219-8a1f-4513-987f-e1efba140c77",
    "_uuid": "1298f2fa-2534-49e7-8f46-fa75a5fc2455",
    "trusted": true
   },
   "source": [
    "## Detect strange values apart from the NaN Values"
   ]
  },
  {
   "cell_type": "code",
   "execution_count": 17,
   "metadata": {
    "_cell_guid": "82ce6303-597b-420c-9f5f-fda4bffe14e9",
    "_uuid": "d04e3963-3a33-4cab-bed4-3d7a75e57fca",
    "collapsed": false,
    "execution": {
     "iopub.execute_input": "2023-05-05T21:00:52.872835Z",
     "iopub.status.busy": "2023-05-05T21:00:52.872425Z",
     "iopub.status.idle": "2023-05-05T21:00:53.598604Z",
     "shell.execute_reply": "2023-05-05T21:00:53.597432Z",
     "shell.execute_reply.started": "2023-05-05T21:00:52.872802Z"
    },
    "jupyter": {
     "outputs_hidden": false
    },
    "trusted": true
   },
   "outputs": [
    {
     "data": {
      "text/plain": [
       "Index(['ID', 'Customer_ID', 'Month', 'Name', 'Age', 'SSN', 'Occupation',\n",
       "       'Annual_Income', 'Num_of_Loan', 'Type_of_Loan',\n",
       "       'Num_of_Delayed_Payment', 'Changed_Credit_Limit', 'Credit_Mix',\n",
       "       'Outstanding_Debt', 'Credit_History_Age', 'Payment_of_Min_Amount',\n",
       "       'Amount_invested_monthly', 'Payment_Behaviour', 'Monthly_Balance',\n",
       "       'Credit_Score'],\n",
       "      dtype='object')"
      ]
     },
     "execution_count": 17,
     "metadata": {},
     "output_type": "execute_result"
    }
   ],
   "source": [
    "object_col = df.describe(include='O').columns\n",
    "object_col"
   ]
  },
  {
   "cell_type": "code",
   "execution_count": 18,
   "metadata": {
    "_cell_guid": "eca57286-5cda-4070-a3b3-e880332d6689",
    "_uuid": "b1951cff-6f49-4db7-850d-989f5609a52e",
    "collapsed": false,
    "execution": {
     "iopub.execute_input": "2023-05-05T21:00:53.600632Z",
     "iopub.status.busy": "2023-05-05T21:00:53.600262Z",
     "iopub.status.idle": "2023-05-05T21:00:53.962797Z",
     "shell.execute_reply": "2023-05-05T21:00:53.961279Z",
     "shell.execute_reply.started": "2023-05-05T21:00:53.600599Z"
    },
    "jupyter": {
     "outputs_hidden": false
    },
    "trusted": true
   },
   "outputs": [
    {
     "name": "stdout",
     "output_type": "stream",
     "text": [
      "Column Name: ID\n",
      "****************************************\n",
      "ID\n",
      "0x25fb6    1\n",
      "0x25fb7    1\n",
      "0x25fb8    1\n",
      "0x25fb9    1\n",
      "0x25fba    1\n",
      "          ..\n",
      "0x1605     1\n",
      "0x1606     1\n",
      "0x1607     1\n",
      "0x1608     1\n",
      "0x1609     1\n",
      "Name: count, Length: 100000, dtype: int64\n",
      "END ------------------------------------ \n",
      "\n",
      "Column Name: Customer_ID\n",
      "****************************************\n",
      "Customer_ID\n",
      "CUS_0x942c    8\n",
      "CUS_0xd40     8\n",
      "CUS_0x21b1    8\n",
      "CUS_0x2dbc    8\n",
      "CUS_0xb891    8\n",
      "             ..\n",
      "CUS_0x5b48    8\n",
      "CUS_0xa5f9    8\n",
      "CUS_0x4d43    8\n",
      "CUS_0xb95f    8\n",
      "CUS_0x3edc    8\n",
      "Name: count, Length: 12500, dtype: int64\n",
      "END ------------------------------------ \n",
      "\n",
      "Column Name: Month\n",
      "****************************************\n",
      "Month\n",
      "January     12500\n",
      "February    12500\n",
      "March       12500\n",
      "April       12500\n",
      "May         12500\n",
      "June        12500\n",
      "July        12500\n",
      "August      12500\n",
      "Name: count, dtype: int64\n",
      "END ------------------------------------ \n",
      "\n",
      "Column Name: Name\n",
      "****************************************\n",
      "Name\n",
      "NaN                 9985\n",
      "Langep                44\n",
      "Stevex                44\n",
      "Jessicad              39\n",
      "Vaughanl              39\n",
      "                    ... \n",
      "Vellacotto             4\n",
      "Josephine Masonz       4\n",
      "ra Alperz              4\n",
      "McBrideq               4\n",
      "Timothyl               3\n",
      "Name: count, Length: 10140, dtype: int64\n",
      "END ------------------------------------ \n",
      "\n",
      "Column Name: Age\n",
      "****************************************\n",
      "Age\n",
      "38      2833\n",
      "28      2829\n",
      "31      2806\n",
      "26      2792\n",
      "32      2749\n",
      "        ... \n",
      "325        1\n",
      "6611       1\n",
      "3779       1\n",
      "5751       1\n",
      "3966       1\n",
      "Name: count, Length: 1788, dtype: int64\n",
      "END ------------------------------------ \n",
      "\n",
      "Column Name: SSN\n",
      "****************************************\n",
      "SSN\n",
      "#F%$D@*&8      5572\n",
      "505-53-7023       8\n",
      "758-23-1095       8\n",
      "341-94-4616       8\n",
      "940-15-4402       8\n",
      "               ... \n",
      "753-72-2651       4\n",
      "856-06-6147       4\n",
      "331-28-1921       4\n",
      "642-73-7670       4\n",
      "604-62-6133       4\n",
      "Name: count, Length: 12501, dtype: int64\n",
      "END ------------------------------------ \n",
      "\n",
      "Column Name: Occupation\n",
      "****************************************\n",
      "Occupation\n",
      "_______          7062\n",
      "Lawyer           6575\n",
      "Architect        6355\n",
      "Engineer         6350\n",
      "Scientist        6299\n",
      "Mechanic         6291\n",
      "Accountant       6271\n",
      "Developer        6235\n",
      "Media_Manager    6232\n",
      "Teacher          6215\n",
      "Entrepreneur     6174\n",
      "Doctor           6087\n",
      "Journalist       6085\n",
      "Manager          5973\n",
      "Musician         5911\n",
      "Writer           5885\n",
      "Name: count, dtype: int64\n",
      "END ------------------------------------ \n",
      "\n",
      "Column Name: Annual_Income\n",
      "****************************************\n",
      "Annual_Income\n",
      "20867.67      16\n",
      "17273.83      16\n",
      "36585.12      16\n",
      "9141.63       15\n",
      "33029.66      15\n",
      "              ..\n",
      "3874136.0      1\n",
      "42588.14_      1\n",
      "32291.88_      1\n",
      "28730.26_      1\n",
      "17770.795_     1\n",
      "Name: count, Length: 18940, dtype: int64\n",
      "END ------------------------------------ \n",
      "\n",
      "Column Name: Num_of_Loan\n",
      "****************************************\n",
      "Num_of_Loan\n",
      "3       14386\n",
      "2       14250\n",
      "4       14016\n",
      "0       10380\n",
      "1       10083\n",
      "        ...  \n",
      "613         1\n",
      "1048        1\n",
      "777         1\n",
      "696_        1\n",
      "1202        1\n",
      "Name: count, Length: 434, dtype: int64\n",
      "END ------------------------------------ \n",
      "\n",
      "Column Name: Type_of_Loan\n",
      "****************************************\n",
      "Type_of_Loan\n",
      "NaN                                                                                                                                   11408\n",
      "Not Specified                                                                                                                          1408\n",
      "Credit-Builder Loan                                                                                                                    1280\n",
      "Personal Loan                                                                                                                          1272\n",
      "Debt Consolidation Loan                                                                                                                1264\n",
      "                                                                                                                                      ...  \n",
      "Debt Consolidation Loan, Auto Loan, Personal Loan, Debt Consolidation Loan, Student Loan, and Credit-Builder Loan                         8\n",
      "Student Loan, Auto Loan, Student Loan, Credit-Builder Loan, Home Equity Loan, Debt Consolidation Loan, and Debt Consolidation Loan        8\n",
      "Debt Consolidation Loan, Personal Loan, Mortgage Loan, Personal Loan, Not Specified, Mortgage Loan, and Home Equity Loan                  8\n",
      "Student Loan, Home Equity Loan, Student Loan, Personal Loan, Not Specified, Auto Loan, Auto Loan, and Debt Consolidation Loan             8\n",
      "Payday Loan, Student Loan, Credit-Builder Loan, Mortgage Loan, and Auto Loan                                                              8\n",
      "Name: count, Length: 6261, dtype: int64\n",
      "END ------------------------------------ \n",
      "\n",
      "Column Name: Num_of_Delayed_Payment\n",
      "****************************************\n",
      "Num_of_Delayed_Payment\n",
      "NaN     7002\n",
      "19      5327\n",
      "17      5261\n",
      "16      5173\n",
      "10      5153\n",
      "        ... \n",
      "4134       1\n",
      "1530       1\n",
      "1502       1\n",
      "4075       1\n",
      "1869       1\n",
      "Name: count, Length: 750, dtype: int64\n",
      "END ------------------------------------ \n",
      "\n",
      "Column Name: Changed_Credit_Limit\n",
      "****************************************\n",
      "Changed_Credit_Limit\n",
      "_                     2091\n",
      "8.22                   133\n",
      "11.5                   127\n",
      "11.32                  126\n",
      "10.06                  121\n",
      "                      ... \n",
      "27.38                    1\n",
      "21.17                    1\n",
      "0.8199999999999998       1\n",
      "30.91                    1\n",
      "-6.2                     1\n",
      "Name: count, Length: 4384, dtype: int64\n",
      "END ------------------------------------ \n",
      "\n",
      "Column Name: Credit_Mix\n",
      "****************************************\n",
      "Credit_Mix\n",
      "Standard    36479\n",
      "Good        24337\n",
      "_           20195\n",
      "Bad         18989\n",
      "Name: count, dtype: int64\n",
      "END ------------------------------------ \n",
      "\n",
      "Column Name: Outstanding_Debt\n",
      "****************************************\n",
      "Outstanding_Debt\n",
      "1360.45     24\n",
      "1151.7      23\n",
      "1109.03     23\n",
      "460.46      23\n",
      "796.88      16\n",
      "            ..\n",
      "911.67_      1\n",
      "1344.25_     1\n",
      "465.88_      1\n",
      "159.41_      1\n",
      "412.38_      1\n",
      "Name: count, Length: 13178, dtype: int64\n",
      "END ------------------------------------ \n",
      "\n",
      "Column Name: Credit_History_Age\n",
      "****************************************\n",
      "Credit_History_Age\n",
      "NaN                       9030\n",
      "15 Years and 11 Months     446\n",
      "19 Years and 4 Months      445\n",
      "19 Years and 5 Months      444\n",
      "17 Years and 11 Months     443\n",
      "                          ... \n",
      "0 Years and 3 Months        20\n",
      "0 Years and 2 Months        15\n",
      "33 Years and 7 Months       14\n",
      "33 Years and 8 Months       12\n",
      "0 Years and 1 Months         2\n",
      "Name: count, Length: 405, dtype: int64\n",
      "END ------------------------------------ \n",
      "\n",
      "Column Name: Payment_of_Min_Amount\n",
      "****************************************\n",
      "Payment_of_Min_Amount\n",
      "Yes    52326\n",
      "No     35667\n",
      "NM     12007\n",
      "Name: count, dtype: int64\n",
      "END ------------------------------------ \n",
      "\n",
      "Column Name: Amount_invested_monthly\n",
      "****************************************\n",
      "Amount_invested_monthly\n",
      "NaN                   4479\n",
      "__10000__             4305\n",
      "0.0                    169\n",
      "165.180659491917         1\n",
      "62.030802602004044       1\n",
      "                      ... \n",
      "109.296681189146         1\n",
      "33.6098814431885         1\n",
      "76.87001005130772        1\n",
      "908.6939096189257        1\n",
      "401.35900899207513       1\n",
      "Name: count, Length: 91050, dtype: int64\n",
      "END ------------------------------------ \n",
      "\n",
      "Column Name: Payment_Behaviour\n",
      "****************************************\n",
      "Payment_Behaviour\n",
      "Low_spent_Small_value_payments      25513\n",
      "High_spent_Medium_value_payments    17540\n",
      "Low_spent_Medium_value_payments     13861\n",
      "High_spent_Large_value_payments     13721\n",
      "High_spent_Small_value_payments     11340\n",
      "Low_spent_Large_value_payments      10425\n",
      "!@9#%8                               7600\n",
      "Name: count, dtype: int64\n",
      "END ------------------------------------ \n",
      "\n",
      "Column Name: Monthly_Balance\n",
      "****************************************\n",
      "Monthly_Balance\n",
      "NaN                                 1200\n",
      "__-333333333333333333333333333__       9\n",
      "254.9709216273975                      1\n",
      "250.0931678204641                      1\n",
      "289.7550752754317                      1\n",
      "                                    ... \n",
      "278.8720257394474                      1\n",
      "376.7024623690405                      1\n",
      "321.2336043357731                      1\n",
      "373.29270287694055                     1\n",
      "336.6371802877606                      1\n",
      "Name: count, Length: 98793, dtype: int64\n",
      "END ------------------------------------ \n",
      "\n",
      "Column Name: Credit_Score\n",
      "****************************************\n",
      "Credit_Score\n",
      "Standard    53174\n",
      "Poor        28998\n",
      "Good        17828\n",
      "Name: count, dtype: int64\n",
      "END ------------------------------------ \n",
      "\n"
     ]
    }
   ],
   "source": [
    "for col in object_col:\n",
    "    print('Column Name: '+col)\n",
    "    print(\"**\"*20)\n",
    "    print(df_train[col].value_counts(dropna=False))\n",
    "    print('END', \"--\"*18, '\\n')"
   ]
  },
  {
   "cell_type": "code",
   "execution_count": 19,
   "metadata": {
    "execution": {
     "iopub.execute_input": "2023-05-05T21:00:54.086947Z",
     "iopub.status.busy": "2023-05-05T21:00:54.086504Z",
     "iopub.status.idle": "2023-05-05T21:00:54.11263Z",
     "shell.execute_reply": "2023-05-05T21:00:54.111433Z",
     "shell.execute_reply.started": "2023-05-05T21:00:54.086909Z"
    },
    "trusted": true
   },
   "outputs": [
    {
     "data": {
      "text/plain": [
       "(150000, 28)"
      ]
     },
     "execution_count": 19,
     "metadata": {},
     "output_type": "execute_result"
    }
   ],
   "source": [
    "df_copy1 = df.copy()\n",
    "df_copy1.shape"
   ]
  },
  {
   "cell_type": "markdown",
   "metadata": {
    "_cell_guid": "99b79a7f-351f-48f0-96e2-1865f395036b",
    "_uuid": "d765b2f1-393c-4c51-acd3-7964b063693d",
    "trusted": true
   },
   "source": [
    "## Clear strange values apart from the NaN Values"
   ]
  },
  {
   "cell_type": "code",
   "execution_count": 20,
   "metadata": {
    "execution": {
     "iopub.execute_input": "2023-05-05T21:00:55.79465Z",
     "iopub.status.busy": "2023-05-05T21:00:55.794085Z",
     "iopub.status.idle": "2023-05-05T21:00:55.800992Z",
     "shell.execute_reply": "2023-05-05T21:00:55.799971Z",
     "shell.execute_reply.started": "2023-05-05T21:00:55.794602Z"
    },
    "trusted": true
   },
   "outputs": [],
   "source": [
    "def text_cleaning(data):\n",
    "    if data is np.NaN or not isinstance(data, str):\n",
    "        return data\n",
    "    else:\n",
    "        return str(data).strip('_ ,\"')"
   ]
  },
  {
   "cell_type": "code",
   "execution_count": 21,
   "metadata": {
    "_cell_guid": "7137d490-63b4-4b2a-950f-2d9df46ecf67",
    "_uuid": "f2d5e319-bdc0-4e76-bd38-d3851ac7b4cb",
    "collapsed": false,
    "execution": {
     "iopub.execute_input": "2023-05-05T21:00:56.872132Z",
     "iopub.status.busy": "2023-05-05T21:00:56.871731Z",
     "iopub.status.idle": "2023-05-05T21:00:59.836809Z",
     "shell.execute_reply": "2023-05-05T21:00:59.835604Z",
     "shell.execute_reply.started": "2023-05-05T21:00:56.872096Z"
    },
    "jupyter": {
     "outputs_hidden": false
    },
    "trusted": true
   },
   "outputs": [
    {
     "name": "stderr",
     "output_type": "stream",
     "text": [
      "/tmp/ipykernel_1175354/1566231186.py:1: FutureWarning: DataFrame.applymap has been deprecated. Use DataFrame.map instead.\n",
      "  df = df_copy1.applymap(text_cleaning).replace(['', 'nan', '!@9#%8', '#F%$D@*&8'], np.NaN)\n"
     ]
    },
    {
     "data": {
      "text/html": [
       "<div>\n",
       "<style scoped>\n",
       "    .dataframe tbody tr th:only-of-type {\n",
       "        vertical-align: middle;\n",
       "    }\n",
       "\n",
       "    .dataframe tbody tr th {\n",
       "        vertical-align: top;\n",
       "    }\n",
       "\n",
       "    .dataframe thead th {\n",
       "        text-align: right;\n",
       "    }\n",
       "</style>\n",
       "<table border=\"1\" class=\"dataframe\">\n",
       "  <thead>\n",
       "    <tr style=\"text-align: right;\">\n",
       "      <th></th>\n",
       "      <th>ID</th>\n",
       "      <th>Customer_ID</th>\n",
       "      <th>Month</th>\n",
       "      <th>Name</th>\n",
       "      <th>Age</th>\n",
       "      <th>SSN</th>\n",
       "      <th>Occupation</th>\n",
       "      <th>Annual_Income</th>\n",
       "      <th>Monthly_Inhand_Salary</th>\n",
       "      <th>Num_Bank_Accounts</th>\n",
       "      <th>...</th>\n",
       "      <th>Credit_Mix</th>\n",
       "      <th>Outstanding_Debt</th>\n",
       "      <th>Credit_Utilization_Ratio</th>\n",
       "      <th>Credit_History_Age</th>\n",
       "      <th>Payment_of_Min_Amount</th>\n",
       "      <th>Total_EMI_per_month</th>\n",
       "      <th>Amount_invested_monthly</th>\n",
       "      <th>Payment_Behaviour</th>\n",
       "      <th>Monthly_Balance</th>\n",
       "      <th>Credit_Score</th>\n",
       "    </tr>\n",
       "  </thead>\n",
       "  <tbody>\n",
       "    <tr>\n",
       "      <th>0</th>\n",
       "      <td>0x1602</td>\n",
       "      <td>CUS_0xd40</td>\n",
       "      <td>January</td>\n",
       "      <td>Aaron Maashoh</td>\n",
       "      <td>23</td>\n",
       "      <td>821-00-0265</td>\n",
       "      <td>Scientist</td>\n",
       "      <td>19114.12</td>\n",
       "      <td>1824.843333</td>\n",
       "      <td>3</td>\n",
       "      <td>...</td>\n",
       "      <td>NaN</td>\n",
       "      <td>809.98</td>\n",
       "      <td>26.822620</td>\n",
       "      <td>22 Years and 1 Months</td>\n",
       "      <td>No</td>\n",
       "      <td>49.574949</td>\n",
       "      <td>80.41529543900253</td>\n",
       "      <td>High_spent_Small_value_payments</td>\n",
       "      <td>312.49408867943663</td>\n",
       "      <td>Good</td>\n",
       "    </tr>\n",
       "    <tr>\n",
       "      <th>1</th>\n",
       "      <td>0x1603</td>\n",
       "      <td>CUS_0xd40</td>\n",
       "      <td>February</td>\n",
       "      <td>Aaron Maashoh</td>\n",
       "      <td>23</td>\n",
       "      <td>821-00-0265</td>\n",
       "      <td>Scientist</td>\n",
       "      <td>19114.12</td>\n",
       "      <td>NaN</td>\n",
       "      <td>3</td>\n",
       "      <td>...</td>\n",
       "      <td>Good</td>\n",
       "      <td>809.98</td>\n",
       "      <td>31.944960</td>\n",
       "      <td>NaN</td>\n",
       "      <td>No</td>\n",
       "      <td>49.574949</td>\n",
       "      <td>118.28022162236736</td>\n",
       "      <td>Low_spent_Large_value_payments</td>\n",
       "      <td>284.62916249607184</td>\n",
       "      <td>Good</td>\n",
       "    </tr>\n",
       "    <tr>\n",
       "      <th>2</th>\n",
       "      <td>0x1604</td>\n",
       "      <td>CUS_0xd40</td>\n",
       "      <td>March</td>\n",
       "      <td>Aaron Maashoh</td>\n",
       "      <td>-500</td>\n",
       "      <td>821-00-0265</td>\n",
       "      <td>Scientist</td>\n",
       "      <td>19114.12</td>\n",
       "      <td>NaN</td>\n",
       "      <td>3</td>\n",
       "      <td>...</td>\n",
       "      <td>Good</td>\n",
       "      <td>809.98</td>\n",
       "      <td>28.609352</td>\n",
       "      <td>22 Years and 3 Months</td>\n",
       "      <td>No</td>\n",
       "      <td>49.574949</td>\n",
       "      <td>81.699521264648</td>\n",
       "      <td>Low_spent_Medium_value_payments</td>\n",
       "      <td>331.2098628537912</td>\n",
       "      <td>Good</td>\n",
       "    </tr>\n",
       "    <tr>\n",
       "      <th>3</th>\n",
       "      <td>0x1605</td>\n",
       "      <td>CUS_0xd40</td>\n",
       "      <td>April</td>\n",
       "      <td>Aaron Maashoh</td>\n",
       "      <td>23</td>\n",
       "      <td>821-00-0265</td>\n",
       "      <td>Scientist</td>\n",
       "      <td>19114.12</td>\n",
       "      <td>NaN</td>\n",
       "      <td>3</td>\n",
       "      <td>...</td>\n",
       "      <td>Good</td>\n",
       "      <td>809.98</td>\n",
       "      <td>31.377862</td>\n",
       "      <td>22 Years and 4 Months</td>\n",
       "      <td>No</td>\n",
       "      <td>49.574949</td>\n",
       "      <td>199.4580743910713</td>\n",
       "      <td>Low_spent_Small_value_payments</td>\n",
       "      <td>223.45130972736786</td>\n",
       "      <td>Good</td>\n",
       "    </tr>\n",
       "    <tr>\n",
       "      <th>4</th>\n",
       "      <td>0x1606</td>\n",
       "      <td>CUS_0xd40</td>\n",
       "      <td>May</td>\n",
       "      <td>Aaron Maashoh</td>\n",
       "      <td>23</td>\n",
       "      <td>821-00-0265</td>\n",
       "      <td>Scientist</td>\n",
       "      <td>19114.12</td>\n",
       "      <td>1824.843333</td>\n",
       "      <td>3</td>\n",
       "      <td>...</td>\n",
       "      <td>Good</td>\n",
       "      <td>809.98</td>\n",
       "      <td>24.797347</td>\n",
       "      <td>22 Years and 5 Months</td>\n",
       "      <td>No</td>\n",
       "      <td>49.574949</td>\n",
       "      <td>41.420153086217326</td>\n",
       "      <td>High_spent_Medium_value_payments</td>\n",
       "      <td>341.48923103222177</td>\n",
       "      <td>Good</td>\n",
       "    </tr>\n",
       "    <tr>\n",
       "      <th>...</th>\n",
       "      <td>...</td>\n",
       "      <td>...</td>\n",
       "      <td>...</td>\n",
       "      <td>...</td>\n",
       "      <td>...</td>\n",
       "      <td>...</td>\n",
       "      <td>...</td>\n",
       "      <td>...</td>\n",
       "      <td>...</td>\n",
       "      <td>...</td>\n",
       "      <td>...</td>\n",
       "      <td>...</td>\n",
       "      <td>...</td>\n",
       "      <td>...</td>\n",
       "      <td>...</td>\n",
       "      <td>...</td>\n",
       "      <td>...</td>\n",
       "      <td>...</td>\n",
       "      <td>...</td>\n",
       "      <td>...</td>\n",
       "      <td>...</td>\n",
       "    </tr>\n",
       "    <tr>\n",
       "      <th>149995</th>\n",
       "      <td>0x25fe5</td>\n",
       "      <td>CUS_0x8600</td>\n",
       "      <td>December</td>\n",
       "      <td>Sarah McBridec</td>\n",
       "      <td>4975</td>\n",
       "      <td>031-35-0942</td>\n",
       "      <td>Architect</td>\n",
       "      <td>20002.88</td>\n",
       "      <td>1929.906667</td>\n",
       "      <td>10</td>\n",
       "      <td>...</td>\n",
       "      <td>NaN</td>\n",
       "      <td>3571.7</td>\n",
       "      <td>34.780553</td>\n",
       "      <td>NaN</td>\n",
       "      <td>Yes</td>\n",
       "      <td>60.964772</td>\n",
       "      <td>146.48632477751087</td>\n",
       "      <td>Low_spent_Small_value_payments</td>\n",
       "      <td>275.53956951573343</td>\n",
       "      <td>NaN</td>\n",
       "    </tr>\n",
       "    <tr>\n",
       "      <th>149996</th>\n",
       "      <td>0x25fee</td>\n",
       "      <td>CUS_0x942c</td>\n",
       "      <td>September</td>\n",
       "      <td>Nicks</td>\n",
       "      <td>25</td>\n",
       "      <td>078-73-5990</td>\n",
       "      <td>Mechanic</td>\n",
       "      <td>39628.99</td>\n",
       "      <td>NaN</td>\n",
       "      <td>4</td>\n",
       "      <td>...</td>\n",
       "      <td>Good</td>\n",
       "      <td>502.38</td>\n",
       "      <td>27.758522</td>\n",
       "      <td>31 Years and 11 Months</td>\n",
       "      <td>NM</td>\n",
       "      <td>35.104023</td>\n",
       "      <td>181.44299902757518</td>\n",
       "      <td>Low_spent_Small_value_payments</td>\n",
       "      <td>409.39456169535066</td>\n",
       "      <td>NaN</td>\n",
       "    </tr>\n",
       "    <tr>\n",
       "      <th>149997</th>\n",
       "      <td>0x25fef</td>\n",
       "      <td>CUS_0x942c</td>\n",
       "      <td>October</td>\n",
       "      <td>Nicks</td>\n",
       "      <td>25</td>\n",
       "      <td>078-73-5990</td>\n",
       "      <td>Mechanic</td>\n",
       "      <td>39628.99</td>\n",
       "      <td>3359.415833</td>\n",
       "      <td>4</td>\n",
       "      <td>...</td>\n",
       "      <td>Good</td>\n",
       "      <td>502.38</td>\n",
       "      <td>36.858542</td>\n",
       "      <td>32 Years and 0 Months</td>\n",
       "      <td>No</td>\n",
       "      <td>35.104023</td>\n",
       "      <td>10000</td>\n",
       "      <td>Low_spent_Large_value_payments</td>\n",
       "      <td>349.7263321025098</td>\n",
       "      <td>NaN</td>\n",
       "    </tr>\n",
       "    <tr>\n",
       "      <th>149998</th>\n",
       "      <td>0x25ff0</td>\n",
       "      <td>CUS_0x942c</td>\n",
       "      <td>November</td>\n",
       "      <td>Nicks</td>\n",
       "      <td>25</td>\n",
       "      <td>078-73-5990</td>\n",
       "      <td>Mechanic</td>\n",
       "      <td>39628.99</td>\n",
       "      <td>NaN</td>\n",
       "      <td>4</td>\n",
       "      <td>...</td>\n",
       "      <td>Good</td>\n",
       "      <td>502.38</td>\n",
       "      <td>39.139840</td>\n",
       "      <td>32 Years and 1 Months</td>\n",
       "      <td>No</td>\n",
       "      <td>35.104023</td>\n",
       "      <td>97.59857973344877</td>\n",
       "      <td>High_spent_Small_value_payments</td>\n",
       "      <td>463.23898098947717</td>\n",
       "      <td>NaN</td>\n",
       "    </tr>\n",
       "    <tr>\n",
       "      <th>149999</th>\n",
       "      <td>0x25ff1</td>\n",
       "      <td>CUS_0x942c</td>\n",
       "      <td>December</td>\n",
       "      <td>Nicks</td>\n",
       "      <td>25</td>\n",
       "      <td>078-73-5990</td>\n",
       "      <td>Mechanic</td>\n",
       "      <td>39628.99</td>\n",
       "      <td>3359.415833</td>\n",
       "      <td>4</td>\n",
       "      <td>...</td>\n",
       "      <td>NaN</td>\n",
       "      <td>502.38</td>\n",
       "      <td>34.108530</td>\n",
       "      <td>32 Years and 2 Months</td>\n",
       "      <td>No</td>\n",
       "      <td>35.104023</td>\n",
       "      <td>220.45787812168732</td>\n",
       "      <td>Low_spent_Medium_value_payments</td>\n",
       "      <td>360.37968260123847</td>\n",
       "      <td>NaN</td>\n",
       "    </tr>\n",
       "  </tbody>\n",
       "</table>\n",
       "<p>150000 rows × 28 columns</p>\n",
       "</div>"
      ],
      "text/plain": [
       "             ID Customer_ID      Month            Name   Age          SSN  \\\n",
       "0        0x1602   CUS_0xd40    January   Aaron Maashoh    23  821-00-0265   \n",
       "1        0x1603   CUS_0xd40   February   Aaron Maashoh    23  821-00-0265   \n",
       "2        0x1604   CUS_0xd40      March   Aaron Maashoh  -500  821-00-0265   \n",
       "3        0x1605   CUS_0xd40      April   Aaron Maashoh    23  821-00-0265   \n",
       "4        0x1606   CUS_0xd40        May   Aaron Maashoh    23  821-00-0265   \n",
       "...         ...         ...        ...             ...   ...          ...   \n",
       "149995  0x25fe5  CUS_0x8600   December  Sarah McBridec  4975  031-35-0942   \n",
       "149996  0x25fee  CUS_0x942c  September           Nicks    25  078-73-5990   \n",
       "149997  0x25fef  CUS_0x942c    October           Nicks    25  078-73-5990   \n",
       "149998  0x25ff0  CUS_0x942c   November           Nicks    25  078-73-5990   \n",
       "149999  0x25ff1  CUS_0x942c   December           Nicks    25  078-73-5990   \n",
       "\n",
       "       Occupation Annual_Income  Monthly_Inhand_Salary  Num_Bank_Accounts  \\\n",
       "0       Scientist      19114.12            1824.843333                  3   \n",
       "1       Scientist      19114.12                    NaN                  3   \n",
       "2       Scientist      19114.12                    NaN                  3   \n",
       "3       Scientist      19114.12                    NaN                  3   \n",
       "4       Scientist      19114.12            1824.843333                  3   \n",
       "...           ...           ...                    ...                ...   \n",
       "149995  Architect      20002.88            1929.906667                 10   \n",
       "149996   Mechanic      39628.99                    NaN                  4   \n",
       "149997   Mechanic      39628.99            3359.415833                  4   \n",
       "149998   Mechanic      39628.99                    NaN                  4   \n",
       "149999   Mechanic      39628.99            3359.415833                  4   \n",
       "\n",
       "        ...  Credit_Mix  Outstanding_Debt Credit_Utilization_Ratio  \\\n",
       "0       ...         NaN            809.98                26.822620   \n",
       "1       ...        Good            809.98                31.944960   \n",
       "2       ...        Good            809.98                28.609352   \n",
       "3       ...        Good            809.98                31.377862   \n",
       "4       ...        Good            809.98                24.797347   \n",
       "...     ...         ...               ...                      ...   \n",
       "149995  ...         NaN            3571.7                34.780553   \n",
       "149996  ...        Good            502.38                27.758522   \n",
       "149997  ...        Good            502.38                36.858542   \n",
       "149998  ...        Good            502.38                39.139840   \n",
       "149999  ...         NaN            502.38                34.108530   \n",
       "\n",
       "            Credit_History_Age  Payment_of_Min_Amount Total_EMI_per_month  \\\n",
       "0        22 Years and 1 Months                     No           49.574949   \n",
       "1                          NaN                     No           49.574949   \n",
       "2        22 Years and 3 Months                     No           49.574949   \n",
       "3        22 Years and 4 Months                     No           49.574949   \n",
       "4        22 Years and 5 Months                     No           49.574949   \n",
       "...                        ...                    ...                 ...   \n",
       "149995                     NaN                    Yes           60.964772   \n",
       "149996  31 Years and 11 Months                     NM           35.104023   \n",
       "149997   32 Years and 0 Months                     No           35.104023   \n",
       "149998   32 Years and 1 Months                     No           35.104023   \n",
       "149999   32 Years and 2 Months                     No           35.104023   \n",
       "\n",
       "       Amount_invested_monthly                 Payment_Behaviour  \\\n",
       "0            80.41529543900253   High_spent_Small_value_payments   \n",
       "1           118.28022162236736    Low_spent_Large_value_payments   \n",
       "2              81.699521264648   Low_spent_Medium_value_payments   \n",
       "3            199.4580743910713    Low_spent_Small_value_payments   \n",
       "4           41.420153086217326  High_spent_Medium_value_payments   \n",
       "...                        ...                               ...   \n",
       "149995      146.48632477751087    Low_spent_Small_value_payments   \n",
       "149996      181.44299902757518    Low_spent_Small_value_payments   \n",
       "149997                   10000    Low_spent_Large_value_payments   \n",
       "149998       97.59857973344877   High_spent_Small_value_payments   \n",
       "149999      220.45787812168732   Low_spent_Medium_value_payments   \n",
       "\n",
       "           Monthly_Balance Credit_Score  \n",
       "0       312.49408867943663         Good  \n",
       "1       284.62916249607184         Good  \n",
       "2        331.2098628537912         Good  \n",
       "3       223.45130972736786         Good  \n",
       "4       341.48923103222177         Good  \n",
       "...                    ...          ...  \n",
       "149995  275.53956951573343          NaN  \n",
       "149996  409.39456169535066          NaN  \n",
       "149997   349.7263321025098          NaN  \n",
       "149998  463.23898098947717          NaN  \n",
       "149999  360.37968260123847          NaN  \n",
       "\n",
       "[150000 rows x 28 columns]"
      ]
     },
     "execution_count": 21,
     "metadata": {},
     "output_type": "execute_result"
    }
   ],
   "source": [
    "df = df_copy1.applymap(text_cleaning).replace(['', 'nan', '!@9#%8', '#F%$D@*&8'], np.NaN)\n",
    "df"
   ]
  },
  {
   "cell_type": "code",
   "execution_count": 22,
   "metadata": {
    "_cell_guid": "0cbdd78b-a48e-4814-85d8-f95fcfd52d6f",
    "_uuid": "47badb29-2e07-49c6-9c84-676cece6280b",
    "collapsed": false,
    "execution": {
     "iopub.execute_input": "2023-05-05T21:00:59.840466Z",
     "iopub.status.busy": "2023-05-05T21:00:59.839698Z",
     "iopub.status.idle": "2023-05-05T21:00:59.979701Z",
     "shell.execute_reply": "2023-05-05T21:00:59.978762Z",
     "shell.execute_reply.started": "2023-05-05T21:00:59.840417Z"
    },
    "jupyter": {
     "outputs_hidden": false
    },
    "trusted": true
   },
   "outputs": [
    {
     "data": {
      "text/plain": [
       "ID                              0\n",
       "Customer_ID                     0\n",
       "Month                           0\n",
       "Name                        15000\n",
       "Age                             0\n",
       "SSN                          8400\n",
       "Occupation                  10500\n",
       "Annual_Income                   0\n",
       "Monthly_Inhand_Salary       22500\n",
       "Num_Bank_Accounts               0\n",
       "Num_Credit_Card                 0\n",
       "Interest_Rate                   0\n",
       "Num_of_Loan                     0\n",
       "Type_of_Loan                17112\n",
       "Delay_from_due_date             0\n",
       "Num_of_Delayed_Payment      10500\n",
       "Changed_Credit_Limit         3150\n",
       "Num_Credit_Inquiries         3000\n",
       "Credit_Mix                  30000\n",
       "Outstanding_Debt                0\n",
       "Credit_Utilization_Ratio        0\n",
       "Credit_History_Age          13500\n",
       "Payment_of_Min_Amount           0\n",
       "Total_EMI_per_month             0\n",
       "Amount_invested_monthly      6750\n",
       "Payment_Behaviour           11400\n",
       "Monthly_Balance              1762\n",
       "Credit_Score                50000\n",
       "dtype: int64"
      ]
     },
     "execution_count": 22,
     "metadata": {},
     "output_type": "execute_result"
    }
   ],
   "source": [
    "df.isna().sum()"
   ]
  },
  {
   "cell_type": "markdown",
   "metadata": {
    "_cell_guid": "78429edb-16f1-4231-9101-c90e60a07232",
    "_uuid": "8dbedffd-7112-45ee-8a68-9fa194d72986",
    "trusted": true
   },
   "source": [
    "# C. Fixing a data type (value_counts(), astype(), infer_objects(), convert_dtypes())\n",
    "\n",
    "- Detect strange values by Columns Convert Object Types to Numeric Types (int, float, np.int64, pd.Int64Dtype())\n",
    "- Combining object columns\n",
    "\n",
    "Change column type in pandas:\n",
    "\n",
    "  01. astype() - convert (almost) any type to (almost) any other type (even if it's not necessarily sensible to do so). Also   allows you to convert to categorial types (very useful).\n",
    "  02. infer_objects() - a utility method to convert object columns holding Python objects to a pandas type if possible.\n",
    "  03. convert_dtypes() - convert DataFrame columns to the \"best possible\" dtype that supports pd.NA (pandas' object to indicate a missing value).\n",
    "  04. to_numeric() - provides functionality to safely convert non-numeric types.(See also to_datetime() and to_timedelta().)\n",
    "  05. factorize() - provides sorting"
   ]
  },
  {
   "cell_type": "code",
   "execution_count": 23,
   "metadata": {
    "_cell_guid": "e7b63f2d-0d3a-45db-9dbd-2dbd2276d650",
    "_uuid": "2cffc2b8-276f-475e-85f4-472e4f4086fc",
    "collapsed": false,
    "execution": {
     "iopub.execute_input": "2023-05-05T21:00:59.981528Z",
     "iopub.status.busy": "2023-05-05T21:00:59.981149Z",
     "iopub.status.idle": "2023-05-05T21:01:00.159906Z",
     "shell.execute_reply": "2023-05-05T21:01:00.158515Z",
     "shell.execute_reply.started": "2023-05-05T21:00:59.981497Z"
    },
    "jupyter": {
     "outputs_hidden": false
    },
    "trusted": true
   },
   "outputs": [
    {
     "name": "stdout",
     "output_type": "stream",
     "text": [
      "<class 'pandas.core.frame.DataFrame'>\n",
      "RangeIndex: 150000 entries, 0 to 149999\n",
      "Data columns (total 20 columns):\n",
      " #   Column                   Non-Null Count   Dtype \n",
      "---  ------                   --------------   ----- \n",
      " 0   ID                       150000 non-null  object\n",
      " 1   Customer_ID              150000 non-null  object\n",
      " 2   Month                    150000 non-null  object\n",
      " 3   Name                     135000 non-null  object\n",
      " 4   Age                      150000 non-null  object\n",
      " 5   SSN                      141600 non-null  object\n",
      " 6   Occupation               139500 non-null  object\n",
      " 7   Annual_Income            150000 non-null  object\n",
      " 8   Num_of_Loan              150000 non-null  object\n",
      " 9   Type_of_Loan             132888 non-null  object\n",
      " 10  Num_of_Delayed_Payment   139500 non-null  object\n",
      " 11  Changed_Credit_Limit     146850 non-null  object\n",
      " 12  Credit_Mix               120000 non-null  object\n",
      " 13  Outstanding_Debt         150000 non-null  object\n",
      " 14  Credit_History_Age       136500 non-null  object\n",
      " 15  Payment_of_Min_Amount    150000 non-null  object\n",
      " 16  Amount_invested_monthly  143250 non-null  object\n",
      " 17  Payment_Behaviour        138600 non-null  object\n",
      " 18  Monthly_Balance          148238 non-null  object\n",
      " 19  Credit_Score             100000 non-null  object\n",
      "dtypes: object(20)\n",
      "memory usage: 22.9+ MB\n"
     ]
    }
   ],
   "source": [
    "df.select_dtypes('O').info()"
   ]
  },
  {
   "cell_type": "code",
   "execution_count": 24,
   "metadata": {
    "_cell_guid": "17704277-aae0-4a26-9c66-a06c977405d9",
    "_uuid": "2993fa06-c1a5-4d33-af7c-c8571e6b36a9",
    "collapsed": false,
    "execution": {
     "iopub.execute_input": "2023-05-05T21:01:00.162117Z",
     "iopub.status.busy": "2023-05-05T21:01:00.161735Z",
     "iopub.status.idle": "2023-05-05T21:01:00.98476Z",
     "shell.execute_reply": "2023-05-05T21:01:00.983734Z",
     "shell.execute_reply.started": "2023-05-05T21:01:00.162084Z"
    },
    "jupyter": {
     "outputs_hidden": false
    },
    "trusted": true
   },
   "outputs": [],
   "source": [
    "df['ID']                      = df.ID.apply(lambda x: int(x, 16))\n",
    "df['Customer_ID']             = df.Customer_ID.apply(lambda x: int(x[4:], 16))\n",
    "df['Month']                   = pd.to_datetime(df.Month, format='%B').dt.month\n",
    "df['Age']                     = df.Age.astype(int) \n",
    "df['SSN']                     = df.SSN.apply(lambda x: x if x is np.NaN else int(str(x).replace('-', ''))).astype(float)\n",
    "df['Annual_Income']           = df.Annual_Income.astype(float)\n",
    "df['Num_of_Loan']             = df.Num_of_Loan.astype(int) \n",
    "df['Num_of_Delayed_Payment']  = df.Num_of_Delayed_Payment.astype(float)\n",
    "df['Changed_Credit_Limit']    = df.Changed_Credit_Limit.astype(float)\n",
    "df['Outstanding_Debt']        = df.Outstanding_Debt.astype(float)\n",
    "df['Amount_invested_monthly'] = df.Amount_invested_monthly.astype(float)\n",
    "df['Monthly_Balance']         = df.Monthly_Balance.astype(float)"
   ]
  },
  {
   "cell_type": "markdown",
   "metadata": {
    "_cell_guid": "6b116f8e-6dcb-45b8-97de-d38503e0026d",
    "_uuid": "981eaf1e-3508-4f2c-887a-72878633e33f",
    "trusted": true
   },
   "source": [
    "### Assign Categorical Types to Numeric Types\n",
    "- Maybe Use Before Machine Learning or Use OrdinalEncoder, LabelEncoder etc."
   ]
  },
  {
   "cell_type": "code",
   "execution_count": 25,
   "metadata": {
    "_cell_guid": "94157eb7-3459-4776-9389-71bc6fac8e6a",
    "_uuid": "077c0072-e06c-4a25-ac44-8e202d92aabc",
    "collapsed": false,
    "execution": {
     "iopub.execute_input": "2023-05-05T21:01:01.359882Z",
     "iopub.status.busy": "2023-05-05T21:01:01.359215Z",
     "iopub.status.idle": "2023-05-05T21:01:01.364055Z",
     "shell.execute_reply": "2023-05-05T21:01:01.362675Z",
     "shell.execute_reply.started": "2023-05-05T21:01:01.359843Z"
    },
    "jupyter": {
     "outputs_hidden": false
    },
    "trusted": true
   },
   "outputs": [],
   "source": [
    "# df['Occupation_Num'] = df.Occupation.astype('category').cat.codes\n",
    "# df['Credit_Mix_Num'] = df.Credit_Mix.astype('category').cat.codes\n",
    "# df['Payment_of_Min_Amount_Num'] = df.Payment_of_Min_Amount.astype('category').cat.codes\n",
    "# df['Payment_Behaviour_Num'] = df.Payment_Behaviour.astype('category').cat.codes"
   ]
  },
  {
   "cell_type": "markdown",
   "metadata": {
    "_cell_guid": "fad00f20-c9e5-4c29-9d88-acd91994e914",
    "_uuid": "b461b4ed-cf03-4f85-8fe1-a7b6d28e6e0e",
    "trusted": true
   },
   "source": [
    "### Combining object columns"
   ]
  },
  {
   "cell_type": "markdown",
   "metadata": {},
   "source": [
    "#### Credit_History_Age"
   ]
  },
  {
   "cell_type": "code",
   "execution_count": 26,
   "metadata": {
    "_cell_guid": "35d2c8a6-55dd-4725-9a3b-8812ce85b7d6",
    "_uuid": "b37144d7-f92a-454d-9fb6-86663bb7575e",
    "collapsed": false,
    "execution": {
     "iopub.execute_input": "2023-05-05T21:01:03.363946Z",
     "iopub.status.busy": "2023-05-05T21:01:03.362948Z",
     "iopub.status.idle": "2023-05-05T21:01:03.369864Z",
     "shell.execute_reply": "2023-05-05T21:01:03.368867Z",
     "shell.execute_reply.started": "2023-05-05T21:01:03.363891Z"
    },
    "jupyter": {
     "outputs_hidden": false
    },
    "trusted": true
   },
   "outputs": [],
   "source": [
    "def Month_Converter(x):\n",
    "    if pd.notnull(x):\n",
    "        num1 = int(x.split(' ')[0])\n",
    "        num2 = int(x.split(' ')[3])\n",
    "      \n",
    "        return (num1*12)+num2\n",
    "    else:\n",
    "        return x\n",
    "    \n",
    "# Month_Converter('3 Years and 1 Months')"
   ]
  },
  {
   "cell_type": "code",
   "execution_count": 27,
   "metadata": {
    "_cell_guid": "dc0e4d3a-e270-4699-ad8c-692cf787ae0c",
    "_uuid": "c1bee760-f864-478b-8f80-bdc2c3cb7308",
    "collapsed": false,
    "execution": {
     "iopub.execute_input": "2023-05-05T21:01:04.236947Z",
     "iopub.status.busy": "2023-05-05T21:01:04.23584Z",
     "iopub.status.idle": "2023-05-05T21:01:04.590961Z",
     "shell.execute_reply": "2023-05-05T21:01:04.58972Z",
     "shell.execute_reply.started": "2023-05-05T21:01:04.236891Z"
    },
    "jupyter": {
     "outputs_hidden": false
    },
    "trusted": true
   },
   "outputs": [],
   "source": [
    "df['Credit_History_Age'] = df.Credit_History_Age.apply(lambda x: Month_Converter(x)).astype(float)"
   ]
  },
  {
   "cell_type": "code",
   "execution_count": 28,
   "metadata": {
    "_cell_guid": "79f4e3c8-556f-46f0-a14b-475380433d46",
    "_uuid": "68ecdd18-c02a-4fab-b698-0ce23e05e303",
    "collapsed": false,
    "execution": {
     "iopub.execute_input": "2023-05-05T21:01:05.316206Z",
     "iopub.status.busy": "2023-05-05T21:01:05.315802Z",
     "iopub.status.idle": "2023-05-05T21:01:05.573583Z",
     "shell.execute_reply": "2023-05-05T21:01:05.572489Z",
     "shell.execute_reply.started": "2023-05-05T21:01:05.316169Z"
    },
    "jupyter": {
     "outputs_hidden": false
    },
    "trusted": true
   },
   "outputs": [
    {
     "data": {
      "text/plain": [
       "Customer_ID\n",
       "1006     [182.0, 183.0, 184.0, 185.0, 186.0, 187.0, 188...\n",
       "1007     [346.0, 347.0, 348.0, 349.0, 350.0, nan, 352.0...\n",
       "1008     [292.0, 293.0, 294.0, nan, 296.0, 297.0, 298.0...\n",
       "1009     [331.0, 332.0, 333.0, 334.0, 335.0, 336.0, 337...\n",
       "1011     [179.0, 180.0, nan, 182.0, 183.0, 184.0, 185.0...\n",
       "                               ...                        \n",
       "50984    [157.0, 158.0, 159.0, nan, 161.0, 162.0, nan, ...\n",
       "50990    [70.0, 71.0, 72.0, nan, nan, 75.0, 76.0, 77.0,...\n",
       "50992    [159.0, 160.0, 161.0, 162.0, 163.0, nan, 165.0...\n",
       "50996    [206.0, 207.0, 208.0, 209.0, 210.0, 211.0, 212...\n",
       "50999    [226.0, 227.0, 228.0, 229.0, 230.0, 231.0, 232...\n",
       "Name: Credit_History_Age, Length: 12500, dtype: object"
      ]
     },
     "execution_count": 28,
     "metadata": {},
     "output_type": "execute_result"
    }
   ],
   "source": [
    "df.groupby('Customer_ID')['Credit_History_Age'].apply(list)"
   ]
  },
  {
   "cell_type": "markdown",
   "metadata": {},
   "source": [
    "#### Type_of_Loan\n",
    "\n",
    "- https://celik-muhammed.medium.com/how-to-converting-pandas-column-of-comma-separated-strings-into-dummy-variables-762c02282a6c"
   ]
  },
  {
   "cell_type": "code",
   "execution_count": 29,
   "metadata": {
    "execution": {
     "iopub.execute_input": "2023-05-05T21:01:07.788699Z",
     "iopub.status.busy": "2023-05-05T21:01:07.788311Z",
     "iopub.status.idle": "2023-05-05T21:01:07.811041Z",
     "shell.execute_reply": "2023-05-05T21:01:07.809798Z",
     "shell.execute_reply.started": "2023-05-05T21:01:07.788666Z"
    },
    "trusted": true
   },
   "outputs": [
    {
     "data": {
      "text/plain": [
       "Type_of_Loan\n",
       "NaN                                         17112\n",
       "Not Specified                                2112\n",
       "Credit-Builder Loan                          1920\n",
       "Personal Loan                                1908\n",
       "Debt Consolidation Loan                      1896\n",
       "Student Loan                                 1860\n",
       "Payday Loan                                  1800\n",
       "Mortgage Loan                                1764\n",
       "Auto Loan                                    1728\n",
       "Home Equity Loan                             1704\n",
       "Personal Loan, and Student Loan               480\n",
       "Not Specified, and Payday Loan                408\n",
       "Mortgage Loan, and Home Equity Loan           396\n",
       "Student Loan, and Payday Loan                 384\n",
       "Credit-Builder Loan, and Not Specified        372\n",
       "Student Loan, and Credit-Builder Loan         372\n",
       "Payday Loan, and Auto Loan                    360\n",
       "Payday Loan, and Debt Consolidation Loan      360\n",
       "Personal Loan, and Credit-Builder Loan        348\n",
       "Payday Loan, and Student Loan                 348\n",
       "Name: count, dtype: int64"
      ]
     },
     "execution_count": 29,
     "metadata": {},
     "output_type": "execute_result"
    }
   ],
   "source": [
    "df['Type_of_Loan'].value_counts(dropna=False).head(20)"
   ]
  },
  {
   "cell_type": "code",
   "execution_count": 30,
   "metadata": {
    "execution": {
     "iopub.execute_input": "2023-05-05T21:02:19.356649Z",
     "iopub.status.busy": "2023-05-05T21:02:19.356217Z",
     "iopub.status.idle": "2023-05-05T21:02:19.624109Z",
     "shell.execute_reply": "2023-05-05T21:02:19.622761Z",
     "shell.execute_reply.started": "2023-05-05T21:02:19.356615Z"
    },
    "trusted": true
   },
   "outputs": [],
   "source": [
    "df['Type_of_Loan'] = df['Type_of_Loan'].apply(lambda x: x.lower().replace('and ', '').replace(', ', ',').strip() if pd.notna(x) else x)"
   ]
  },
  {
   "cell_type": "code",
   "execution_count": 31,
   "metadata": {
    "_cell_guid": "e66cdbee-a882-42c5-a5f2-8e4679db512b",
    "_uuid": "71a326e7-3fdf-4fd3-974d-5282fcb15a4e",
    "collapsed": false,
    "execution": {
     "iopub.execute_input": "2023-05-05T21:02:21.0232Z",
     "iopub.status.busy": "2023-05-05T21:02:21.022766Z",
     "iopub.status.idle": "2023-05-05T21:02:21.09141Z",
     "shell.execute_reply": "2023-05-05T21:02:21.090197Z",
     "shell.execute_reply.started": "2023-05-05T21:02:21.023162Z"
    },
    "jupyter": {
     "outputs_hidden": false
    },
    "trusted": true
   },
   "outputs": [
    {
     "data": {
      "text/plain": [
       "Customer_ID  Type_of_Loan                                                                                \n",
       "1006         credit-builder loan,payday loan                                                                 12\n",
       "1007         home equity loan,mortgage loan,student loan                                                     12\n",
       "1008         NaN                                                                                             12\n",
       "1009         credit-builder loan,student loan,not specified,student loan                                     12\n",
       "1011         personal loan,auto loan,auto loan                                                               12\n",
       "                                                                                                             ..\n",
       "50984        home equity loan,mortgage loan,payday loan,mortgage loan,mortgage loan,payday loan              12\n",
       "50990        mortgage loan,auto loan,auto loan                                                               12\n",
       "50992        student loan,credit-builder loan,mortgage loan,payday loan,home equity loan,home equity loan    12\n",
       "50996        NaN                                                                                             12\n",
       "50999        credit-builder loan                                                                             12\n",
       "Name: count, Length: 12500, dtype: int64"
      ]
     },
     "execution_count": 31,
     "metadata": {},
     "output_type": "execute_result"
    }
   ],
   "source": [
    "df.groupby('Customer_ID')['Type_of_Loan'].value_counts(dropna=False)"
   ]
  },
  {
   "cell_type": "code",
   "execution_count": 32,
   "metadata": {
    "_cell_guid": "8e9132fb-9afa-4718-9bb4-3c41b6d3fcbc",
    "_uuid": "5afbc1dc-c11c-4a5c-a67f-4db8d6c007cd",
    "collapsed": false,
    "execution": {
     "iopub.execute_input": "2023-05-05T21:02:30.978879Z",
     "iopub.status.busy": "2023-05-05T21:02:30.978504Z",
     "iopub.status.idle": "2023-05-05T21:02:31.266406Z",
     "shell.execute_reply": "2023-05-05T21:02:31.265333Z",
     "shell.execute_reply.started": "2023-05-05T21:02:30.978849Z"
    },
    "jupyter": {
     "outputs_hidden": false
    },
    "trusted": true
   },
   "outputs": [
    {
     "data": {
      "text/plain": [
       "Customer_ID\n",
       "1006     [credit-builder loan,payday loan, credit-build...\n",
       "1007     [home equity loan,mortgage loan,student loan, ...\n",
       "1008     [nan, nan, nan, nan, nan, nan, nan, nan, nan, ...\n",
       "1009     [credit-builder loan,student loan,not specifie...\n",
       "1011     [personal loan,auto loan,auto loan, personal l...\n",
       "                               ...                        \n",
       "50984    [home equity loan,mortgage loan,payday loan,mo...\n",
       "50990    [mortgage loan,auto loan,auto loan, mortgage l...\n",
       "50992    [student loan,credit-builder loan,mortgage loa...\n",
       "50996    [nan, nan, nan, nan, nan, nan, nan, nan, nan, ...\n",
       "50999    [credit-builder loan, credit-builder loan, cre...\n",
       "Name: Type_of_Loan, Length: 12500, dtype: object"
      ]
     },
     "execution_count": 32,
     "metadata": {},
     "output_type": "execute_result"
    }
   ],
   "source": [
    "df.groupby('Customer_ID')['Type_of_Loan'].apply(list)"
   ]
  },
  {
   "cell_type": "code",
   "execution_count": 33,
   "metadata": {
    "_cell_guid": "83713cc9-b78c-4b09-bbc0-443d9dee72f6",
    "_uuid": "ab158b2c-7093-4bce-ac4f-720c9c0b6e7e",
    "collapsed": false,
    "execution": {
     "iopub.execute_input": "2023-05-05T21:02:34.430418Z",
     "iopub.status.busy": "2023-05-05T21:02:34.429491Z",
     "iopub.status.idle": "2023-05-05T21:02:34.437852Z",
     "shell.execute_reply": "2023-05-05T21:02:34.436939Z",
     "shell.execute_reply.started": "2023-05-05T21:02:34.430358Z"
    },
    "jupyter": {
     "outputs_hidden": false
    },
    "trusted": true
   },
   "outputs": [],
   "source": [
    "def get_Diff_Values_Colum(df_column, diff_value=[], sep=',', replace=''):   \n",
    "    column = df_column.dropna()\n",
    "    for i in column:\n",
    "        if sep not in i and i not in diff_value:\n",
    "            diff_value.append(i)\n",
    "        else:\n",
    "            for data in map(lambda x:x.strip(), re.sub(replace, '', i).split(sep)):\n",
    "                if not data in diff_value:\n",
    "                    diff_value.append(data)\n",
    "    return dict(enumerate(sorted(diff_value)))"
   ]
  },
  {
   "cell_type": "code",
   "execution_count": 34,
   "metadata": {
    "_cell_guid": "1452a7d3-e111-4548-badc-48557a084bd1",
    "_uuid": "027dda61-9e50-488b-a1f3-5c938e7694cf",
    "collapsed": false,
    "execution": {
     "iopub.execute_input": "2023-05-05T21:02:37.051087Z",
     "iopub.status.busy": "2023-05-05T21:02:37.050113Z",
     "iopub.status.idle": "2023-05-05T21:02:38.783051Z",
     "shell.execute_reply": "2023-05-05T21:02:38.781949Z",
     "shell.execute_reply.started": "2023-05-05T21:02:37.051028Z"
    },
    "jupyter": {
     "outputs_hidden": false
    },
    "trusted": true
   },
   "outputs": [
    {
     "data": {
      "text/plain": [
       "{0: 'auto loan',\n",
       " 1: 'credit-builder loan',\n",
       " 2: 'debt consolidation loan',\n",
       " 3: 'home equity loan',\n",
       " 4: 'mortgage loan',\n",
       " 5: 'not specified',\n",
       " 6: 'payday loan',\n",
       " 7: 'personal loan',\n",
       " 8: 'student loan'}"
      ]
     },
     "execution_count": 34,
     "metadata": {},
     "output_type": "execute_result"
    }
   ],
   "source": [
    "get_Diff_Values_Colum(df['Type_of_Loan'])"
   ]
  },
  {
   "cell_type": "markdown",
   "metadata": {
    "_cell_guid": "61cab54c-26cc-4f54-a985-324872885e21",
    "_uuid": "df057f50-2351-417e-afcc-004d47288204",
    "trusted": true
   },
   "source": [
    "# 02. Exploratory Data Analysis (EDA)\n",
    "- Detect NaN Values and Fill by Customer_ID Group"
   ]
  },
  {
   "cell_type": "markdown",
   "metadata": {
    "_cell_guid": "96ec586f-7461-4c21-9fa3-ff09d9276e13",
    "_uuid": "4339d830-4851-4529-997a-33bd3d687718",
    "trusted": true
   },
   "source": [
    "# A. Object Column NaN Values: Reassign Group Mode Values"
   ]
  },
  {
   "cell_type": "code",
   "execution_count": 35,
   "metadata": {
    "_cell_guid": "97d3816b-555b-4e25-b4c2-2a64a1097850",
    "_uuid": "38fabc62-f3a5-4650-9398-0b8987d25ee9",
    "collapsed": false,
    "execution": {
     "iopub.execute_input": "2023-05-05T21:03:13.622232Z",
     "iopub.status.busy": "2023-05-05T21:03:13.621807Z",
     "iopub.status.idle": "2023-05-05T21:03:13.636123Z",
     "shell.execute_reply": "2023-05-05T21:03:13.634884Z",
     "shell.execute_reply.started": "2023-05-05T21:03:13.622194Z"
    },
    "jupyter": {
     "outputs_hidden": false
    },
    "trusted": true
   },
   "outputs": [],
   "source": [
    "# Reassign and Show Function\n",
    "def Object_NaN_Values_Reassign_Group_Mode(df, groupby, column, inplace=True):      \n",
    "    import scipy.stats as stats\n",
    "    # Assigning Wrong values Make Simple Function\n",
    "    def make_NaN_and_fill_mode(df, groupby, column, inplace=True):\n",
    "        # Assign None to np.NaN\n",
    "        if df[column].isin([None]).sum():\n",
    "            df[column][df[column].isin([None])] = np.NaN\n",
    "            \n",
    "        # fill with local mode\n",
    "        result = df.groupby(groupby)[column].transform(lambda x: x.fillna(stats.mode(x)[0][0]))\n",
    "\n",
    "        # inplace\n",
    "        if inplace:\n",
    "            df[column]=result\n",
    "        else:\n",
    "            return result\n",
    "    \n",
    "    # Run      \n",
    "    if inplace:  \n",
    "        # Before Assigning NaN values   \n",
    "        if df[column].value_counts(dropna=False).index.isna().sum():\n",
    "            x = df[column].value_counts(dropna=False).loc[[np.NaN]]\n",
    "            print(f'\\nBefore Assigning: {column}:', f'have {x.values[0]} NaN Values', end='\\n')\n",
    "            \n",
    "        a = df.groupby(groupby)[column].apply(list) \n",
    "        print(f'\\nBefore Assigning Example {column}:\\n', *a.head().values, sep='\\n', end='\\n')\n",
    "        \n",
    "        # Assigning\n",
    "        make_NaN_and_fill_mode(df, groupby, column, inplace)\n",
    "        \n",
    "        # After Assigning NaN values\n",
    "        if df[column].value_counts(dropna=False).index.isna().sum():\n",
    "            y = df[column].value_counts(dropna=False).loc[[np.NaN]]\n",
    "            print(f'\\nBefore Assigning: {column}:', f'have {y.values[0]} NaN Values', end='\\n')\n",
    "            \n",
    "        b = df.groupby(groupby)[column].apply(list)\n",
    "        print(f'\\nAfter Assigning Example {column}:\\n', *b.head().values, sep='\\n', end='\\n')\n",
    "    else:   \n",
    "        # Show\n",
    "        return make_NaN_and_fill_mode(df, groupby, column, inplace)"
   ]
  },
  {
   "cell_type": "code",
   "execution_count": 36,
   "metadata": {
    "execution": {
     "iopub.execute_input": "2023-05-05T21:03:14.079216Z",
     "iopub.status.busy": "2023-05-05T21:03:14.078801Z",
     "iopub.status.idle": "2023-05-05T21:03:14.114557Z",
     "shell.execute_reply": "2023-05-05T21:03:14.11334Z",
     "shell.execute_reply.started": "2023-05-05T21:03:14.079181Z"
    },
    "trusted": true
   },
   "outputs": [
    {
     "data": {
      "text/plain": [
       "(150000, 28)"
      ]
     },
     "execution_count": 36,
     "metadata": {},
     "output_type": "execute_result"
    }
   ],
   "source": [
    "df_copy2 = df.copy()\n",
    "df_copy2.shape"
   ]
  },
  {
   "cell_type": "code",
   "execution_count": 38,
   "metadata": {
    "execution": {
     "iopub.execute_input": "2023-05-05T21:03:14.553693Z",
     "iopub.status.busy": "2023-05-05T21:03:14.553299Z",
     "iopub.status.idle": "2023-05-05T21:03:14.620257Z",
     "shell.execute_reply": "2023-05-05T21:03:14.61905Z",
     "shell.execute_reply.started": "2023-05-05T21:03:14.553659Z"
    },
    "trusted": true
   },
   "outputs": [
    {
     "name": "stdout",
     "output_type": "stream",
     "text": [
      "<class 'pandas.core.frame.DataFrame'>\n",
      "RangeIndex: 150000 entries, 0 to 149999\n",
      "Data columns (total 28 columns):\n",
      " #   Column                    Non-Null Count   Dtype  \n",
      "---  ------                    --------------   -----  \n",
      " 0   ID                        150000 non-null  int64  \n",
      " 1   Customer_ID               150000 non-null  int64  \n",
      " 2   Month                     150000 non-null  int32  \n",
      " 3   Name                      135000 non-null  object \n",
      " 4   Age                       150000 non-null  int64  \n",
      " 5   SSN                       141600 non-null  float64\n",
      " 6   Occupation                139500 non-null  object \n",
      " 7   Annual_Income             150000 non-null  float64\n",
      " 8   Monthly_Inhand_Salary     127500 non-null  float64\n",
      " 9   Num_Bank_Accounts         150000 non-null  int64  \n",
      " 10  Num_Credit_Card           150000 non-null  int64  \n",
      " 11  Interest_Rate             150000 non-null  int64  \n",
      " 12  Num_of_Loan               150000 non-null  int64  \n",
      " 13  Type_of_Loan              132888 non-null  object \n",
      " 14  Delay_from_due_date       150000 non-null  int64  \n",
      " 15  Num_of_Delayed_Payment    139500 non-null  float64\n",
      " 16  Changed_Credit_Limit      146850 non-null  float64\n",
      " 17  Num_Credit_Inquiries      147000 non-null  float64\n",
      " 18  Credit_Mix                120000 non-null  object \n",
      " 19  Outstanding_Debt          150000 non-null  float64\n",
      " 20  Credit_Utilization_Ratio  150000 non-null  float64\n",
      " 21  Credit_History_Age        136500 non-null  float64\n",
      " 22  Payment_of_Min_Amount     150000 non-null  object \n",
      " 23  Total_EMI_per_month       150000 non-null  float64\n",
      " 24  Amount_invested_monthly   143250 non-null  float64\n",
      " 25  Payment_Behaviour         138600 non-null  object \n",
      " 26  Monthly_Balance           148238 non-null  float64\n",
      " 27  Credit_Score              100000 non-null  object \n",
      "dtypes: float64(12), int32(1), int64(8), object(7)\n",
      "memory usage: 31.5+ MB\n"
     ]
    }
   ],
   "source": [
    "df = df_copy2\n",
    "df.info()"
   ]
  },
  {
   "cell_type": "markdown",
   "metadata": {},
   "source": [
    "### Name"
   ]
  },
  {
   "cell_type": "code",
   "execution_count": 39,
   "metadata": {
    "_cell_guid": "48b62f69-a0b3-424d-883c-48222cf67688",
    "_uuid": "e49281a9-45dd-4f5c-a730-2a1f9cab6133",
    "collapsed": false,
    "execution": {
     "iopub.execute_input": "2023-05-05T21:03:15.400938Z",
     "iopub.status.busy": "2023-05-05T21:03:15.400515Z",
     "iopub.status.idle": "2023-05-05T21:03:15.424687Z",
     "shell.execute_reply": "2023-05-05T21:03:15.423656Z",
     "shell.execute_reply.started": "2023-05-05T21:03:15.400903Z"
    },
    "jupyter": {
     "outputs_hidden": false
    },
    "trusted": true
   },
   "outputs": [
    {
     "data": {
      "text/plain": [
       "Name\n",
       "NaN                   15000\n",
       "Stevex                   66\n",
       "Langep                   65\n",
       "Jessicad                 59\n",
       "Deepa Seetharamanm       58\n",
       "Name: count, dtype: int64"
      ]
     },
     "execution_count": 39,
     "metadata": {},
     "output_type": "execute_result"
    }
   ],
   "source": [
    "df['Name'].value_counts(dropna=False).head()"
   ]
  },
  {
   "cell_type": "code",
   "execution_count": 42,
   "metadata": {
    "_cell_guid": "cff02fa1-0bb7-412d-9a92-2bf45abc89a8",
    "_uuid": "a4ae3aba-4c3e-446d-b0b8-17dd0c067cb3",
    "collapsed": false,
    "execution": {
     "iopub.execute_input": "2023-05-05T21:03:15.853399Z",
     "iopub.status.busy": "2023-05-05T21:03:15.852483Z",
     "iopub.status.idle": "2023-05-05T21:03:22.105874Z",
     "shell.execute_reply": "2023-05-05T21:03:22.104612Z",
     "shell.execute_reply.started": "2023-05-05T21:03:15.853358Z"
    },
    "jupyter": {
     "outputs_hidden": false
    },
    "trusted": true
   },
   "outputs": [
    {
     "name": "stdout",
     "output_type": "stream",
     "text": [
      "\n",
      "Before Assigning: Name: have 15000 NaN Values\n",
      "\n",
      "Before Assigning Example Name:\n",
      "\n",
      "['Matthias Blamontb', 'Matthias Blamontb', 'Matthias Blamontb', 'Matthias Blamontb', 'Matthias Blamontb', 'Matthias Blamontb', 'Matthias Blamontb', nan, nan, 'Matthias Blamontb', nan, 'Matthias Blamontb']\n",
      "[nan, 'Soyoung Kimu', 'Soyoung Kimu', 'Soyoung Kimu', 'Soyoung Kimu', nan, nan, 'Soyoung Kimu', 'Soyoung Kimu', 'Soyoung Kimu', nan, 'Soyoung Kimu']\n",
      "['Koht', 'Koht', 'Koht', 'Koht', 'Koht', 'Koht', 'Koht', nan, 'Koht', 'Koht', 'Koht', 'Koht']\n",
      "['Edd', 'Edd', 'Edd', 'Edd', 'Edd', 'Edd', 'Edd', 'Edd', 'Edd', 'Edd', 'Edd', nan]\n",
      "['Terry Wadeu', 'Terry Wadeu', 'Terry Wadeu', 'Terry Wadeu', 'Terry Wadeu', 'Terry Wadeu', 'Terry Wadeu', nan, nan, 'Terry Wadeu', 'Terry Wadeu', nan]\n"
     ]
    },
    {
     "ename": "TypeError",
     "evalue": "Argument `a` is not recognized as numeric. Support for input that cannot be coerced to a numeric array was deprecated in SciPy 1.9.0 and removed in SciPy 1.11.0. Please consider `np.unique`.",
     "output_type": "error",
     "traceback": [
      "\u001b[31m---------------------------------------------------------------------------\u001b[39m",
      "\u001b[31mTypeError\u001b[39m                                 Traceback (most recent call last)",
      "\u001b[32m/tmp/ipykernel_1175354/1518758307.py\u001b[39m in \u001b[36m?\u001b[39m\u001b[34m()\u001b[39m\n\u001b[32m----> \u001b[39m\u001b[32m1\u001b[39m Object_NaN_Values_Reassign_Group_Mode(df, \u001b[33m'Customer_ID'\u001b[39m, \u001b[33m'Name'\u001b[39m)\n",
      "\u001b[32m/tmp/ipykernel_1175354/2878296515.py\u001b[39m in \u001b[36m?\u001b[39m\u001b[34m(df, groupby, column, inplace)\u001b[39m\n\u001b[32m     26\u001b[39m         a = df.groupby(groupby)[column].apply(list)\n\u001b[32m     27\u001b[39m         print(\u001b[33mf'\\nBefore Assigning Example {column}:\\n'\u001b[39m, *a.head().values, sep=\u001b[33m'\\n'\u001b[39m, end=\u001b[33m'\\n'\u001b[39m)\n\u001b[32m     28\u001b[39m \n\u001b[32m     29\u001b[39m         \u001b[38;5;66;03m# Assigning\u001b[39;00m\n\u001b[32m---> \u001b[39m\u001b[32m30\u001b[39m         make_NaN_and_fill_mode(df, groupby, column, inplace)\n\u001b[32m     31\u001b[39m \n\u001b[32m     32\u001b[39m         \u001b[38;5;66;03m# After Assigning NaN values\u001b[39;00m\n\u001b[32m     33\u001b[39m         \u001b[38;5;28;01mif\u001b[39;00m df[column].value_counts(dropna=\u001b[38;5;28;01mFalse\u001b[39;00m).index.isna().sum():\n",
      "\u001b[32m/tmp/ipykernel_1175354/2878296515.py\u001b[39m in \u001b[36m?\u001b[39m\u001b[34m(df, groupby, column, inplace)\u001b[39m\n\u001b[32m      7\u001b[39m         \u001b[38;5;28;01mif\u001b[39;00m df[column].isin([\u001b[38;5;28;01mNone\u001b[39;00m]).sum():\n\u001b[32m      8\u001b[39m             df[column][df[column].isin([\u001b[38;5;28;01mNone\u001b[39;00m])] = np.NaN\n\u001b[32m      9\u001b[39m \n\u001b[32m     10\u001b[39m         \u001b[38;5;66;03m# fill with local mode\u001b[39;00m\n\u001b[32m---> \u001b[39m\u001b[32m11\u001b[39m         result = df.groupby(groupby)[column].transform(\u001b[38;5;28;01mlambda\u001b[39;00m x: x.fillna(stats.mode(x)[\u001b[32m0\u001b[39m][\u001b[32m0\u001b[39m]))\n\u001b[32m     12\u001b[39m \n\u001b[32m     13\u001b[39m         \u001b[38;5;66;03m# inplace\u001b[39;00m\n\u001b[32m     14\u001b[39m         \u001b[38;5;28;01mif\u001b[39;00m inplace:\n",
      "\u001b[32m~/anaconda3/envs/libs/lib/python3.11/site-packages/pandas/core/groupby/generic.py\u001b[39m in \u001b[36m?\u001b[39m\u001b[34m(self, func, engine, engine_kwargs, *args, **kwargs)\u001b[39m\n\u001b[32m    514\u001b[39m     @Substitution(klass=\u001b[33m\"Series\"\u001b[39m, example=__examples_series_doc)\n\u001b[32m    515\u001b[39m     @Appender(_transform_template)\n\u001b[32m    516\u001b[39m     \u001b[38;5;28;01mdef\u001b[39;00m transform(self, func, *args, engine=\u001b[38;5;28;01mNone\u001b[39;00m, engine_kwargs=\u001b[38;5;28;01mNone\u001b[39;00m, **kwargs):\n\u001b[32m--> \u001b[39m\u001b[32m517\u001b[39m         return self._transform(\n\u001b[32m    518\u001b[39m             func, *args, engine=engine, engine_kwargs=engine_kwargs, **kwargs\n\u001b[32m    519\u001b[39m         )\n",
      "\u001b[32m~/anaconda3/envs/libs/lib/python3.11/site-packages/pandas/core/groupby/groupby.py\u001b[39m in \u001b[36m?\u001b[39m\u001b[34m(self, func, engine, engine_kwargs, *args, **kwargs)\u001b[39m\n\u001b[32m   2024\u001b[39m         \u001b[38;5;28;01mif\u001b[39;00m orig_func != func:\n\u001b[32m   2025\u001b[39m             warn_alias_replacement(self, orig_func, func)\n\u001b[32m   2026\u001b[39m \n\u001b[32m   2027\u001b[39m         \u001b[38;5;28;01mif\u001b[39;00m \u001b[38;5;28;01mnot\u001b[39;00m isinstance(func, str):\n\u001b[32m-> \u001b[39m\u001b[32m2028\u001b[39m             \u001b[38;5;28;01mreturn\u001b[39;00m self._transform_general(func, engine, engine_kwargs, *args, **kwargs)\n\u001b[32m   2029\u001b[39m \n\u001b[32m   2030\u001b[39m         \u001b[38;5;28;01melif\u001b[39;00m func \u001b[38;5;28;01mnot\u001b[39;00m \u001b[38;5;28;01min\u001b[39;00m base.transform_kernel_allowlist:\n\u001b[32m   2031\u001b[39m             msg = \u001b[33mf\"'{func}' is not a valid function name for transform(name)\"\u001b[39m\n",
      "\u001b[32m~/anaconda3/envs/libs/lib/python3.11/site-packages/pandas/core/groupby/generic.py\u001b[39m in \u001b[36m?\u001b[39m\u001b[34m(self, func, engine, engine_kwargs, *args, **kwargs)\u001b[39m\n\u001b[32m    553\u001b[39m             self._obj_with_exclusions, axis=self.axis\n\u001b[32m    554\u001b[39m         ):\n\u001b[32m    555\u001b[39m             \u001b[38;5;66;03m# this setattr is needed for test_transform_lambda_with_datetimetz\u001b[39;00m\n\u001b[32m    556\u001b[39m             object.__setattr__(group, \u001b[33m\"name\"\u001b[39m, name)\n\u001b[32m--> \u001b[39m\u001b[32m557\u001b[39m             res = func(group, *args, **kwargs)\n\u001b[32m    558\u001b[39m \n\u001b[32m    559\u001b[39m             results.append(klass(res, index=group.index))\n\u001b[32m    560\u001b[39m \n",
      "\u001b[32m/tmp/ipykernel_1175354/2878296515.py\u001b[39m in \u001b[36m?\u001b[39m\u001b[34m(x)\u001b[39m\n\u001b[32m---> \u001b[39m\u001b[32m11\u001b[39m         result = df.groupby(groupby)[column].transform(\u001b[38;5;28;01mlambda\u001b[39;00m x: x.fillna(stats.mode(x)[\u001b[32m0\u001b[39m][\u001b[32m0\u001b[39m]))\n",
      "\u001b[32m~/anaconda3/envs/libs/lib/python3.11/site-packages/scipy/stats/_axis_nan_policy.py\u001b[39m in \u001b[36m?\u001b[39m\u001b[34m(***failed resolving arguments***)\u001b[39m\n\u001b[32m    575\u001b[39m                     res = np.full(n_out, NaN)\n\u001b[32m    576\u001b[39m                     res = _add_reduced_axes(res, reduced_axes, keepdims)\n\u001b[32m    577\u001b[39m                     \u001b[38;5;28;01mreturn\u001b[39;00m tuple_to_result(*res)\n\u001b[32m    578\u001b[39m \n\u001b[32m--> \u001b[39m\u001b[32m579\u001b[39m                 res = hypotest_fun_out(*samples, **kwds)\n\u001b[32m    580\u001b[39m                 res = result_to_tuple(res, n_out)\n\u001b[32m    581\u001b[39m                 res = _add_reduced_axes(res, reduced_axes, keepdims)\n\u001b[32m    582\u001b[39m                 \u001b[38;5;28;01mreturn\u001b[39;00m tuple_to_result(*res)\n",
      "\u001b[32m~/anaconda3/envs/libs/lib/python3.11/site-packages/scipy/stats/_stats_py.py\u001b[39m in \u001b[36m?\u001b[39m\u001b[34m(a, axis, nan_policy, keepdims)\u001b[39m\n\u001b[32m    563\u001b[39m         message = (\"Argument `a` is not recognized as numeric. \"\n\u001b[32m    564\u001b[39m                    \u001b[33m\"Support for input that cannot be coerced to a numeric \"\u001b[39m\n\u001b[32m    565\u001b[39m                    \u001b[33m\"array was deprecated in SciPy 1.9.0 and removed in SciPy \"\u001b[39m\n\u001b[32m    566\u001b[39m                    \"1.11.0. Please consider `np.unique`.\")\n\u001b[32m--> \u001b[39m\u001b[32m567\u001b[39m         \u001b[38;5;28;01mraise\u001b[39;00m TypeError(message)\n\u001b[32m    568\u001b[39m \n\u001b[32m    569\u001b[39m     \u001b[38;5;28;01mif\u001b[39;00m a.size == \u001b[32m0\u001b[39m:\n\u001b[32m    570\u001b[39m         NaN = _get_nan(a)\n",
      "\u001b[31mTypeError\u001b[39m: Argument `a` is not recognized as numeric. Support for input that cannot be coerced to a numeric array was deprecated in SciPy 1.9.0 and removed in SciPy 1.11.0. Please consider `np.unique`."
     ]
    }
   ],
   "source": [
    "Object_NaN_Values_Reassign_Group_Mode(df, 'Customer_ID', 'Name')"
   ]
  },
  {
   "cell_type": "markdown",
   "metadata": {},
   "source": [
    "### Occupation"
   ]
  },
  {
   "cell_type": "code",
   "execution_count": null,
   "metadata": {
    "_cell_guid": "808b3b8d-c4ae-4536-96e1-a34d91d005ba",
    "_uuid": "cd3c378f-bd17-421a-813f-ba40cfa617ec",
    "collapsed": false,
    "execution": {
     "iopub.execute_input": "2023-05-05T21:03:22.108919Z",
     "iopub.status.busy": "2023-05-05T21:03:22.108186Z",
     "iopub.status.idle": "2023-05-05T21:03:22.128003Z",
     "shell.execute_reply": "2023-05-05T21:03:22.126742Z",
     "shell.execute_reply.started": "2023-05-05T21:03:22.108871Z"
    },
    "jupyter": {
     "outputs_hidden": false
    },
    "trusted": true
   },
   "outputs": [],
   "source": [
    "df['Occupation'].value_counts(dropna=False)"
   ]
  },
  {
   "cell_type": "code",
   "execution_count": null,
   "metadata": {
    "_cell_guid": "6acf9a3b-a728-4816-8c10-a263cedc9afd",
    "_uuid": "fd2c93c4-6f57-43ab-aef1-220304727c03",
    "collapsed": false,
    "execution": {
     "iopub.execute_input": "2023-05-05T21:03:22.129382Z",
     "iopub.status.busy": "2023-05-05T21:03:22.129049Z",
     "iopub.status.idle": "2023-05-05T21:03:28.337383Z",
     "shell.execute_reply": "2023-05-05T21:03:28.336113Z",
     "shell.execute_reply.started": "2023-05-05T21:03:22.129353Z"
    },
    "jupyter": {
     "outputs_hidden": false
    },
    "trusted": true
   },
   "outputs": [],
   "source": [
    "Object_NaN_Values_Reassign_Group_Mode(df, 'Customer_ID', 'Occupation')"
   ]
  },
  {
   "cell_type": "markdown",
   "metadata": {},
   "source": [
    "### Type_of_Loan"
   ]
  },
  {
   "cell_type": "code",
   "execution_count": null,
   "metadata": {
    "_cell_guid": "dce8697c-5bcc-402a-9b32-83bc00f2c5c6",
    "_uuid": "535f21bc-2d32-46f1-8a39-19b95bdf9817",
    "collapsed": false,
    "execution": {
     "iopub.execute_input": "2023-05-05T21:03:28.340046Z",
     "iopub.status.busy": "2023-05-05T21:03:28.339709Z",
     "iopub.status.idle": "2023-05-05T21:03:28.397664Z",
     "shell.execute_reply": "2023-05-05T21:03:28.396606Z",
     "shell.execute_reply.started": "2023-05-05T21:03:28.340017Z"
    },
    "jupyter": {
     "outputs_hidden": false
    },
    "trusted": true
   },
   "outputs": [],
   "source": [
    "df.groupby('Customer_ID')['Type_of_Loan'].value_counts(dropna=False)"
   ]
  },
  {
   "cell_type": "code",
   "execution_count": null,
   "metadata": {
    "_cell_guid": "0b040723-ada2-4a95-8660-9b3392ab150e",
    "_uuid": "16b1bd5f-883e-48b2-9d8f-552f21ab38f9",
    "collapsed": false,
    "execution": {
     "iopub.execute_input": "2023-05-05T21:03:28.399915Z",
     "iopub.status.busy": "2023-05-05T21:03:28.399219Z",
     "iopub.status.idle": "2023-05-05T21:03:28.416675Z",
     "shell.execute_reply": "2023-05-05T21:03:28.415577Z",
     "shell.execute_reply.started": "2023-05-05T21:03:28.399869Z"
    },
    "jupyter": {
     "outputs_hidden": false
    },
    "trusted": true
   },
   "outputs": [],
   "source": [
    "df['Type_of_Loan'].replace([np.NaN], 'No Data', inplace=True)"
   ]
  },
  {
   "cell_type": "markdown",
   "metadata": {},
   "source": [
    "### Credit_Mix"
   ]
  },
  {
   "cell_type": "code",
   "execution_count": null,
   "metadata": {
    "_cell_guid": "d0dea104-aec9-4b30-b0af-bbbf01fee0e2",
    "_uuid": "cfa11eb6-f2d6-4a10-a16e-ef4c13c02d03",
    "collapsed": false,
    "execution": {
     "iopub.execute_input": "2023-05-05T21:03:28.419292Z",
     "iopub.status.busy": "2023-05-05T21:03:28.418615Z",
     "iopub.status.idle": "2023-05-05T21:03:28.436568Z",
     "shell.execute_reply": "2023-05-05T21:03:28.435488Z",
     "shell.execute_reply.started": "2023-05-05T21:03:28.419256Z"
    },
    "jupyter": {
     "outputs_hidden": false
    },
    "trusted": true
   },
   "outputs": [],
   "source": [
    "df['Credit_Mix'].value_counts(dropna=False)"
   ]
  },
  {
   "cell_type": "code",
   "execution_count": null,
   "metadata": {
    "_cell_guid": "b0c4882b-1164-4974-bb85-e99669e0cced",
    "_uuid": "6c558851-96c6-47a9-9290-d14426915cfb",
    "collapsed": false,
    "execution": {
     "iopub.execute_input": "2023-05-05T21:03:28.438932Z",
     "iopub.status.busy": "2023-05-05T21:03:28.43835Z",
     "iopub.status.idle": "2023-05-05T21:03:34.439649Z",
     "shell.execute_reply": "2023-05-05T21:03:34.438394Z",
     "shell.execute_reply.started": "2023-05-05T21:03:28.438887Z"
    },
    "jupyter": {
     "outputs_hidden": false
    },
    "trusted": true
   },
   "outputs": [],
   "source": [
    "Object_NaN_Values_Reassign_Group_Mode(df, 'Customer_ID', 'Credit_Mix')"
   ]
  },
  {
   "cell_type": "markdown",
   "metadata": {},
   "source": [
    "### Payment_of_Min_Amount"
   ]
  },
  {
   "cell_type": "code",
   "execution_count": null,
   "metadata": {
    "_cell_guid": "0df963c0-5e8c-45ec-81a4-f02664ac9a39",
    "_uuid": "51684f20-d1c2-42d3-82f2-b924ceeeda5c",
    "collapsed": false,
    "execution": {
     "iopub.execute_input": "2023-05-05T21:03:34.441528Z",
     "iopub.status.busy": "2023-05-05T21:03:34.441063Z",
     "iopub.status.idle": "2023-05-05T21:03:34.459606Z",
     "shell.execute_reply": "2023-05-05T21:03:34.458466Z",
     "shell.execute_reply.started": "2023-05-05T21:03:34.441493Z"
    },
    "jupyter": {
     "outputs_hidden": false
    },
    "trusted": true
   },
   "outputs": [],
   "source": [
    "# Not Required\n",
    "df['Payment_of_Min_Amount'].value_counts(dropna=False)"
   ]
  },
  {
   "cell_type": "markdown",
   "metadata": {},
   "source": [
    "### Payment_Behaviour"
   ]
  },
  {
   "cell_type": "code",
   "execution_count": null,
   "metadata": {
    "_cell_guid": "5c79ce59-1410-4029-aa77-6d89f38a7f53",
    "_uuid": "8e39aedc-37d9-4133-823b-b7feb845950a",
    "collapsed": false,
    "execution": {
     "iopub.execute_input": "2023-05-05T21:03:34.461709Z",
     "iopub.status.busy": "2023-05-05T21:03:34.460869Z",
     "iopub.status.idle": "2023-05-05T21:03:34.483833Z",
     "shell.execute_reply": "2023-05-05T21:03:34.482562Z",
     "shell.execute_reply.started": "2023-05-05T21:03:34.461661Z"
    },
    "jupyter": {
     "outputs_hidden": false
    },
    "trusted": true
   },
   "outputs": [],
   "source": [
    "df['Payment_Behaviour'].value_counts(dropna=False)"
   ]
  },
  {
   "cell_type": "code",
   "execution_count": null,
   "metadata": {
    "_cell_guid": "fef04541-176e-4310-88d3-edfef18a20cc",
    "_uuid": "a56c7d40-cbd7-47ce-87c4-a547df177920",
    "collapsed": false,
    "execution": {
     "iopub.execute_input": "2023-05-05T21:03:34.488306Z",
     "iopub.status.busy": "2023-05-05T21:03:34.487919Z",
     "iopub.status.idle": "2023-05-05T21:03:41.216935Z",
     "shell.execute_reply": "2023-05-05T21:03:41.215687Z",
     "shell.execute_reply.started": "2023-05-05T21:03:34.488275Z"
    },
    "jupyter": {
     "outputs_hidden": false
    },
    "trusted": true
   },
   "outputs": [],
   "source": [
    "Object_NaN_Values_Reassign_Group_Mode(df, 'Customer_ID', 'Payment_Behaviour')"
   ]
  },
  {
   "cell_type": "markdown",
   "metadata": {
    "_cell_guid": "4d613f70-7db1-4e42-8633-6ea2498e4ab1",
    "_uuid": "feb3e1d7-8c73-4875-8b44-59a4c62d5ee9",
    "execution": {
     "iopub.execute_input": "2022-07-14T20:30:58.808208Z",
     "iopub.status.busy": "2022-07-14T20:30:58.807447Z",
     "iopub.status.idle": "2022-07-14T20:30:58.812889Z",
     "shell.execute_reply": "2022-07-14T20:30:58.812082Z",
     "shell.execute_reply.started": "2022-07-14T20:30:58.808179Z"
    },
    "trusted": true
   },
   "source": [
    "# B. Numeric Column NaN Values: Reassign Group Min-Max"
   ]
  },
  {
   "cell_type": "code",
   "execution_count": null,
   "metadata": {
    "execution": {
     "iopub.execute_input": "2023-05-05T21:03:41.219403Z",
     "iopub.status.busy": "2023-05-05T21:03:41.218669Z",
     "iopub.status.idle": "2023-05-05T21:03:41.250648Z",
     "shell.execute_reply": "2023-05-05T21:03:41.249447Z",
     "shell.execute_reply.started": "2023-05-05T21:03:41.219357Z"
    },
    "trusted": true
   },
   "outputs": [],
   "source": [
    "df_copy3 = df.copy()\n",
    "df_copy3.shape"
   ]
  },
  {
   "cell_type": "code",
   "execution_count": null,
   "metadata": {
    "execution": {
     "iopub.execute_input": "2023-05-05T21:03:41.253044Z",
     "iopub.status.busy": "2023-05-05T21:03:41.252326Z",
     "iopub.status.idle": "2023-05-05T21:03:41.325444Z",
     "shell.execute_reply": "2023-05-05T21:03:41.324311Z",
     "shell.execute_reply.started": "2023-05-05T21:03:41.253001Z"
    },
    "trusted": true
   },
   "outputs": [],
   "source": [
    "df = df_copy3\n",
    "df.info()"
   ]
  },
  {
   "cell_type": "code",
   "execution_count": null,
   "metadata": {
    "_cell_guid": "c71d5b24-43a2-4230-b86f-2b3208024a70",
    "_uuid": "6026032c-efb3-49fc-a7c8-106265de840e",
    "collapsed": false,
    "execution": {
     "iopub.execute_input": "2023-05-05T21:03:41.32755Z",
     "iopub.status.busy": "2023-05-05T21:03:41.327154Z",
     "iopub.status.idle": "2023-05-05T21:03:41.336922Z",
     "shell.execute_reply": "2023-05-05T21:03:41.335487Z",
     "shell.execute_reply.started": "2023-05-05T21:03:41.327516Z"
    },
    "jupyter": {
     "outputs_hidden": false
    },
    "trusted": true
   },
   "outputs": [],
   "source": [
    "df['Customer_ID'].nunique()"
   ]
  },
  {
   "cell_type": "code",
   "execution_count": null,
   "metadata": {
    "_cell_guid": "53bef67e-8096-439f-a1ac-bb39dc54a0fa",
    "_uuid": "c5e82174-fe67-4e4e-9b17-b542338a0899",
    "collapsed": false,
    "execution": {
     "iopub.execute_input": "2023-05-05T21:03:41.339411Z",
     "iopub.status.busy": "2023-05-05T21:03:41.338613Z",
     "iopub.status.idle": "2023-05-05T21:03:41.345931Z",
     "shell.execute_reply": "2023-05-05T21:03:41.344979Z",
     "shell.execute_reply.started": "2023-05-05T21:03:41.339376Z"
    },
    "jupyter": {
     "outputs_hidden": false
    },
    "trusted": true
   },
   "outputs": [],
   "source": [
    "# Define Outlier Range\n",
    "def get_iqr_lower_upper(df, column, multiply=1.5):\n",
    "    q1 = df[column].quantile(0.25)\n",
    "    q3 = df[column].quantile(0.75)\n",
    "    iqr = q3 -q1\n",
    "    \n",
    "    lower = q1-iqr*multiply\n",
    "    upper = q3+iqr*multiply\n",
    "    affect = df.loc[(df[column]<lower)|(df[column]>upper)].shape\n",
    "    print('Outliers:', affect)\n",
    "    return lower, upper"
   ]
  },
  {
   "cell_type": "code",
   "execution_count": null,
   "metadata": {
    "_cell_guid": "258e3090-b0be-452f-8da1-de7b493d8881",
    "_uuid": "3498c143-b486-4cfd-9cbb-d41f1c29fade",
    "collapsed": false,
    "execution": {
     "iopub.execute_input": "2023-05-05T21:03:41.348054Z",
     "iopub.status.busy": "2023-05-05T21:03:41.347679Z",
     "iopub.status.idle": "2023-05-05T21:03:41.366325Z",
     "shell.execute_reply": "2023-05-05T21:03:41.365146Z",
     "shell.execute_reply.started": "2023-05-05T21:03:41.348021Z"
    },
    "jupyter": {
     "outputs_hidden": false
    },
    "trusted": true
   },
   "outputs": [],
   "source": [
    "# Reassign Wrong Values and Show Function\n",
    "def Numeric_Wrong_Values_Reassign_Group_Min_Max(df, groupby, column, inplace=True):      \n",
    "    import scipy.stats as stats \n",
    "\n",
    "    # Identify Wrong values Range\n",
    "    def get_group_min_max(df, groupby, column):            \n",
    "        cur = df[df[column].notna()].groupby(groupby)[column].apply(list)\n",
    "        x, y = cur.apply(lambda x: stats.mode(x)).apply([min, max])\n",
    "        return x[0][0], y[0][0]\n",
    "    \n",
    "    # Assigning Wrong values\n",
    "    def make_group_NaN_and_fill_mode(df, groupby, column, inplace=True):\n",
    "        df_dropped = df[df[column].notna()].groupby(groupby)[column].apply(list)\n",
    "        x, y = df_dropped.apply(lambda x: stats.mode(x)).apply([min, max])\n",
    "        mini, maxi = x[0][0], y[0][0]\n",
    "\n",
    "        # assign Wrong Values to NaN\n",
    "        col = df[column].apply(lambda x: np.NaN if ((x<mini)|(x>maxi)) else x)\n",
    "\n",
    "        # fill with local mode\n",
    "        mode_by_group = df.groupby(groupby)[column].transform(lambda x: x.mode()[0] if not x.mode().empty else np.NaN)\n",
    "        result = col.fillna(mode_by_group)\n",
    "\n",
    "        # inplace\n",
    "        if inplace:\n",
    "            df[column]=result\n",
    "        else:\n",
    "            return result\n",
    "        \n",
    "    \n",
    "    # Run      \n",
    "    if inplace:   \n",
    "        # Before Assigning NaN values   \n",
    "        if df[column].value_counts(dropna=False).index.isna().sum():\n",
    "            x = df[column].value_counts(dropna=False).loc[[np.NaN]]\n",
    "            print(f'\\nBefore Assigning: {column}:', f'have {x.values[0]} NaN Values', end='\\n')\n",
    "            \n",
    "        print(\"\\nExisting Min, Max Values:\", df[column].apply([min, max]), sep='\\n', end='\\n')       \n",
    "        mini, maxi = get_group_min_max(df, groupby, column)        \n",
    "        print(f\"\\nGroupby by {groupby}'s Actual min, max Values:\", f'min:\\t{mini},\\nmax:\\t{ maxi}', sep='\\n', end='\\n')        \n",
    "        \n",
    "        a = df.groupby(groupby)[column].apply(list) \n",
    "        print(f'\\nBefore Assigning Example {column}:\\n', *a.head().values, sep='\\n', end='\\n')\n",
    "        \n",
    "        # Assigning\n",
    "        make_group_NaN_and_fill_mode(df, groupby, column, inplace)\n",
    "        \n",
    "        # After Assigning NaN values\n",
    "        if df[column].value_counts(dropna=False).index.isna().sum():\n",
    "            y = df[column].value_counts(dropna=False).loc[[np.NaN]]\n",
    "            print(f'\\nBefore Assigning: {column}:', f'have {y.values[0]} NaN Values', end='\\n')\n",
    "        \n",
    "        b = df.groupby(groupby)[column].apply(list)\n",
    "        print(f'\\nAfter Assigning Example {column}:\\n', *b.head().values, sep='\\n', end='\\n')\n",
    "    else:   \n",
    "        # Show\n",
    "        return make_group_NaN_and_fill_mode(df, groupby, column, inplace)"
   ]
  },
  {
   "cell_type": "code",
   "execution_count": null,
   "metadata": {
    "_cell_guid": "8d08e5f8-7bcc-434c-9010-7fbe8ef2bcc3",
    "_uuid": "42bb3692-c1bd-4981-b12b-06f5516008b8",
    "collapsed": false,
    "execution": {
     "iopub.execute_input": "2023-05-05T21:03:41.368531Z",
     "iopub.status.busy": "2023-05-05T21:03:41.367611Z",
     "iopub.status.idle": "2023-05-05T21:03:41.545749Z",
     "shell.execute_reply": "2023-05-05T21:03:41.54456Z",
     "shell.execute_reply.started": "2023-05-05T21:03:41.368489Z"
    },
    "jupyter": {
     "outputs_hidden": false
    },
    "trusted": true
   },
   "outputs": [],
   "source": [
    "df.describe().columns"
   ]
  },
  {
   "cell_type": "markdown",
   "metadata": {},
   "source": [
    "### ID"
   ]
  },
  {
   "cell_type": "code",
   "execution_count": null,
   "metadata": {
    "_cell_guid": "b73dfb42-f9f7-485e-ab3c-d79bc2d0bfe2",
    "_uuid": "b0e4f7cc-5898-440d-8e79-a2418e37c130",
    "collapsed": false,
    "execution": {
     "iopub.execute_input": "2023-05-05T21:03:41.547676Z",
     "iopub.status.busy": "2023-05-05T21:03:41.547343Z",
     "iopub.status.idle": "2023-05-05T21:03:41.560879Z",
     "shell.execute_reply": "2023-05-05T21:03:41.559749Z",
     "shell.execute_reply.started": "2023-05-05T21:03:41.547639Z"
    },
    "jupyter": {
     "outputs_hidden": false
    },
    "trusted": true
   },
   "outputs": [],
   "source": [
    "df['ID'].nunique()"
   ]
  },
  {
   "cell_type": "markdown",
   "metadata": {},
   "source": [
    "### Month"
   ]
  },
  {
   "cell_type": "code",
   "execution_count": null,
   "metadata": {
    "_cell_guid": "a1255470-e683-4cd5-97fe-b4a99a422375",
    "_uuid": "fc579bf9-136f-410c-976e-0b264e23bc16",
    "collapsed": false,
    "execution": {
     "iopub.execute_input": "2023-05-05T21:03:41.562748Z",
     "iopub.status.busy": "2023-05-05T21:03:41.562223Z",
     "iopub.status.idle": "2023-05-05T21:03:41.573776Z",
     "shell.execute_reply": "2023-05-05T21:03:41.572458Z",
     "shell.execute_reply.started": "2023-05-05T21:03:41.562716Z"
    },
    "jupyter": {
     "outputs_hidden": false
    },
    "trusted": true
   },
   "outputs": [],
   "source": [
    "df['Month'].value_counts()"
   ]
  },
  {
   "cell_type": "markdown",
   "metadata": {},
   "source": [
    "### Age"
   ]
  },
  {
   "cell_type": "code",
   "execution_count": null,
   "metadata": {
    "_cell_guid": "a385c6ec-6257-4b43-8f71-a42e4455f8c8",
    "_uuid": "c4c53b0b-d5c2-4151-a2d7-3dff4f6bf303",
    "collapsed": false,
    "execution": {
     "iopub.execute_input": "2023-05-05T21:03:41.576228Z",
     "iopub.status.busy": "2023-05-05T21:03:41.575431Z",
     "iopub.status.idle": "2023-05-05T21:03:50.126111Z",
     "shell.execute_reply": "2023-05-05T21:03:50.124936Z",
     "shell.execute_reply.started": "2023-05-05T21:03:41.576193Z"
    },
    "jupyter": {
     "outputs_hidden": false
    },
    "trusted": true
   },
   "outputs": [],
   "source": [
    "Numeric_Wrong_Values_Reassign_Group_Min_Max(df, 'Customer_ID', 'Age')"
   ]
  },
  {
   "cell_type": "code",
   "execution_count": null,
   "metadata": {
    "_cell_guid": "63636cf3-6149-420c-9f20-c7506eb19401",
    "_uuid": "81ef8249-e84e-4a47-8455-5da8ac9a298c",
    "collapsed": false,
    "execution": {
     "iopub.execute_input": "2023-05-05T21:03:50.127854Z",
     "iopub.status.busy": "2023-05-05T21:03:50.127506Z",
     "iopub.status.idle": "2023-05-05T21:03:50.152325Z",
     "shell.execute_reply": "2023-05-05T21:03:50.151103Z",
     "shell.execute_reply.started": "2023-05-05T21:03:50.127818Z"
    },
    "jupyter": {
     "outputs_hidden": false
    },
    "trusted": true
   },
   "outputs": [],
   "source": [
    "# Check Outlier\n",
    "get_iqr_lower_upper(df, 'Age')"
   ]
  },
  {
   "cell_type": "markdown",
   "metadata": {},
   "source": [
    "### SSN"
   ]
  },
  {
   "cell_type": "code",
   "execution_count": null,
   "metadata": {
    "_cell_guid": "4f2c8c44-4073-4e23-8a37-2f77e2941590",
    "_uuid": "a30a3eb4-a5e0-40d8-bc58-e3de665ebb12",
    "collapsed": false,
    "execution": {
     "iopub.execute_input": "2023-05-05T21:03:50.153929Z",
     "iopub.status.busy": "2023-05-05T21:03:50.153608Z",
     "iopub.status.idle": "2023-05-05T21:03:50.169616Z",
     "shell.execute_reply": "2023-05-05T21:03:50.168283Z",
     "shell.execute_reply.started": "2023-05-05T21:03:50.153901Z"
    },
    "jupyter": {
     "outputs_hidden": false
    },
    "trusted": true
   },
   "outputs": [],
   "source": [
    "df.SSN.value_counts(dropna=False)"
   ]
  },
  {
   "cell_type": "code",
   "execution_count": null,
   "metadata": {
    "execution": {
     "iopub.execute_input": "2023-05-05T21:03:50.171478Z",
     "iopub.status.busy": "2023-05-05T21:03:50.171022Z",
     "iopub.status.idle": "2023-05-05T21:03:58.895693Z",
     "shell.execute_reply": "2023-05-05T21:03:58.89445Z",
     "shell.execute_reply.started": "2023-05-05T21:03:50.171437Z"
    },
    "trusted": true
   },
   "outputs": [],
   "source": [
    "Numeric_Wrong_Values_Reassign_Group_Min_Max(df, 'Customer_ID', 'SSN')"
   ]
  },
  {
   "cell_type": "markdown",
   "metadata": {},
   "source": [
    "### Annual_Income"
   ]
  },
  {
   "cell_type": "code",
   "execution_count": null,
   "metadata": {
    "_cell_guid": "46b10b5e-abda-4bd2-a45d-62ca5b54c78f",
    "_uuid": "e6939814-6ead-4d3a-b626-d540bf94bc88",
    "collapsed": false,
    "execution": {
     "iopub.execute_input": "2023-05-05T21:03:58.897914Z",
     "iopub.status.busy": "2023-05-05T21:03:58.897221Z",
     "iopub.status.idle": "2023-05-05T21:03:58.912667Z",
     "shell.execute_reply": "2023-05-05T21:03:58.91148Z",
     "shell.execute_reply.started": "2023-05-05T21:03:58.897866Z"
    },
    "jupyter": {
     "outputs_hidden": false
    },
    "trusted": true
   },
   "outputs": [],
   "source": [
    "df.Annual_Income.value_counts(dropna=False)"
   ]
  },
  {
   "cell_type": "code",
   "execution_count": null,
   "metadata": {
    "_cell_guid": "f2c2e2ee-78e7-4e7b-8b7a-b98269a4467b",
    "_uuid": "70f86c53-fff8-4765-9db3-a9229f687d04",
    "collapsed": false,
    "execution": {
     "iopub.execute_input": "2023-05-05T21:03:58.914898Z",
     "iopub.status.busy": "2023-05-05T21:03:58.914024Z",
     "iopub.status.idle": "2023-05-05T21:04:07.521312Z",
     "shell.execute_reply": "2023-05-05T21:04:07.520172Z",
     "shell.execute_reply.started": "2023-05-05T21:03:58.914861Z"
    },
    "jupyter": {
     "outputs_hidden": false
    },
    "trusted": true
   },
   "outputs": [],
   "source": [
    "Numeric_Wrong_Values_Reassign_Group_Min_Max(df, 'Customer_ID', 'Annual_Income')"
   ]
  },
  {
   "cell_type": "markdown",
   "metadata": {},
   "source": [
    "### Monthly_Inhand_Salary"
   ]
  },
  {
   "cell_type": "code",
   "execution_count": null,
   "metadata": {
    "_cell_guid": "63c27cfa-b7ea-4e7b-b2fc-d3cd4dc90d3a",
    "_uuid": "ed094334-3c81-4cd3-8c40-19163f86a148",
    "collapsed": false,
    "execution": {
     "iopub.execute_input": "2023-05-05T21:04:07.522884Z",
     "iopub.status.busy": "2023-05-05T21:04:07.522548Z",
     "iopub.status.idle": "2023-05-05T21:04:07.537466Z",
     "shell.execute_reply": "2023-05-05T21:04:07.536397Z",
     "shell.execute_reply.started": "2023-05-05T21:04:07.522853Z"
    },
    "jupyter": {
     "outputs_hidden": false
    },
    "trusted": true
   },
   "outputs": [],
   "source": [
    "df.Monthly_Inhand_Salary.value_counts(dropna=False)"
   ]
  },
  {
   "cell_type": "code",
   "execution_count": null,
   "metadata": {
    "_cell_guid": "0c38e98e-3718-46c6-9859-8fd076fb82c4",
    "_uuid": "873eebb6-62d4-4a37-9c01-38bbf1eb9fb0",
    "collapsed": false,
    "execution": {
     "iopub.execute_input": "2023-05-05T21:04:07.541398Z",
     "iopub.status.busy": "2023-05-05T21:04:07.541002Z",
     "iopub.status.idle": "2023-05-05T21:04:16.140464Z",
     "shell.execute_reply": "2023-05-05T21:04:16.13904Z",
     "shell.execute_reply.started": "2023-05-05T21:04:07.541363Z"
    },
    "jupyter": {
     "outputs_hidden": false
    },
    "trusted": true
   },
   "outputs": [],
   "source": [
    "Numeric_Wrong_Values_Reassign_Group_Min_Max(df, 'Customer_ID', 'Monthly_Inhand_Salary')"
   ]
  },
  {
   "cell_type": "markdown",
   "metadata": {},
   "source": [
    "### Num_Bank_Accounts"
   ]
  },
  {
   "cell_type": "code",
   "execution_count": null,
   "metadata": {
    "_cell_guid": "3eb527a3-fb22-4f41-a9f2-cf38cc915644",
    "_uuid": "31d0ffac-3eff-40ff-a4fc-e42fd4b41264",
    "collapsed": false,
    "execution": {
     "iopub.execute_input": "2023-05-05T21:04:16.14224Z",
     "iopub.status.busy": "2023-05-05T21:04:16.141875Z",
     "iopub.status.idle": "2023-05-05T21:04:16.153271Z",
     "shell.execute_reply": "2023-05-05T21:04:16.152Z",
     "shell.execute_reply.started": "2023-05-05T21:04:16.142206Z"
    },
    "jupyter": {
     "outputs_hidden": false
    },
    "trusted": true
   },
   "outputs": [],
   "source": [
    "df.Num_Bank_Accounts.value_counts(dropna=False)"
   ]
  },
  {
   "cell_type": "code",
   "execution_count": null,
   "metadata": {
    "_cell_guid": "6ee1b01a-8645-45a0-8d92-c4765ac523ad",
    "_uuid": "10d5ae15-c07b-43d7-be64-89684bb74e77",
    "collapsed": false,
    "execution": {
     "iopub.execute_input": "2023-05-05T21:04:16.163735Z",
     "iopub.status.busy": "2023-05-05T21:04:16.163345Z",
     "iopub.status.idle": "2023-05-05T21:04:24.794812Z",
     "shell.execute_reply": "2023-05-05T21:04:24.793571Z",
     "shell.execute_reply.started": "2023-05-05T21:04:16.163704Z"
    },
    "jupyter": {
     "outputs_hidden": false
    },
    "trusted": true
   },
   "outputs": [],
   "source": [
    "Numeric_Wrong_Values_Reassign_Group_Min_Max(df, 'Customer_ID', 'Num_Bank_Accounts')"
   ]
  },
  {
   "cell_type": "markdown",
   "metadata": {},
   "source": [
    "### Num_Credit_Card"
   ]
  },
  {
   "cell_type": "code",
   "execution_count": null,
   "metadata": {
    "_cell_guid": "0610a0aa-7ba8-49ba-9772-1fe1bb3ca660",
    "_uuid": "cb8d1f1e-92a0-4010-8361-59aa5de1db70",
    "collapsed": false,
    "execution": {
     "iopub.execute_input": "2023-05-05T21:04:24.797365Z",
     "iopub.status.busy": "2023-05-05T21:04:24.796294Z",
     "iopub.status.idle": "2023-05-05T21:04:24.807161Z",
     "shell.execute_reply": "2023-05-05T21:04:24.806063Z",
     "shell.execute_reply.started": "2023-05-05T21:04:24.797318Z"
    },
    "jupyter": {
     "outputs_hidden": false
    },
    "trusted": true
   },
   "outputs": [],
   "source": [
    "df_train.Num_Credit_Card.value_counts(dropna=False)"
   ]
  },
  {
   "cell_type": "code",
   "execution_count": null,
   "metadata": {
    "_cell_guid": "ab0b7d2a-6c2f-4ece-937a-60a48b50be70",
    "_uuid": "5070214f-1518-4c47-a3e0-f742d14cf544",
    "collapsed": false,
    "execution": {
     "iopub.execute_input": "2023-05-05T21:04:24.808904Z",
     "iopub.status.busy": "2023-05-05T21:04:24.808578Z",
     "iopub.status.idle": "2023-05-05T21:04:33.364672Z",
     "shell.execute_reply": "2023-05-05T21:04:33.363524Z",
     "shell.execute_reply.started": "2023-05-05T21:04:24.808875Z"
    },
    "jupyter": {
     "outputs_hidden": false
    },
    "trusted": true
   },
   "outputs": [],
   "source": [
    "Numeric_Wrong_Values_Reassign_Group_Min_Max(df, 'Customer_ID', 'Num_Credit_Card')"
   ]
  },
  {
   "cell_type": "markdown",
   "metadata": {},
   "source": [
    "### Interest_Rate"
   ]
  },
  {
   "cell_type": "code",
   "execution_count": null,
   "metadata": {
    "_cell_guid": "8985f780-777a-4f3c-bf69-9bea108a438e",
    "_uuid": "5657655e-ae18-4fd4-a748-cdc3525b3d1c",
    "collapsed": false,
    "execution": {
     "iopub.execute_input": "2023-05-05T21:04:33.367029Z",
     "iopub.status.busy": "2023-05-05T21:04:33.366231Z",
     "iopub.status.idle": "2023-05-05T21:04:33.378825Z",
     "shell.execute_reply": "2023-05-05T21:04:33.377542Z",
     "shell.execute_reply.started": "2023-05-05T21:04:33.366984Z"
    },
    "jupyter": {
     "outputs_hidden": false
    },
    "trusted": true
   },
   "outputs": [],
   "source": [
    "df.Interest_Rate.value_counts(dropna=False)"
   ]
  },
  {
   "cell_type": "code",
   "execution_count": null,
   "metadata": {
    "_cell_guid": "2085bcaa-6b2e-4c58-ae91-ee17a073181e",
    "_uuid": "a7c9784f-210d-442d-8005-b53ee84b425a",
    "collapsed": false,
    "execution": {
     "iopub.execute_input": "2023-05-05T21:04:33.380912Z",
     "iopub.status.busy": "2023-05-05T21:04:33.380398Z",
     "iopub.status.idle": "2023-05-05T21:04:41.895942Z",
     "shell.execute_reply": "2023-05-05T21:04:41.894797Z",
     "shell.execute_reply.started": "2023-05-05T21:04:33.380855Z"
    },
    "jupyter": {
     "outputs_hidden": false
    },
    "trusted": true
   },
   "outputs": [],
   "source": [
    "Numeric_Wrong_Values_Reassign_Group_Min_Max(df, 'Customer_ID', 'Interest_Rate')"
   ]
  },
  {
   "cell_type": "markdown",
   "metadata": {},
   "source": [
    "### Num_of_Loan"
   ]
  },
  {
   "cell_type": "code",
   "execution_count": null,
   "metadata": {
    "_cell_guid": "4acc547c-3748-48b4-86ef-407d5d4562b2",
    "_uuid": "5d132d8a-d9d8-4a0c-9b53-61fe9a7c741d",
    "collapsed": false,
    "execution": {
     "iopub.execute_input": "2023-05-05T21:04:41.898193Z",
     "iopub.status.busy": "2023-05-05T21:04:41.897748Z",
     "iopub.status.idle": "2023-05-05T21:04:41.909336Z",
     "shell.execute_reply": "2023-05-05T21:04:41.90829Z",
     "shell.execute_reply.started": "2023-05-05T21:04:41.898149Z"
    },
    "jupyter": {
     "outputs_hidden": false
    },
    "trusted": true
   },
   "outputs": [],
   "source": [
    "df.Num_of_Loan.value_counts(dropna=False)"
   ]
  },
  {
   "cell_type": "code",
   "execution_count": null,
   "metadata": {
    "_cell_guid": "dccb68de-1a1f-4be8-8810-9cadcfe08646",
    "_uuid": "eb229459-dc2c-4ad2-ba05-38096569c88e",
    "collapsed": false,
    "execution": {
     "iopub.execute_input": "2023-05-05T21:04:41.911888Z",
     "iopub.status.busy": "2023-05-05T21:04:41.911144Z",
     "iopub.status.idle": "2023-05-05T21:04:50.442375Z",
     "shell.execute_reply": "2023-05-05T21:04:50.441173Z",
     "shell.execute_reply.started": "2023-05-05T21:04:41.911847Z"
    },
    "jupyter": {
     "outputs_hidden": false
    },
    "trusted": true
   },
   "outputs": [],
   "source": [
    "Numeric_Wrong_Values_Reassign_Group_Min_Max(df, 'Customer_ID', 'Num_of_Loan')"
   ]
  },
  {
   "cell_type": "markdown",
   "metadata": {},
   "source": [
    "### Delay_from_due_date"
   ]
  },
  {
   "cell_type": "code",
   "execution_count": null,
   "metadata": {
    "_cell_guid": "a5249ba8-b51d-40ee-84fb-a3988a819f6a",
    "_uuid": "154601d8-fd2f-42f0-aa5a-94230c9adcd5",
    "collapsed": false,
    "execution": {
     "iopub.execute_input": "2023-05-05T21:04:50.44432Z",
     "iopub.status.busy": "2023-05-05T21:04:50.443937Z",
     "iopub.status.idle": "2023-05-05T21:04:50.454606Z",
     "shell.execute_reply": "2023-05-05T21:04:50.453213Z",
     "shell.execute_reply.started": "2023-05-05T21:04:50.444286Z"
    },
    "jupyter": {
     "outputs_hidden": false
    },
    "trusted": true
   },
   "outputs": [],
   "source": [
    "df.Delay_from_due_date.value_counts(dropna=False)"
   ]
  },
  {
   "cell_type": "code",
   "execution_count": null,
   "metadata": {
    "_cell_guid": "8a267628-9a64-4d38-a953-0088ae9d44db",
    "_uuid": "73dab6b0-bb05-46ba-8ce7-a1dac35e61ca",
    "collapsed": false,
    "execution": {
     "iopub.execute_input": "2023-05-05T21:04:50.455912Z",
     "iopub.status.busy": "2023-05-05T21:04:50.455618Z",
     "iopub.status.idle": "2023-05-05T21:04:59.044253Z",
     "shell.execute_reply": "2023-05-05T21:04:59.042918Z",
     "shell.execute_reply.started": "2023-05-05T21:04:50.455885Z"
    },
    "jupyter": {
     "outputs_hidden": false
    },
    "trusted": true
   },
   "outputs": [],
   "source": [
    "Numeric_Wrong_Values_Reassign_Group_Min_Max(df, 'Customer_ID', 'Delay_from_due_date')"
   ]
  },
  {
   "cell_type": "markdown",
   "metadata": {},
   "source": [
    "### Num_of_Delayed_Payment"
   ]
  },
  {
   "cell_type": "code",
   "execution_count": null,
   "metadata": {
    "_cell_guid": "a5f3a4cb-f94f-452d-934a-7f94fa93c1d1",
    "_uuid": "15392a89-59c8-4883-b5d1-31cbb1b26290",
    "collapsed": false,
    "execution": {
     "iopub.execute_input": "2023-05-05T21:04:59.046411Z",
     "iopub.status.busy": "2023-05-05T21:04:59.046036Z",
     "iopub.status.idle": "2023-05-05T21:04:59.05866Z",
     "shell.execute_reply": "2023-05-05T21:04:59.057153Z",
     "shell.execute_reply.started": "2023-05-05T21:04:59.046377Z"
    },
    "jupyter": {
     "outputs_hidden": false
    },
    "trusted": true
   },
   "outputs": [],
   "source": [
    "df.Num_of_Delayed_Payment.value_counts(dropna=False)"
   ]
  },
  {
   "cell_type": "code",
   "execution_count": null,
   "metadata": {
    "_cell_guid": "b57d2408-d125-4b06-8078-602898a08efe",
    "_uuid": "0cce344f-b43d-411a-b241-5ea7a026b851",
    "collapsed": false,
    "execution": {
     "iopub.execute_input": "2023-05-05T21:04:59.060599Z",
     "iopub.status.busy": "2023-05-05T21:04:59.060205Z",
     "iopub.status.idle": "2023-05-05T21:05:07.703257Z",
     "shell.execute_reply": "2023-05-05T21:05:07.702073Z",
     "shell.execute_reply.started": "2023-05-05T21:04:59.060555Z"
    },
    "jupyter": {
     "outputs_hidden": false
    },
    "trusted": true
   },
   "outputs": [],
   "source": [
    "Numeric_Wrong_Values_Reassign_Group_Min_Max(df, 'Customer_ID', 'Num_of_Delayed_Payment')"
   ]
  },
  {
   "cell_type": "markdown",
   "metadata": {},
   "source": [
    "### Changed_Credit_Limit"
   ]
  },
  {
   "cell_type": "code",
   "execution_count": null,
   "metadata": {
    "_cell_guid": "f1cfa600-811f-47c5-b652-3aa25b6c0962",
    "_uuid": "22cfb6d5-336f-477a-b18a-c69607af6780",
    "collapsed": false,
    "execution": {
     "iopub.execute_input": "2023-05-05T21:05:07.704955Z",
     "iopub.status.busy": "2023-05-05T21:05:07.704617Z",
     "iopub.status.idle": "2023-05-05T21:05:07.718224Z",
     "shell.execute_reply": "2023-05-05T21:05:07.716962Z",
     "shell.execute_reply.started": "2023-05-05T21:05:07.704925Z"
    },
    "jupyter": {
     "outputs_hidden": false
    },
    "trusted": true
   },
   "outputs": [],
   "source": [
    "df.Changed_Credit_Limit.value_counts(dropna=False)"
   ]
  },
  {
   "cell_type": "code",
   "execution_count": null,
   "metadata": {
    "_cell_guid": "2c47175e-0870-4a3d-8229-06b785b54cde",
    "_uuid": "638f5259-b492-4652-91d9-85472ef41f3f",
    "collapsed": false,
    "execution": {
     "iopub.execute_input": "2023-05-05T21:05:07.720589Z",
     "iopub.status.busy": "2023-05-05T21:05:07.719815Z",
     "iopub.status.idle": "2023-05-05T21:05:16.325958Z",
     "shell.execute_reply": "2023-05-05T21:05:16.324675Z",
     "shell.execute_reply.started": "2023-05-05T21:05:07.720543Z"
    },
    "jupyter": {
     "outputs_hidden": false
    },
    "trusted": true
   },
   "outputs": [],
   "source": [
    "Numeric_Wrong_Values_Reassign_Group_Min_Max(df, 'Customer_ID', 'Changed_Credit_Limit')"
   ]
  },
  {
   "cell_type": "markdown",
   "metadata": {},
   "source": [
    "### Num_Credit_Inquiries"
   ]
  },
  {
   "cell_type": "code",
   "execution_count": null,
   "metadata": {
    "_cell_guid": "082325fb-0d58-4665-b209-d862735e915f",
    "_uuid": "bf992151-9eca-452b-815e-e71a9806da90",
    "collapsed": false,
    "execution": {
     "iopub.execute_input": "2023-05-05T21:05:16.328019Z",
     "iopub.status.busy": "2023-05-05T21:05:16.327444Z",
     "iopub.status.idle": "2023-05-05T21:05:16.340756Z",
     "shell.execute_reply": "2023-05-05T21:05:16.339684Z",
     "shell.execute_reply.started": "2023-05-05T21:05:16.327985Z"
    },
    "jupyter": {
     "outputs_hidden": false
    },
    "trusted": true
   },
   "outputs": [],
   "source": [
    "df.Num_Credit_Inquiries.value_counts(dropna=False)"
   ]
  },
  {
   "cell_type": "code",
   "execution_count": null,
   "metadata": {
    "_cell_guid": "d45aaae5-b855-4d4d-b859-b43ca6220f00",
    "_uuid": "a1c1f734-4852-4132-8fca-bca1c7ebf134",
    "collapsed": false,
    "execution": {
     "iopub.execute_input": "2023-05-05T21:05:16.343103Z",
     "iopub.status.busy": "2023-05-05T21:05:16.342128Z",
     "iopub.status.idle": "2023-05-05T21:05:25.018629Z",
     "shell.execute_reply": "2023-05-05T21:05:25.017323Z",
     "shell.execute_reply.started": "2023-05-05T21:05:16.343067Z"
    },
    "jupyter": {
     "outputs_hidden": false
    },
    "trusted": true
   },
   "outputs": [],
   "source": [
    "Numeric_Wrong_Values_Reassign_Group_Min_Max(df, 'Customer_ID', 'Num_Credit_Inquiries')"
   ]
  },
  {
   "cell_type": "markdown",
   "metadata": {},
   "source": [
    "### Outstanding_Debt"
   ]
  },
  {
   "cell_type": "code",
   "execution_count": null,
   "metadata": {
    "_cell_guid": "befb80a1-f845-486d-87ed-9998eefcb15b",
    "_uuid": "9f0acec8-0f3e-413c-ba38-cc5f3eff718c",
    "collapsed": false,
    "execution": {
     "iopub.execute_input": "2023-05-05T21:05:25.021219Z",
     "iopub.status.busy": "2023-05-05T21:05:25.020553Z",
     "iopub.status.idle": "2023-05-05T21:05:25.038431Z",
     "shell.execute_reply": "2023-05-05T21:05:25.037152Z",
     "shell.execute_reply.started": "2023-05-05T21:05:25.021174Z"
    },
    "jupyter": {
     "outputs_hidden": false
    },
    "trusted": true
   },
   "outputs": [],
   "source": [
    "df.Outstanding_Debt.value_counts(dropna=False)"
   ]
  },
  {
   "cell_type": "code",
   "execution_count": null,
   "metadata": {
    "_cell_guid": "1b0631a9-f597-4ffe-a539-87fbdd712a8e",
    "_uuid": "5176603a-02a1-49f4-908b-2d27b9195f8d",
    "collapsed": false,
    "execution": {
     "iopub.execute_input": "2023-05-05T21:05:25.042367Z",
     "iopub.status.busy": "2023-05-05T21:05:25.040362Z",
     "iopub.status.idle": "2023-05-05T21:05:33.731795Z",
     "shell.execute_reply": "2023-05-05T21:05:33.730441Z",
     "shell.execute_reply.started": "2023-05-05T21:05:25.042313Z"
    },
    "jupyter": {
     "outputs_hidden": false
    },
    "trusted": true
   },
   "outputs": [],
   "source": [
    "Numeric_Wrong_Values_Reassign_Group_Min_Max(df, 'Customer_ID', 'Outstanding_Debt')"
   ]
  },
  {
   "cell_type": "markdown",
   "metadata": {},
   "source": [
    "### Credit_Utilization_Ratio"
   ]
  },
  {
   "cell_type": "code",
   "execution_count": null,
   "metadata": {
    "_cell_guid": "c32777d2-f5b1-4e31-b3eb-416a6fed4567",
    "_uuid": "a88fed3b-031d-4d75-89c7-6b1fa213ab99",
    "collapsed": false,
    "execution": {
     "iopub.execute_input": "2023-05-05T21:05:33.734216Z",
     "iopub.status.busy": "2023-05-05T21:05:33.733547Z",
     "iopub.status.idle": "2023-05-05T21:05:33.767699Z",
     "shell.execute_reply": "2023-05-05T21:05:33.766422Z",
     "shell.execute_reply.started": "2023-05-05T21:05:33.734167Z"
    },
    "jupyter": {
     "outputs_hidden": false
    },
    "trusted": true
   },
   "outputs": [],
   "source": [
    "df.Credit_Utilization_Ratio.value_counts(dropna=False)"
   ]
  },
  {
   "cell_type": "code",
   "execution_count": null,
   "metadata": {
    "_cell_guid": "0fbb74d8-3731-468d-bd32-1c411f2ec0cf",
    "_uuid": "8ca67a68-ecb4-4664-b86d-d5cf7bf2b1b2",
    "collapsed": false,
    "execution": {
     "iopub.execute_input": "2023-05-05T21:05:33.769517Z",
     "iopub.status.busy": "2023-05-05T21:05:33.769129Z",
     "iopub.status.idle": "2023-05-05T21:05:33.778746Z",
     "shell.execute_reply": "2023-05-05T21:05:33.77748Z",
     "shell.execute_reply.started": "2023-05-05T21:05:33.769481Z"
    },
    "jupyter": {
     "outputs_hidden": false
    },
    "trusted": true
   },
   "outputs": [],
   "source": [
    "df.Credit_Utilization_Ratio.isna().sum()"
   ]
  },
  {
   "cell_type": "markdown",
   "metadata": {},
   "source": [
    "### Credit_History_Age"
   ]
  },
  {
   "cell_type": "code",
   "execution_count": null,
   "metadata": {
    "_cell_guid": "435f0f16-5e53-425c-a9e9-ed64dd1b7439",
    "_uuid": "06db8733-4a2c-46cd-a6e8-91b500eea87a",
    "collapsed": false,
    "execution": {
     "iopub.execute_input": "2023-05-05T21:05:33.7815Z",
     "iopub.status.busy": "2023-05-05T21:05:33.780784Z",
     "iopub.status.idle": "2023-05-05T21:05:33.79503Z",
     "shell.execute_reply": "2023-05-05T21:05:33.793728Z",
     "shell.execute_reply.started": "2023-05-05T21:05:33.781449Z"
    },
    "jupyter": {
     "outputs_hidden": false
    },
    "trusted": true
   },
   "outputs": [],
   "source": [
    "df.Credit_History_Age.value_counts(dropna=False)"
   ]
  },
  {
   "cell_type": "code",
   "execution_count": null,
   "metadata": {
    "_cell_guid": "9dd9ad73-1ab9-4358-98c0-ba45e2872c62",
    "_uuid": "d664c5b8-ba34-4869-9df0-cedcd48f8360",
    "collapsed": false,
    "execution": {
     "iopub.execute_input": "2023-05-05T21:05:33.797543Z",
     "iopub.status.busy": "2023-05-05T21:05:33.796885Z",
     "iopub.status.idle": "2023-05-05T21:05:41.463502Z",
     "shell.execute_reply": "2023-05-05T21:05:41.462397Z",
     "shell.execute_reply.started": "2023-05-05T21:05:33.797495Z"
    },
    "jupyter": {
     "outputs_hidden": false
    },
    "trusted": true
   },
   "outputs": [],
   "source": [
    "df['Credit_History_Age'] = df.groupby('Customer_ID')['Credit_History_Age'].apply(lambda x: x.interpolate().bfill().ffill())"
   ]
  },
  {
   "cell_type": "markdown",
   "metadata": {},
   "source": [
    "### Total_EMI_per_month"
   ]
  },
  {
   "cell_type": "code",
   "execution_count": null,
   "metadata": {
    "_cell_guid": "86b8872c-8dad-4825-857e-d3da6065d2a3",
    "_uuid": "d83b1f32-0b28-4440-904d-af5d96dd99f6",
    "collapsed": false,
    "execution": {
     "iopub.execute_input": "2023-05-05T21:05:41.465372Z",
     "iopub.status.busy": "2023-05-05T21:05:41.464989Z",
     "iopub.status.idle": "2023-05-05T21:05:41.481023Z",
     "shell.execute_reply": "2023-05-05T21:05:41.479845Z",
     "shell.execute_reply.started": "2023-05-05T21:05:41.465337Z"
    },
    "jupyter": {
     "outputs_hidden": false
    },
    "trusted": true
   },
   "outputs": [],
   "source": [
    "df.Total_EMI_per_month.value_counts(dropna=False)"
   ]
  },
  {
   "cell_type": "code",
   "execution_count": null,
   "metadata": {
    "_cell_guid": "e2d55ccf-266c-4ec9-b81e-f1a2d484a5e6",
    "_uuid": "a4bf83b6-9d61-4038-89ea-b1f6f6dfb8be",
    "collapsed": false,
    "execution": {
     "iopub.execute_input": "2023-05-05T21:05:41.482731Z",
     "iopub.status.busy": "2023-05-05T21:05:41.482395Z",
     "iopub.status.idle": "2023-05-05T21:05:50.178612Z",
     "shell.execute_reply": "2023-05-05T21:05:50.176758Z",
     "shell.execute_reply.started": "2023-05-05T21:05:41.4827Z"
    },
    "jupyter": {
     "outputs_hidden": false
    },
    "trusted": true
   },
   "outputs": [],
   "source": [
    "Numeric_Wrong_Values_Reassign_Group_Min_Max(df, 'Customer_ID', 'Total_EMI_per_month')"
   ]
  },
  {
   "cell_type": "markdown",
   "metadata": {},
   "source": [
    "### Amount_invested_monthly"
   ]
  },
  {
   "cell_type": "code",
   "execution_count": null,
   "metadata": {
    "_cell_guid": "c089b7c1-975f-489d-9801-555e3ddf764f",
    "_uuid": "28d66a65-e572-42f4-8208-8da7b03078bd",
    "collapsed": false,
    "execution": {
     "iopub.execute_input": "2023-05-05T21:05:50.180341Z",
     "iopub.status.busy": "2023-05-05T21:05:50.179956Z",
     "iopub.status.idle": "2023-05-05T21:05:50.217925Z",
     "shell.execute_reply": "2023-05-05T21:05:50.216905Z",
     "shell.execute_reply.started": "2023-05-05T21:05:50.180308Z"
    },
    "jupyter": {
     "outputs_hidden": false
    },
    "trusted": true
   },
   "outputs": [],
   "source": [
    "df.Amount_invested_monthly.value_counts(dropna=False)"
   ]
  },
  {
   "cell_type": "code",
   "execution_count": null,
   "metadata": {
    "_cell_guid": "af30e666-d4e1-4c7b-97cc-4e589373b3c5",
    "_uuid": "1973298c-f700-440c-ab07-06841680d55a",
    "collapsed": false,
    "execution": {
     "iopub.execute_input": "2023-05-05T21:05:50.219913Z",
     "iopub.status.busy": "2023-05-05T21:05:50.219592Z",
     "iopub.status.idle": "2023-05-05T21:05:58.880858Z",
     "shell.execute_reply": "2023-05-05T21:05:58.879746Z",
     "shell.execute_reply.started": "2023-05-05T21:05:50.219883Z"
    },
    "jupyter": {
     "outputs_hidden": false
    },
    "trusted": true
   },
   "outputs": [],
   "source": [
    "Numeric_Wrong_Values_Reassign_Group_Min_Max(df, 'Customer_ID', 'Amount_invested_monthly')"
   ]
  },
  {
   "cell_type": "markdown",
   "metadata": {},
   "source": [
    "### Monthly_Balance"
   ]
  },
  {
   "cell_type": "code",
   "execution_count": null,
   "metadata": {
    "_cell_guid": "9dc08312-1311-4824-a61c-38d3b8f154fa",
    "_uuid": "9ba853c9-7630-48c3-b5b2-151949f6523c",
    "collapsed": false,
    "execution": {
     "iopub.execute_input": "2023-05-05T21:05:58.884316Z",
     "iopub.status.busy": "2023-05-05T21:05:58.883263Z",
     "iopub.status.idle": "2023-05-05T21:05:58.913368Z",
     "shell.execute_reply": "2023-05-05T21:05:58.912099Z",
     "shell.execute_reply.started": "2023-05-05T21:05:58.884278Z"
    },
    "jupyter": {
     "outputs_hidden": false
    },
    "trusted": true
   },
   "outputs": [],
   "source": [
    "df.Monthly_Balance.value_counts(dropna=False)"
   ]
  },
  {
   "cell_type": "code",
   "execution_count": null,
   "metadata": {
    "_cell_guid": "2b77ec95-e13a-4886-896b-f66407ef72d7",
    "_uuid": "f9f4a754-94a1-4ff5-86f6-41d1bb765047",
    "collapsed": false,
    "execution": {
     "iopub.execute_input": "2023-05-05T21:05:58.915284Z",
     "iopub.status.busy": "2023-05-05T21:05:58.914921Z",
     "iopub.status.idle": "2023-05-05T21:06:07.576522Z",
     "shell.execute_reply": "2023-05-05T21:06:07.575323Z",
     "shell.execute_reply.started": "2023-05-05T21:05:58.915229Z"
    },
    "jupyter": {
     "outputs_hidden": false
    },
    "trusted": true
   },
   "outputs": [],
   "source": [
    "Numeric_Wrong_Values_Reassign_Group_Min_Max(df, 'Customer_ID', 'Monthly_Balance')"
   ]
  },
  {
   "cell_type": "markdown",
   "metadata": {
    "_cell_guid": "8fbdd093-b061-41c0-8309-911f49efc189",
    "_uuid": "307ceb09-8e2d-4aff-bd70-8c8f9b101439",
    "trusted": true
   },
   "source": [
    "# C. End of Cleaning"
   ]
  },
  {
   "cell_type": "markdown",
   "metadata": {},
   "source": [
    "- We fill NaN values from group mode for Object and Numeric features.\n",
    "- We change group  min max that is outlier or wrong values from numeric features.\n",
    "\n",
    "- Check before Modeling:\n",
    "    - Num_Bank_Accounts, Delay_from_due_date, Num_of_Delayed_Payment, Monthly_Balance have negative strange number"
   ]
  },
  {
   "cell_type": "code",
   "execution_count": null,
   "metadata": {
    "_cell_guid": "36f5b620-c414-4a6b-a275-a54fa566adc7",
    "_uuid": "ea03d990-fa2a-48e8-8052-5a6e191b12c0",
    "collapsed": false,
    "execution": {
     "iopub.execute_input": "2023-05-05T21:06:07.57892Z",
     "iopub.status.busy": "2023-05-05T21:06:07.57822Z",
     "iopub.status.idle": "2023-05-05T21:06:07.691604Z",
     "shell.execute_reply": "2023-05-05T21:06:07.690518Z",
     "shell.execute_reply.started": "2023-05-05T21:06:07.578877Z"
    },
    "jupyter": {
     "outputs_hidden": false
    },
    "trusted": true
   },
   "outputs": [],
   "source": [
    "df"
   ]
  },
  {
   "cell_type": "code",
   "execution_count": null,
   "metadata": {
    "_cell_guid": "80250b76-3873-4d61-9ec0-1dee9aae4f80",
    "_uuid": "2436f616-0a0e-4272-a17f-4051b71cc375",
    "collapsed": false,
    "execution": {
     "iopub.execute_input": "2023-05-05T21:06:07.693183Z",
     "iopub.status.busy": "2023-05-05T21:06:07.692849Z",
     "iopub.status.idle": "2023-05-05T21:06:07.758577Z",
     "shell.execute_reply": "2023-05-05T21:06:07.757407Z",
     "shell.execute_reply.started": "2023-05-05T21:06:07.693153Z"
    },
    "jupyter": {
     "outputs_hidden": false
    },
    "trusted": true
   },
   "outputs": [],
   "source": [
    "df.isna().sum()"
   ]
  },
  {
   "cell_type": "code",
   "execution_count": null,
   "metadata": {
    "execution": {
     "iopub.execute_input": "2023-05-05T21:06:07.760184Z",
     "iopub.status.busy": "2023-05-05T21:06:07.759851Z",
     "iopub.status.idle": "2023-05-05T21:06:07.831237Z",
     "shell.execute_reply": "2023-05-05T21:06:07.830306Z",
     "shell.execute_reply.started": "2023-05-05T21:06:07.760154Z"
    },
    "trusted": true
   },
   "outputs": [],
   "source": [
    "df.info()"
   ]
  },
  {
   "cell_type": "code",
   "execution_count": null,
   "metadata": {
    "execution": {
     "iopub.execute_input": "2023-05-05T21:06:07.832662Z",
     "iopub.status.busy": "2023-05-05T21:06:07.832344Z",
     "iopub.status.idle": "2023-05-05T21:06:10.789663Z",
     "shell.execute_reply": "2023-05-05T21:06:10.788778Z",
     "shell.execute_reply.started": "2023-05-05T21:06:07.832634Z"
    },
    "trusted": true
   },
   "outputs": [],
   "source": [
    "df.to_csv(\"clean_credit_score_classification.csv\", index=False)"
   ]
  },
  {
   "cell_type": "code",
   "execution_count": null,
   "metadata": {
    "execution": {
     "iopub.execute_input": "2023-05-05T21:06:10.791407Z",
     "iopub.status.busy": "2023-05-05T21:06:10.790898Z",
     "iopub.status.idle": "2023-05-05T21:06:11.413502Z",
     "shell.execute_reply": "2023-05-05T21:06:11.412353Z",
     "shell.execute_reply.started": "2023-05-05T21:06:10.791374Z"
    },
    "trusted": true
   },
   "outputs": [],
   "source": [
    "df = pd.read_csv('clean_credit_score_classification.csv')"
   ]
  },
  {
   "cell_type": "markdown",
   "metadata": {},
   "source": [
    "# 03. Prepare Modeling\n",
    "- Num_Bank_Accounts, \n",
    "- Delay_from_due_date, \n",
    "- Num_of_Delayed_Payment, \n",
    "- Monthly_Balance have negative strange number\n",
    "- Amount_invested_monthly have positive strange number"
   ]
  },
  {
   "cell_type": "code",
   "execution_count": null,
   "metadata": {
    "execution": {
     "iopub.execute_input": "2023-05-05T21:06:11.415255Z",
     "iopub.status.busy": "2023-05-05T21:06:11.414896Z",
     "iopub.status.idle": "2023-05-05T21:06:11.474938Z",
     "shell.execute_reply": "2023-05-05T21:06:11.473864Z",
     "shell.execute_reply.started": "2023-05-05T21:06:11.415209Z"
    },
    "trusted": true
   },
   "outputs": [],
   "source": [
    "df[df['Num_Bank_Accounts']<0]"
   ]
  },
  {
   "cell_type": "code",
   "execution_count": null,
   "metadata": {
    "execution": {
     "iopub.execute_input": "2023-05-05T21:06:11.476725Z",
     "iopub.status.busy": "2023-05-05T21:06:11.476303Z",
     "iopub.status.idle": "2023-05-05T21:06:11.4849Z",
     "shell.execute_reply": "2023-05-05T21:06:11.483741Z",
     "shell.execute_reply.started": "2023-05-05T21:06:11.476692Z"
    },
    "trusted": true
   },
   "outputs": [],
   "source": [
    "df[df['Num_Bank_Accounts']<0]['Customer_ID'].unique()"
   ]
  },
  {
   "cell_type": "code",
   "execution_count": null,
   "metadata": {
    "execution": {
     "iopub.execute_input": "2023-05-05T21:06:11.488441Z",
     "iopub.status.busy": "2023-05-05T21:06:11.487312Z",
     "iopub.status.idle": "2023-05-05T21:06:11.526995Z",
     "shell.execute_reply": "2023-05-05T21:06:11.52575Z",
     "shell.execute_reply.started": "2023-05-05T21:06:11.488397Z"
    },
    "trusted": true
   },
   "outputs": [],
   "source": [
    "df[df['Customer_ID']==22931]"
   ]
  },
  {
   "cell_type": "code",
   "execution_count": null,
   "metadata": {
    "execution": {
     "iopub.execute_input": "2023-05-05T21:06:11.529024Z",
     "iopub.status.busy": "2023-05-05T21:06:11.528645Z",
     "iopub.status.idle": "2023-05-05T21:06:11.535301Z",
     "shell.execute_reply": "2023-05-05T21:06:11.534236Z",
     "shell.execute_reply.started": "2023-05-05T21:06:11.528992Z"
    },
    "trusted": true
   },
   "outputs": [],
   "source": [
    "df.loc[df['Num_Bank_Accounts']<0, 'Num_Bank_Accounts'] = 0"
   ]
  },
  {
   "cell_type": "code",
   "execution_count": null,
   "metadata": {
    "execution": {
     "iopub.execute_input": "2023-05-05T21:06:11.537302Z",
     "iopub.status.busy": "2023-05-05T21:06:11.536715Z",
     "iopub.status.idle": "2023-05-05T21:06:11.578379Z",
     "shell.execute_reply": "2023-05-05T21:06:11.577192Z",
     "shell.execute_reply.started": "2023-05-05T21:06:11.537263Z"
    },
    "trusted": true
   },
   "outputs": [],
   "source": [
    "df[df['Delay_from_due_date']<0]"
   ]
  },
  {
   "cell_type": "code",
   "execution_count": null,
   "metadata": {
    "execution": {
     "iopub.execute_input": "2023-05-05T21:06:11.580596Z",
     "iopub.status.busy": "2023-05-05T21:06:11.5796Z",
     "iopub.status.idle": "2023-05-05T21:06:11.591512Z",
     "shell.execute_reply": "2023-05-05T21:06:11.590695Z",
     "shell.execute_reply.started": "2023-05-05T21:06:11.580549Z"
    },
    "trusted": true
   },
   "outputs": [],
   "source": [
    "df[df['Delay_from_due_date']<0]['Customer_ID'].unique()"
   ]
  },
  {
   "cell_type": "code",
   "execution_count": null,
   "metadata": {
    "execution": {
     "iopub.execute_input": "2023-05-05T21:06:11.592964Z",
     "iopub.status.busy": "2023-05-05T21:06:11.592645Z",
     "iopub.status.idle": "2023-05-05T21:06:11.624173Z",
     "shell.execute_reply": "2023-05-05T21:06:11.623283Z",
     "shell.execute_reply.started": "2023-05-05T21:06:11.592935Z"
    },
    "trusted": true
   },
   "outputs": [],
   "source": [
    "df[df['Customer_ID']==48234].iloc[:,0:15]"
   ]
  },
  {
   "cell_type": "code",
   "execution_count": null,
   "metadata": {
    "execution": {
     "iopub.execute_input": "2023-05-05T21:06:11.626699Z",
     "iopub.status.busy": "2023-05-05T21:06:11.625595Z",
     "iopub.status.idle": "2023-05-05T21:06:11.632894Z",
     "shell.execute_reply": "2023-05-05T21:06:11.631799Z",
     "shell.execute_reply.started": "2023-05-05T21:06:11.626664Z"
    },
    "trusted": true
   },
   "outputs": [],
   "source": [
    "df.loc[df['Delay_from_due_date']<0, 'Delay_from_due_date'] = None"
   ]
  },
  {
   "cell_type": "code",
   "execution_count": null,
   "metadata": {
    "execution": {
     "iopub.execute_input": "2023-05-05T21:06:11.636064Z",
     "iopub.status.busy": "2023-05-05T21:06:11.63536Z",
     "iopub.status.idle": "2023-05-05T21:06:20.166601Z",
     "shell.execute_reply": "2023-05-05T21:06:20.165369Z",
     "shell.execute_reply.started": "2023-05-05T21:06:11.636019Z"
    },
    "trusted": true
   },
   "outputs": [],
   "source": [
    "Numeric_Wrong_Values_Reassign_Group_Min_Max(df, 'Customer_ID', 'Delay_from_due_date')"
   ]
  },
  {
   "cell_type": "code",
   "execution_count": null,
   "metadata": {
    "execution": {
     "iopub.execute_input": "2023-05-05T21:06:20.168362Z",
     "iopub.status.busy": "2023-05-05T21:06:20.167929Z",
     "iopub.status.idle": "2023-05-05T21:06:20.208076Z",
     "shell.execute_reply": "2023-05-05T21:06:20.207267Z",
     "shell.execute_reply.started": "2023-05-05T21:06:20.168331Z"
    },
    "trusted": true
   },
   "outputs": [],
   "source": [
    "df[df['Num_of_Delayed_Payment']<0]"
   ]
  },
  {
   "cell_type": "code",
   "execution_count": null,
   "metadata": {
    "execution": {
     "iopub.execute_input": "2023-05-05T21:06:20.209708Z",
     "iopub.status.busy": "2023-05-05T21:06:20.209105Z",
     "iopub.status.idle": "2023-05-05T21:06:20.219428Z",
     "shell.execute_reply": "2023-05-05T21:06:20.218403Z",
     "shell.execute_reply.started": "2023-05-05T21:06:20.209678Z"
    },
    "trusted": true
   },
   "outputs": [],
   "source": [
    "df[df['Num_of_Delayed_Payment']<0]['Customer_ID'].unique()"
   ]
  },
  {
   "cell_type": "code",
   "execution_count": null,
   "metadata": {
    "execution": {
     "iopub.execute_input": "2023-05-05T21:06:20.22116Z",
     "iopub.status.busy": "2023-05-05T21:06:20.220687Z",
     "iopub.status.idle": "2023-05-05T21:06:20.254273Z",
     "shell.execute_reply": "2023-05-05T21:06:20.253296Z",
     "shell.execute_reply.started": "2023-05-05T21:06:20.221131Z"
    },
    "trusted": true
   },
   "outputs": [],
   "source": [
    "df[df['Customer_ID']==8625].iloc[:,0:20]"
   ]
  },
  {
   "cell_type": "code",
   "execution_count": null,
   "metadata": {
    "execution": {
     "iopub.execute_input": "2023-05-05T21:06:20.255942Z",
     "iopub.status.busy": "2023-05-05T21:06:20.25565Z",
     "iopub.status.idle": "2023-05-05T21:06:20.264588Z",
     "shell.execute_reply": "2023-05-05T21:06:20.263601Z",
     "shell.execute_reply.started": "2023-05-05T21:06:20.255915Z"
    },
    "trusted": true
   },
   "outputs": [],
   "source": [
    "df.loc[df['Num_of_Delayed_Payment']<0, 'Num_of_Delayed_Payment'] = None"
   ]
  },
  {
   "cell_type": "code",
   "execution_count": null,
   "metadata": {
    "execution": {
     "iopub.execute_input": "2023-05-05T21:06:20.266457Z",
     "iopub.status.busy": "2023-05-05T21:06:20.265816Z",
     "iopub.status.idle": "2023-05-05T21:06:28.845964Z",
     "shell.execute_reply": "2023-05-05T21:06:28.844858Z",
     "shell.execute_reply.started": "2023-05-05T21:06:20.266426Z"
    },
    "trusted": true
   },
   "outputs": [],
   "source": [
    "Numeric_Wrong_Values_Reassign_Group_Min_Max(df, 'Customer_ID', 'Num_of_Delayed_Payment')"
   ]
  },
  {
   "cell_type": "code",
   "execution_count": null,
   "metadata": {
    "execution": {
     "iopub.execute_input": "2023-05-05T21:06:28.847581Z",
     "iopub.status.busy": "2023-05-05T21:06:28.847258Z",
     "iopub.status.idle": "2023-05-05T21:06:28.891318Z",
     "shell.execute_reply": "2023-05-05T21:06:28.890202Z",
     "shell.execute_reply.started": "2023-05-05T21:06:28.84755Z"
    },
    "trusted": true
   },
   "outputs": [],
   "source": [
    "df[df['Monthly_Balance']<0]"
   ]
  },
  {
   "cell_type": "code",
   "execution_count": null,
   "metadata": {
    "execution": {
     "iopub.execute_input": "2023-05-05T21:06:28.893391Z",
     "iopub.status.busy": "2023-05-05T21:06:28.892782Z",
     "iopub.status.idle": "2023-05-05T21:06:28.901151Z",
     "shell.execute_reply": "2023-05-05T21:06:28.900227Z",
     "shell.execute_reply.started": "2023-05-05T21:06:28.893358Z"
    },
    "trusted": true
   },
   "outputs": [],
   "source": [
    "df[df['Monthly_Balance']<0]['Customer_ID'].unique()"
   ]
  },
  {
   "cell_type": "code",
   "execution_count": null,
   "metadata": {
    "execution": {
     "iopub.execute_input": "2023-05-05T21:06:28.903212Z",
     "iopub.status.busy": "2023-05-05T21:06:28.902526Z",
     "iopub.status.idle": "2023-05-05T21:06:28.941536Z",
     "shell.execute_reply": "2023-05-05T21:06:28.940394Z",
     "shell.execute_reply.started": "2023-05-05T21:06:28.90318Z"
    },
    "trusted": true
   },
   "outputs": [],
   "source": [
    "df[df['Customer_ID']==23184]"
   ]
  },
  {
   "cell_type": "code",
   "execution_count": null,
   "metadata": {
    "execution": {
     "iopub.execute_input": "2023-05-05T21:06:28.943014Z",
     "iopub.status.busy": "2023-05-05T21:06:28.942702Z",
     "iopub.status.idle": "2023-05-05T21:06:28.949568Z",
     "shell.execute_reply": "2023-05-05T21:06:28.948297Z",
     "shell.execute_reply.started": "2023-05-05T21:06:28.942985Z"
    },
    "trusted": true
   },
   "outputs": [],
   "source": [
    "df.loc[df['Monthly_Balance']<0, 'Monthly_Balance'] = None"
   ]
  },
  {
   "cell_type": "code",
   "execution_count": null,
   "metadata": {
    "execution": {
     "iopub.execute_input": "2023-05-05T21:06:28.951539Z",
     "iopub.status.busy": "2023-05-05T21:06:28.951164Z",
     "iopub.status.idle": "2023-05-05T21:06:37.61923Z",
     "shell.execute_reply": "2023-05-05T21:06:37.618014Z",
     "shell.execute_reply.started": "2023-05-05T21:06:28.951508Z"
    },
    "trusted": true
   },
   "outputs": [],
   "source": [
    "Numeric_Wrong_Values_Reassign_Group_Min_Max(df, 'Customer_ID', 'Monthly_Balance')"
   ]
  },
  {
   "cell_type": "code",
   "execution_count": null,
   "metadata": {
    "execution": {
     "iopub.execute_input": "2023-05-05T21:06:37.621549Z",
     "iopub.status.busy": "2023-05-05T21:06:37.620938Z",
     "iopub.status.idle": "2023-05-05T21:06:37.669281Z",
     "shell.execute_reply": "2023-05-05T21:06:37.668193Z",
     "shell.execute_reply.started": "2023-05-05T21:06:37.621503Z"
    },
    "trusted": true
   },
   "outputs": [],
   "source": [
    "df[df['Amount_invested_monthly']>=10000]"
   ]
  },
  {
   "cell_type": "code",
   "execution_count": null,
   "metadata": {
    "execution": {
     "iopub.execute_input": "2023-05-05T21:06:37.671519Z",
     "iopub.status.busy": "2023-05-05T21:06:37.671061Z",
     "iopub.status.idle": "2023-05-05T21:06:37.685665Z",
     "shell.execute_reply": "2023-05-05T21:06:37.684431Z",
     "shell.execute_reply.started": "2023-05-05T21:06:37.671465Z"
    },
    "trusted": true
   },
   "outputs": [],
   "source": [
    "df[df['Amount_invested_monthly']>=10000]['Customer_ID'].unique()"
   ]
  },
  {
   "cell_type": "code",
   "execution_count": null,
   "metadata": {
    "execution": {
     "iopub.execute_input": "2023-05-05T21:06:37.69799Z",
     "iopub.status.busy": "2023-05-05T21:06:37.697532Z",
     "iopub.status.idle": "2023-05-05T21:06:37.737461Z",
     "shell.execute_reply": "2023-05-05T21:06:37.736511Z",
     "shell.execute_reply.started": "2023-05-05T21:06:37.697956Z"
    },
    "trusted": true
   },
   "outputs": [],
   "source": [
    "df[df['Customer_ID']==44897]"
   ]
  },
  {
   "cell_type": "code",
   "execution_count": null,
   "metadata": {
    "execution": {
     "iopub.execute_input": "2023-05-05T21:06:37.739459Z",
     "iopub.status.busy": "2023-05-05T21:06:37.738877Z",
     "iopub.status.idle": "2023-05-05T21:06:37.936073Z",
     "shell.execute_reply": "2023-05-05T21:06:37.93498Z",
     "shell.execute_reply.started": "2023-05-05T21:06:37.739416Z"
    },
    "trusted": true
   },
   "outputs": [],
   "source": [
    "df['Amount_invested_monthly'].plot(kind='box', vert=0)"
   ]
  },
  {
   "cell_type": "code",
   "execution_count": null,
   "metadata": {
    "execution": {
     "iopub.execute_input": "2023-05-05T21:06:37.937809Z",
     "iopub.status.busy": "2023-05-05T21:06:37.937461Z",
     "iopub.status.idle": "2023-05-05T21:06:37.944945Z",
     "shell.execute_reply": "2023-05-05T21:06:37.943967Z",
     "shell.execute_reply.started": "2023-05-05T21:06:37.937777Z"
    },
    "trusted": true
   },
   "outputs": [],
   "source": [
    "df.loc[df['Amount_invested_monthly']>=10000, 'Amount_invested_monthly'] = None"
   ]
  },
  {
   "cell_type": "code",
   "execution_count": null,
   "metadata": {
    "execution": {
     "iopub.execute_input": "2023-05-05T21:06:37.946541Z",
     "iopub.status.busy": "2023-05-05T21:06:37.946185Z",
     "iopub.status.idle": "2023-05-05T21:06:38.131724Z",
     "shell.execute_reply": "2023-05-05T21:06:38.130894Z",
     "shell.execute_reply.started": "2023-05-05T21:06:37.946509Z"
    },
    "trusted": true
   },
   "outputs": [],
   "source": [
    "df['Amount_invested_monthly'].plot(kind='box', vert=0)"
   ]
  },
  {
   "cell_type": "code",
   "execution_count": null,
   "metadata": {
    "execution": {
     "iopub.execute_input": "2023-05-05T21:06:38.133768Z",
     "iopub.status.busy": "2023-05-05T21:06:38.133167Z",
     "iopub.status.idle": "2023-05-05T21:06:43.099629Z",
     "shell.execute_reply": "2023-05-05T21:06:43.098285Z",
     "shell.execute_reply.started": "2023-05-05T21:06:38.133735Z"
    },
    "trusted": true
   },
   "outputs": [],
   "source": [
    "# fill group Mode\n",
    "df['Amount_invested_monthly'] = df.groupby('Customer_ID')['Amount_invested_monthly'].transform(lambda x: x.mode()[0] if not x.mode().empty else np.NaN)"
   ]
  },
  {
   "cell_type": "code",
   "execution_count": null,
   "metadata": {
    "execution": {
     "iopub.execute_input": "2023-05-05T21:06:43.101424Z",
     "iopub.status.busy": "2023-05-05T21:06:43.101064Z",
     "iopub.status.idle": "2023-05-05T21:06:43.175342Z",
     "shell.execute_reply": "2023-05-05T21:06:43.173999Z",
     "shell.execute_reply.started": "2023-05-05T21:06:43.101389Z"
    },
    "trusted": true
   },
   "outputs": [],
   "source": [
    "# train check\n",
    "df[df['Credit_Score'].notna()].info()"
   ]
  },
  {
   "cell_type": "code",
   "execution_count": null,
   "metadata": {
    "execution": {
     "iopub.execute_input": "2023-05-05T21:06:43.177153Z",
     "iopub.status.busy": "2023-05-05T21:06:43.176764Z",
     "iopub.status.idle": "2023-05-05T21:06:45.16399Z",
     "shell.execute_reply": "2023-05-05T21:06:45.162747Z",
     "shell.execute_reply.started": "2023-05-05T21:06:43.177119Z"
    },
    "trusted": true
   },
   "outputs": [],
   "source": [
    "# train save\n",
    "df[df['Credit_Score'].notna()].to_csv(\"train.csv\", index=False)"
   ]
  },
  {
   "cell_type": "code",
   "execution_count": null,
   "metadata": {
    "execution": {
     "iopub.execute_input": "2023-05-05T21:06:45.165838Z",
     "iopub.status.busy": "2023-05-05T21:06:45.165492Z",
     "iopub.status.idle": "2023-05-05T21:06:45.224305Z",
     "shell.execute_reply": "2023-05-05T21:06:45.222909Z",
     "shell.execute_reply.started": "2023-05-05T21:06:45.165807Z"
    },
    "trusted": true
   },
   "outputs": [],
   "source": [
    "# test check\n",
    "df[df['Credit_Score'].isna()].info()"
   ]
  },
  {
   "cell_type": "code",
   "execution_count": null,
   "metadata": {
    "execution": {
     "iopub.execute_input": "2023-05-05T21:06:45.226663Z",
     "iopub.status.busy": "2023-05-05T21:06:45.226046Z",
     "iopub.status.idle": "2023-05-05T21:06:46.240407Z",
     "shell.execute_reply": "2023-05-05T21:06:46.239215Z",
     "shell.execute_reply.started": "2023-05-05T21:06:45.226613Z"
    },
    "trusted": true
   },
   "outputs": [],
   "source": [
    "# test save\n",
    "df[df['Credit_Score'].isna()].drop(columns='Credit_Score').to_csv(\"test.csv\", index=False)"
   ]
  },
  {
   "cell_type": "markdown",
   "metadata": {},
   "source": [
    "## Download Link"
   ]
  },
  {
   "cell_type": "code",
   "execution_count": null,
   "metadata": {
    "execution": {
     "iopub.execute_input": "2023-05-05T21:06:46.242761Z",
     "iopub.status.busy": "2023-05-05T21:06:46.242275Z",
     "iopub.status.idle": "2023-05-05T21:06:46.252487Z",
     "shell.execute_reply": "2023-05-05T21:06:46.251123Z",
     "shell.execute_reply.started": "2023-05-05T21:06:46.242718Z"
    },
    "trusted": true
   },
   "outputs": [],
   "source": [
    "from IPython.display import FileLink, FileLinks\n",
    "train_file = FileLink(r'train.csv', result_html_prefix=\"Click here to download: \")\n",
    "test_file = FileLink(r'test.csv', result_html_prefix=\"Click here to download: \")\n",
    "\n",
    "display(train_file, test_file)"
   ]
  },
  {
   "cell_type": "markdown",
   "metadata": {},
   "source": [
    "# End of the Project"
   ]
  }
 ],
 "metadata": {
  "kaggle": {
   "accelerator": "none",
   "dataSources": [
    {
     "datasetId": 2289007,
     "sourceId": 3846912,
     "sourceType": "datasetVersion"
    },
    {
     "datasetId": 2548811,
     "sourceId": 7157567,
     "sourceType": "datasetVersion"
    }
   ],
   "dockerImageVersionId": 30207,
   "isGpuEnabled": false,
   "isInternetEnabled": false,
   "language": "python",
   "sourceType": "notebook"
  },
  "kernelspec": {
   "display_name": "libs",
   "language": "python",
   "name": "python3"
  },
  "language_info": {
   "codemirror_mode": {
    "name": "ipython",
    "version": 3
   },
   "file_extension": ".py",
   "mimetype": "text/x-python",
   "name": "python",
   "nbconvert_exporter": "python",
   "pygments_lexer": "ipython3",
   "version": "3.11.13"
  }
 },
 "nbformat": 4,
 "nbformat_minor": 4
}
